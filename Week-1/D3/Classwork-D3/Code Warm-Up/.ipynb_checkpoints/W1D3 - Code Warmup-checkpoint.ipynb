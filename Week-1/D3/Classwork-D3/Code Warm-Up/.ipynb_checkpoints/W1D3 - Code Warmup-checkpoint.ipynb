{
 "cells": [
  {
   "cell_type": "markdown",
   "metadata": {},
   "source": [
    "# <font color='#eb3483'> Warming up SQL and pandas </font>\n",
    "\n",
    "To get everyone in the right mindset for today's class, we have a mini SQL and pandas challenge! I've already given you the code before to set-up a database connection to the nobel database. You take it from here :)"
   ]
  },
  {
   "cell_type": "code",
   "execution_count": null,
   "metadata": {},
   "outputs": [],
   "source": [
    "#Import our packages\n",
    "import sqlite3\n",
    "from sqlite3 import Error #We're going to use this for some fancy error handling\n",
    "import pandas as pd"
   ]
  },
  {
   "cell_type": "code",
   "execution_count": null,
   "metadata": {},
   "outputs": [],
   "source": [
    "def db_connect(db_name):\n",
    "    try:\n",
    "        conn = sqlite3.connect(db_name)\n",
    "        print(\"Connection established\")\n",
    "    except Error:\n",
    "        print(Error, \"Cannot create connection to database\")\n",
    "    return conn"
   ]
  },
  {
   "cell_type": "code",
   "execution_count": null,
   "metadata": {},
   "outputs": [],
   "source": [
    "conn = db_connect(\"data/nobel.db\")"
   ]
  },
  {
   "cell_type": "markdown",
   "metadata": {},
   "source": [
    "### <font color='#eb3483'> Exercise 1 </font>\n",
    "Recall that the laureates table in our database has demographic information about every nobel laureate. Write and execute a SQL query to find the total number of laureates for each gender."
   ]
  },
  {
   "cell_type": "code",
   "execution_count": null,
   "metadata": {
    "scrolled": true
   },
   "outputs": [],
   "source": []
  },
  {
   "cell_type": "markdown",
   "metadata": {},
   "source": [
    "### <font color='#eb3483'> Exercise 2 </font>\n",
    "What country has the most female laureates? For this question you can either write it all in SQL (you might need to use `ORDER BY` clause which sorts rows in a query), or write sql and then sort using pandas."
   ]
  },
  {
   "cell_type": "code",
   "execution_count": null,
   "metadata": {},
   "outputs": [],
   "source": []
  }
 ],
 "metadata": {
  "kernelspec": {
   "display_name": "Python 3",
   "language": "python",
   "name": "python3"
  },
  "language_info": {
   "codemirror_mode": {
    "name": "ipython",
    "version": 3
   },
   "file_extension": ".py",
   "mimetype": "text/x-python",
   "name": "python",
   "nbconvert_exporter": "python",
   "pygments_lexer": "ipython3",
   "version": "3.8.3"
  }
 },
 "nbformat": 4,
 "nbformat_minor": 4
}
