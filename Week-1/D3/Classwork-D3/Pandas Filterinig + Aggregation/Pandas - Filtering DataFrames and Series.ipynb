{
 "cells": [
  {
   "cell_type": "markdown",
   "metadata": {
    "slideshow": {
     "slide_type": "-"
    }
   },
   "source": [
    "# <font color='#eb3483'> Filtering in Pandas </font>"
   ]
  },
  {
   "cell_type": "markdown",
   "metadata": {},
   "source": [
    "Once we have read our data frame in and had a look around we may want to start working with specific columns or rows, or data that only meets a certain criteria. We do this with filtering.   \n",
    "\n",
    "Indices are incredibly useful, because they allow us to quickly and intuitively (especially if we've used a meaningful index) pick out relative data points. In this module we're going to learn how to use indices to filter our dataframes.\n",
    "\n",
    "The two most fundamental commands for indexing are `loc` and `iloc` (integar-loc) followed by an identifier for the desired location in square brackets. Mastering the use of `loc` and `iloc` early will set you in good stead for use of the Pandas data API.\n",
    "\n",
    "1. There are two things you should know about `iloc`. Firstly, it is reserved for purely number-based indexing (integars only). So if you ever call iloc with a non-integer index, it will throw an error. Secondly, `iloc` **does not interact with your index at all** -> important to remember if your index is integer-based.\n",
    "2. `loc` is based purely on the assigned index for your dataframe.\n"
   ]
  },
  {
   "cell_type": "markdown",
   "metadata": {},
   "source": [
    "In this notebook we will cover:\n",
    "<font color='#eb3483'>\n",
    "1. Selecting rows by their numerical position - iloc\n",
    "1. Selecting rows by their index - loc\n",
    "1. Selecting columns\n",
    "1. Advanced filtering\n",
    " - mask & where\n",
    " - filtering with []\n",
    " - multiple selctions\n",
    "    </font>"
   ]
  },
  {
   "cell_type": "code",
   "execution_count": 1,
   "metadata": {
    "slideshow": {
     "slide_type": "-"
    }
   },
   "outputs": [],
   "source": [
    "import pandas as pd"
   ]
  },
  {
   "cell_type": "markdown",
   "metadata": {},
   "source": [
    "We are going to use a dataset that has Airbnb listing information in Lisbon."
   ]
  },
  {
   "cell_type": "code",
   "execution_count": 2,
   "metadata": {
    "slideshow": {
     "slide_type": "-"
    }
   },
   "outputs": [],
   "source": [
    "df = pd.read_csv('data/airbnb.csv', index_col='room_id') #indexing the df using room_id"
   ]
  },
  {
   "cell_type": "code",
   "execution_count": 3,
   "metadata": {},
   "outputs": [
    {
     "data": {
      "text/plain": [
       "(13232, 8)"
      ]
     },
     "execution_count": 3,
     "metadata": {},
     "output_type": "execute_result"
    }
   ],
   "source": [
    "# look at the shape\n",
    "df.shape"
   ]
  },
  {
   "cell_type": "code",
   "execution_count": 4,
   "metadata": {},
   "outputs": [
    {
     "data": {
      "text/html": [
       "<div>\n",
       "<style scoped>\n",
       "    .dataframe tbody tr th:only-of-type {\n",
       "        vertical-align: middle;\n",
       "    }\n",
       "\n",
       "    .dataframe tbody tr th {\n",
       "        vertical-align: top;\n",
       "    }\n",
       "\n",
       "    .dataframe thead th {\n",
       "        text-align: right;\n",
       "    }\n",
       "</style>\n",
       "<table border=\"1\" class=\"dataframe\">\n",
       "  <thead>\n",
       "    <tr style=\"text-align: right;\">\n",
       "      <th></th>\n",
       "      <th>host_id</th>\n",
       "      <th>room_type</th>\n",
       "      <th>neighborhood</th>\n",
       "      <th>reviews</th>\n",
       "      <th>overall_satisfaction</th>\n",
       "      <th>accommodates</th>\n",
       "      <th>bedrooms</th>\n",
       "      <th>price</th>\n",
       "    </tr>\n",
       "    <tr>\n",
       "      <th>room_id</th>\n",
       "      <th></th>\n",
       "      <th></th>\n",
       "      <th></th>\n",
       "      <th></th>\n",
       "      <th></th>\n",
       "      <th></th>\n",
       "      <th></th>\n",
       "      <th></th>\n",
       "    </tr>\n",
       "  </thead>\n",
       "  <tbody>\n",
       "    <tr>\n",
       "      <th>6499</th>\n",
       "      <td>14455</td>\n",
       "      <td>Entire home/apt</td>\n",
       "      <td>Belém</td>\n",
       "      <td>8</td>\n",
       "      <td>5.0</td>\n",
       "      <td>2</td>\n",
       "      <td>1.0</td>\n",
       "      <td>57.0</td>\n",
       "    </tr>\n",
       "    <tr>\n",
       "      <th>17031</th>\n",
       "      <td>66015</td>\n",
       "      <td>Entire home/apt</td>\n",
       "      <td>Alvalade</td>\n",
       "      <td>0</td>\n",
       "      <td>0.0</td>\n",
       "      <td>2</td>\n",
       "      <td>1.0</td>\n",
       "      <td>46.0</td>\n",
       "    </tr>\n",
       "    <tr>\n",
       "      <th>25659</th>\n",
       "      <td>107347</td>\n",
       "      <td>Entire home/apt</td>\n",
       "      <td>Santa Maria Maior</td>\n",
       "      <td>63</td>\n",
       "      <td>5.0</td>\n",
       "      <td>3</td>\n",
       "      <td>1.0</td>\n",
       "      <td>69.0</td>\n",
       "    </tr>\n",
       "    <tr>\n",
       "      <th>29248</th>\n",
       "      <td>125768</td>\n",
       "      <td>Entire home/apt</td>\n",
       "      <td>Santa Maria Maior</td>\n",
       "      <td>225</td>\n",
       "      <td>4.5</td>\n",
       "      <td>4</td>\n",
       "      <td>1.0</td>\n",
       "      <td>58.0</td>\n",
       "    </tr>\n",
       "    <tr>\n",
       "      <th>29396</th>\n",
       "      <td>126415</td>\n",
       "      <td>Entire home/apt</td>\n",
       "      <td>Santa Maria Maior</td>\n",
       "      <td>132</td>\n",
       "      <td>5.0</td>\n",
       "      <td>4</td>\n",
       "      <td>1.0</td>\n",
       "      <td>67.0</td>\n",
       "    </tr>\n",
       "  </tbody>\n",
       "</table>\n",
       "</div>"
      ],
      "text/plain": [
       "         host_id        room_type       neighborhood  reviews  \\\n",
       "room_id                                                         \n",
       "6499       14455  Entire home/apt              Belém        8   \n",
       "17031      66015  Entire home/apt           Alvalade        0   \n",
       "25659     107347  Entire home/apt  Santa Maria Maior       63   \n",
       "29248     125768  Entire home/apt  Santa Maria Maior      225   \n",
       "29396     126415  Entire home/apt  Santa Maria Maior      132   \n",
       "\n",
       "         overall_satisfaction  accommodates  bedrooms  price  \n",
       "room_id                                                       \n",
       "6499                      5.0             2       1.0   57.0  \n",
       "17031                     0.0             2       1.0   46.0  \n",
       "25659                     5.0             3       1.0   69.0  \n",
       "29248                     4.5             4       1.0   58.0  \n",
       "29396                     5.0             4       1.0   67.0  "
      ]
     },
     "execution_count": 4,
     "metadata": {},
     "output_type": "execute_result"
    }
   ],
   "source": [
    "#look at the head\n",
    "df.head()"
   ]
  },
  {
   "cell_type": "markdown",
   "metadata": {
    "slideshow": {
     "slide_type": "slide"
    }
   },
   "source": [
    "## <font color='#eb3483'> 1. Selecting rows by their position - iloc </font>\n",
    "\n",
    "We use the function `iloc` to select specific rows on a Data Frame (regardless of the index).\n",
    "\n",
    "With `iloc` we select rows regarding their row number, starting at 0."
   ]
  },
  {
   "cell_type": "code",
   "execution_count": 5,
   "metadata": {
    "slideshow": {
     "slide_type": "slide"
    }
   },
   "outputs": [
    {
     "data": {
      "text/plain": [
       "host_id                           14455\n",
       "room_type               Entire home/apt\n",
       "neighborhood                      Belém\n",
       "reviews                               8\n",
       "overall_satisfaction                5.0\n",
       "accommodates                          2\n",
       "bedrooms                            1.0\n",
       "price                              57.0\n",
       "Name: 6499, dtype: object"
      ]
     },
     "execution_count": 5,
     "metadata": {},
     "output_type": "execute_result"
    }
   ],
   "source": [
    "df.iloc[0] # using one square bracket returns it as a series"
   ]
  },
  {
   "cell_type": "code",
   "execution_count": 6,
   "metadata": {},
   "outputs": [
    {
     "data": {
      "text/plain": [
       "pandas.core.series.Series"
      ]
     },
     "execution_count": 6,
     "metadata": {},
     "output_type": "execute_result"
    }
   ],
   "source": [
    "type(df.iloc[0])"
   ]
  },
  {
   "cell_type": "markdown",
   "metadata": {},
   "source": [
    "Generally we would want to keep working with a dataframe - so we use double brackets `[[]]`"
   ]
  },
  {
   "cell_type": "code",
   "execution_count": 7,
   "metadata": {},
   "outputs": [
    {
     "data": {
      "text/html": [
       "<div>\n",
       "<style scoped>\n",
       "    .dataframe tbody tr th:only-of-type {\n",
       "        vertical-align: middle;\n",
       "    }\n",
       "\n",
       "    .dataframe tbody tr th {\n",
       "        vertical-align: top;\n",
       "    }\n",
       "\n",
       "    .dataframe thead th {\n",
       "        text-align: right;\n",
       "    }\n",
       "</style>\n",
       "<table border=\"1\" class=\"dataframe\">\n",
       "  <thead>\n",
       "    <tr style=\"text-align: right;\">\n",
       "      <th></th>\n",
       "      <th>host_id</th>\n",
       "      <th>room_type</th>\n",
       "      <th>neighborhood</th>\n",
       "      <th>reviews</th>\n",
       "      <th>overall_satisfaction</th>\n",
       "      <th>accommodates</th>\n",
       "      <th>bedrooms</th>\n",
       "      <th>price</th>\n",
       "    </tr>\n",
       "    <tr>\n",
       "      <th>room_id</th>\n",
       "      <th></th>\n",
       "      <th></th>\n",
       "      <th></th>\n",
       "      <th></th>\n",
       "      <th></th>\n",
       "      <th></th>\n",
       "      <th></th>\n",
       "      <th></th>\n",
       "    </tr>\n",
       "  </thead>\n",
       "  <tbody>\n",
       "    <tr>\n",
       "      <th>6499</th>\n",
       "      <td>14455</td>\n",
       "      <td>Entire home/apt</td>\n",
       "      <td>Belém</td>\n",
       "      <td>8</td>\n",
       "      <td>5.0</td>\n",
       "      <td>2</td>\n",
       "      <td>1.0</td>\n",
       "      <td>57.0</td>\n",
       "    </tr>\n",
       "  </tbody>\n",
       "</table>\n",
       "</div>"
      ],
      "text/plain": [
       "         host_id        room_type neighborhood  reviews  overall_satisfaction  \\\n",
       "room_id                                                                         \n",
       "6499       14455  Entire home/apt        Belém        8                   5.0   \n",
       "\n",
       "         accommodates  bedrooms  price  \n",
       "room_id                                 \n",
       "6499                2       1.0   57.0  "
      ]
     },
     "execution_count": 7,
     "metadata": {},
     "output_type": "execute_result"
    }
   ],
   "source": [
    "df.iloc[[0]]"
   ]
  },
  {
   "cell_type": "markdown",
   "metadata": {
    "collapsed": true,
    "scrolled": true
   },
   "source": [
    "We can select multiple rows at once:"
   ]
  },
  {
   "cell_type": "code",
   "execution_count": 8,
   "metadata": {},
   "outputs": [
    {
     "data": {
      "text/html": [
       "<div>\n",
       "<style scoped>\n",
       "    .dataframe tbody tr th:only-of-type {\n",
       "        vertical-align: middle;\n",
       "    }\n",
       "\n",
       "    .dataframe tbody tr th {\n",
       "        vertical-align: top;\n",
       "    }\n",
       "\n",
       "    .dataframe thead th {\n",
       "        text-align: right;\n",
       "    }\n",
       "</style>\n",
       "<table border=\"1\" class=\"dataframe\">\n",
       "  <thead>\n",
       "    <tr style=\"text-align: right;\">\n",
       "      <th></th>\n",
       "      <th>host_id</th>\n",
       "      <th>room_type</th>\n",
       "      <th>neighborhood</th>\n",
       "      <th>reviews</th>\n",
       "      <th>overall_satisfaction</th>\n",
       "      <th>accommodates</th>\n",
       "      <th>bedrooms</th>\n",
       "      <th>price</th>\n",
       "    </tr>\n",
       "    <tr>\n",
       "      <th>room_id</th>\n",
       "      <th></th>\n",
       "      <th></th>\n",
       "      <th></th>\n",
       "      <th></th>\n",
       "      <th></th>\n",
       "      <th></th>\n",
       "      <th></th>\n",
       "      <th></th>\n",
       "    </tr>\n",
       "  </thead>\n",
       "  <tbody>\n",
       "    <tr>\n",
       "      <th>6499</th>\n",
       "      <td>14455</td>\n",
       "      <td>Entire home/apt</td>\n",
       "      <td>Belém</td>\n",
       "      <td>8</td>\n",
       "      <td>5.0</td>\n",
       "      <td>2</td>\n",
       "      <td>1.0</td>\n",
       "      <td>57.0</td>\n",
       "    </tr>\n",
       "    <tr>\n",
       "      <th>29248</th>\n",
       "      <td>125768</td>\n",
       "      <td>Entire home/apt</td>\n",
       "      <td>Santa Maria Maior</td>\n",
       "      <td>225</td>\n",
       "      <td>4.5</td>\n",
       "      <td>4</td>\n",
       "      <td>1.0</td>\n",
       "      <td>58.0</td>\n",
       "    </tr>\n",
       "    <tr>\n",
       "      <th>29720</th>\n",
       "      <td>128075</td>\n",
       "      <td>Entire home/apt</td>\n",
       "      <td>Estrela</td>\n",
       "      <td>14</td>\n",
       "      <td>5.0</td>\n",
       "      <td>16</td>\n",
       "      <td>9.0</td>\n",
       "      <td>1154.0</td>\n",
       "    </tr>\n",
       "  </tbody>\n",
       "</table>\n",
       "</div>"
      ],
      "text/plain": [
       "         host_id        room_type       neighborhood  reviews  \\\n",
       "room_id                                                         \n",
       "6499       14455  Entire home/apt              Belém        8   \n",
       "29248     125768  Entire home/apt  Santa Maria Maior      225   \n",
       "29720     128075  Entire home/apt            Estrela       14   \n",
       "\n",
       "         overall_satisfaction  accommodates  bedrooms   price  \n",
       "room_id                                                        \n",
       "6499                      5.0             2       1.0    57.0  \n",
       "29248                     4.5             4       1.0    58.0  \n",
       "29720                     5.0            16       9.0  1154.0  "
      ]
     },
     "execution_count": 8,
     "metadata": {},
     "output_type": "execute_result"
    }
   ],
   "source": [
    "df.iloc[[0,3,5]]"
   ]
  },
  {
   "cell_type": "markdown",
   "metadata": {
    "scrolled": true
   },
   "source": [
    "Or use slices like with arrays:"
   ]
  },
  {
   "cell_type": "code",
   "execution_count": 9,
   "metadata": {},
   "outputs": [
    {
     "data": {
      "text/html": [
       "<div>\n",
       "<style scoped>\n",
       "    .dataframe tbody tr th:only-of-type {\n",
       "        vertical-align: middle;\n",
       "    }\n",
       "\n",
       "    .dataframe tbody tr th {\n",
       "        vertical-align: top;\n",
       "    }\n",
       "\n",
       "    .dataframe thead th {\n",
       "        text-align: right;\n",
       "    }\n",
       "</style>\n",
       "<table border=\"1\" class=\"dataframe\">\n",
       "  <thead>\n",
       "    <tr style=\"text-align: right;\">\n",
       "      <th></th>\n",
       "      <th>host_id</th>\n",
       "      <th>room_type</th>\n",
       "      <th>neighborhood</th>\n",
       "      <th>reviews</th>\n",
       "      <th>overall_satisfaction</th>\n",
       "      <th>accommodates</th>\n",
       "      <th>bedrooms</th>\n",
       "      <th>price</th>\n",
       "    </tr>\n",
       "    <tr>\n",
       "      <th>room_id</th>\n",
       "      <th></th>\n",
       "      <th></th>\n",
       "      <th></th>\n",
       "      <th></th>\n",
       "      <th></th>\n",
       "      <th></th>\n",
       "      <th></th>\n",
       "      <th></th>\n",
       "    </tr>\n",
       "  </thead>\n",
       "  <tbody>\n",
       "    <tr>\n",
       "      <th>25659</th>\n",
       "      <td>107347</td>\n",
       "      <td>Entire home/apt</td>\n",
       "      <td>Santa Maria Maior</td>\n",
       "      <td>63</td>\n",
       "      <td>5.0</td>\n",
       "      <td>3</td>\n",
       "      <td>1.0</td>\n",
       "      <td>69.0</td>\n",
       "    </tr>\n",
       "    <tr>\n",
       "      <th>29248</th>\n",
       "      <td>125768</td>\n",
       "      <td>Entire home/apt</td>\n",
       "      <td>Santa Maria Maior</td>\n",
       "      <td>225</td>\n",
       "      <td>4.5</td>\n",
       "      <td>4</td>\n",
       "      <td>1.0</td>\n",
       "      <td>58.0</td>\n",
       "    </tr>\n",
       "    <tr>\n",
       "      <th>29396</th>\n",
       "      <td>126415</td>\n",
       "      <td>Entire home/apt</td>\n",
       "      <td>Santa Maria Maior</td>\n",
       "      <td>132</td>\n",
       "      <td>5.0</td>\n",
       "      <td>4</td>\n",
       "      <td>1.0</td>\n",
       "      <td>67.0</td>\n",
       "    </tr>\n",
       "    <tr>\n",
       "      <th>29720</th>\n",
       "      <td>128075</td>\n",
       "      <td>Entire home/apt</td>\n",
       "      <td>Estrela</td>\n",
       "      <td>14</td>\n",
       "      <td>5.0</td>\n",
       "      <td>16</td>\n",
       "      <td>9.0</td>\n",
       "      <td>1154.0</td>\n",
       "    </tr>\n",
       "    <tr>\n",
       "      <th>29872</th>\n",
       "      <td>128698</td>\n",
       "      <td>Entire home/apt</td>\n",
       "      <td>Alcântara</td>\n",
       "      <td>25</td>\n",
       "      <td>5.0</td>\n",
       "      <td>2</td>\n",
       "      <td>1.0</td>\n",
       "      <td>75.0</td>\n",
       "    </tr>\n",
       "    <tr>\n",
       "      <th>29891</th>\n",
       "      <td>128792</td>\n",
       "      <td>Entire home/apt</td>\n",
       "      <td>Misericórdia</td>\n",
       "      <td>28</td>\n",
       "      <td>5.0</td>\n",
       "      <td>3</td>\n",
       "      <td>1.0</td>\n",
       "      <td>49.0</td>\n",
       "    </tr>\n",
       "    <tr>\n",
       "      <th>29915</th>\n",
       "      <td>128890</td>\n",
       "      <td>Entire home/apt</td>\n",
       "      <td>Avenidas Novas</td>\n",
       "      <td>28</td>\n",
       "      <td>4.5</td>\n",
       "      <td>3</td>\n",
       "      <td>1.0</td>\n",
       "      <td>58.0</td>\n",
       "    </tr>\n",
       "    <tr>\n",
       "      <th>33312</th>\n",
       "      <td>144398</td>\n",
       "      <td>Entire home/apt</td>\n",
       "      <td>Misericórdia</td>\n",
       "      <td>24</td>\n",
       "      <td>4.5</td>\n",
       "      <td>4</td>\n",
       "      <td>1.0</td>\n",
       "      <td>66.0</td>\n",
       "    </tr>\n",
       "  </tbody>\n",
       "</table>\n",
       "</div>"
      ],
      "text/plain": [
       "         host_id        room_type       neighborhood  reviews  \\\n",
       "room_id                                                         \n",
       "25659     107347  Entire home/apt  Santa Maria Maior       63   \n",
       "29248     125768  Entire home/apt  Santa Maria Maior      225   \n",
       "29396     126415  Entire home/apt  Santa Maria Maior      132   \n",
       "29720     128075  Entire home/apt            Estrela       14   \n",
       "29872     128698  Entire home/apt          Alcântara       25   \n",
       "29891     128792  Entire home/apt       Misericórdia       28   \n",
       "29915     128890  Entire home/apt     Avenidas Novas       28   \n",
       "33312     144398  Entire home/apt       Misericórdia       24   \n",
       "\n",
       "         overall_satisfaction  accommodates  bedrooms   price  \n",
       "room_id                                                        \n",
       "25659                     5.0             3       1.0    69.0  \n",
       "29248                     4.5             4       1.0    58.0  \n",
       "29396                     5.0             4       1.0    67.0  \n",
       "29720                     5.0            16       9.0  1154.0  \n",
       "29872                     5.0             2       1.0    75.0  \n",
       "29891                     5.0             3       1.0    49.0  \n",
       "29915                     4.5             3       1.0    58.0  \n",
       "33312                     4.5             4       1.0    66.0  "
      ]
     },
     "execution_count": 9,
     "metadata": {},
     "output_type": "execute_result"
    }
   ],
   "source": [
    "#select rows 2:10\n",
    "\n",
    "df.iloc[2:10]"
   ]
  },
  {
   "cell_type": "markdown",
   "metadata": {},
   "source": [
    "## <font color='#eb3483'> 2. Selecting rows by their index value - loc </font>\n",
    "\n",
    "With `.loc` we can select rows based on their index value."
   ]
  },
  {
   "cell_type": "markdown",
   "metadata": {},
   "source": [
    "Since we have set the dataframe index as the Airbnb listing, we can select a specific room based on its id, for example, the listing 10186098."
   ]
  },
  {
   "cell_type": "code",
   "execution_count": 10,
   "metadata": {},
   "outputs": [
    {
     "data": {
      "text/plain": [
       "host_id                            126415\n",
       "room_type                 Entire home/apt\n",
       "neighborhood            Santa Maria Maior\n",
       "reviews                               132\n",
       "overall_satisfaction                  5.0\n",
       "accommodates                            4\n",
       "bedrooms                              1.0\n",
       "price                                67.0\n",
       "Name: 29396, dtype: object"
      ]
     },
     "execution_count": 10,
     "metadata": {},
     "output_type": "execute_result"
    }
   ],
   "source": [
    "df.loc[29396]"
   ]
  },
  {
   "cell_type": "markdown",
   "metadata": {},
   "source": [
    "Selecting an index value that doesnt exist will fail"
   ]
  },
  {
   "cell_type": "code",
   "execution_count": 11,
   "metadata": {},
   "outputs": [
    {
     "ename": "KeyError",
     "evalue": "\"None of [Int64Index([5], dtype='int64', name='room_id')] are in the [index]\"",
     "output_type": "error",
     "traceback": [
      "\u001b[1;31m---------------------------------------------------------------------------\u001b[0m",
      "\u001b[1;31mKeyError\u001b[0m                                  Traceback (most recent call last)",
      "\u001b[1;32m<ipython-input-11-1f76c38f71f1>\u001b[0m in \u001b[0;36m<module>\u001b[1;34m\u001b[0m\n\u001b[1;32m----> 1\u001b[1;33m \u001b[0mdf\u001b[0m\u001b[1;33m.\u001b[0m\u001b[0mloc\u001b[0m\u001b[1;33m[\u001b[0m\u001b[1;33m[\u001b[0m\u001b[1;36m5\u001b[0m\u001b[1;33m]\u001b[0m\u001b[1;33m]\u001b[0m\u001b[1;33m\u001b[0m\u001b[1;33m\u001b[0m\u001b[0m\n\u001b[0m",
      "\u001b[1;32mC:\\ProgramData\\Anaconda3\\lib\\site-packages\\pandas\\core\\indexing.py\u001b[0m in \u001b[0;36m__getitem__\u001b[1;34m(self, key)\u001b[0m\n\u001b[0;32m    893\u001b[0m \u001b[1;33m\u001b[0m\u001b[0m\n\u001b[0;32m    894\u001b[0m             \u001b[0mmaybe_callable\u001b[0m \u001b[1;33m=\u001b[0m \u001b[0mcom\u001b[0m\u001b[1;33m.\u001b[0m\u001b[0mapply_if_callable\u001b[0m\u001b[1;33m(\u001b[0m\u001b[0mkey\u001b[0m\u001b[1;33m,\u001b[0m \u001b[0mself\u001b[0m\u001b[1;33m.\u001b[0m\u001b[0mobj\u001b[0m\u001b[1;33m)\u001b[0m\u001b[1;33m\u001b[0m\u001b[1;33m\u001b[0m\u001b[0m\n\u001b[1;32m--> 895\u001b[1;33m             \u001b[1;32mreturn\u001b[0m \u001b[0mself\u001b[0m\u001b[1;33m.\u001b[0m\u001b[0m_getitem_axis\u001b[0m\u001b[1;33m(\u001b[0m\u001b[0mmaybe_callable\u001b[0m\u001b[1;33m,\u001b[0m \u001b[0maxis\u001b[0m\u001b[1;33m=\u001b[0m\u001b[0maxis\u001b[0m\u001b[1;33m)\u001b[0m\u001b[1;33m\u001b[0m\u001b[1;33m\u001b[0m\u001b[0m\n\u001b[0m\u001b[0;32m    896\u001b[0m \u001b[1;33m\u001b[0m\u001b[0m\n\u001b[0;32m    897\u001b[0m     \u001b[1;32mdef\u001b[0m \u001b[0m_is_scalar_access\u001b[0m\u001b[1;33m(\u001b[0m\u001b[0mself\u001b[0m\u001b[1;33m,\u001b[0m \u001b[0mkey\u001b[0m\u001b[1;33m:\u001b[0m \u001b[0mTuple\u001b[0m\u001b[1;33m)\u001b[0m\u001b[1;33m:\u001b[0m\u001b[1;33m\u001b[0m\u001b[1;33m\u001b[0m\u001b[0m\n",
      "\u001b[1;32mC:\\ProgramData\\Anaconda3\\lib\\site-packages\\pandas\\core\\indexing.py\u001b[0m in \u001b[0;36m_getitem_axis\u001b[1;34m(self, key, axis)\u001b[0m\n\u001b[0;32m   1111\u001b[0m                     \u001b[1;32mraise\u001b[0m \u001b[0mValueError\u001b[0m\u001b[1;33m(\u001b[0m\u001b[1;34m\"Cannot index with multidimensional key\"\u001b[0m\u001b[1;33m)\u001b[0m\u001b[1;33m\u001b[0m\u001b[1;33m\u001b[0m\u001b[0m\n\u001b[0;32m   1112\u001b[0m \u001b[1;33m\u001b[0m\u001b[0m\n\u001b[1;32m-> 1113\u001b[1;33m                 \u001b[1;32mreturn\u001b[0m \u001b[0mself\u001b[0m\u001b[1;33m.\u001b[0m\u001b[0m_getitem_iterable\u001b[0m\u001b[1;33m(\u001b[0m\u001b[0mkey\u001b[0m\u001b[1;33m,\u001b[0m \u001b[0maxis\u001b[0m\u001b[1;33m=\u001b[0m\u001b[0maxis\u001b[0m\u001b[1;33m)\u001b[0m\u001b[1;33m\u001b[0m\u001b[1;33m\u001b[0m\u001b[0m\n\u001b[0m\u001b[0;32m   1114\u001b[0m \u001b[1;33m\u001b[0m\u001b[0m\n\u001b[0;32m   1115\u001b[0m             \u001b[1;31m# nested tuple slicing\u001b[0m\u001b[1;33m\u001b[0m\u001b[1;33m\u001b[0m\u001b[1;33m\u001b[0m\u001b[0m\n",
      "\u001b[1;32mC:\\ProgramData\\Anaconda3\\lib\\site-packages\\pandas\\core\\indexing.py\u001b[0m in \u001b[0;36m_getitem_iterable\u001b[1;34m(self, key, axis)\u001b[0m\n\u001b[0;32m   1051\u001b[0m \u001b[1;33m\u001b[0m\u001b[0m\n\u001b[0;32m   1052\u001b[0m         \u001b[1;31m# A collection of keys\u001b[0m\u001b[1;33m\u001b[0m\u001b[1;33m\u001b[0m\u001b[1;33m\u001b[0m\u001b[0m\n\u001b[1;32m-> 1053\u001b[1;33m         \u001b[0mkeyarr\u001b[0m\u001b[1;33m,\u001b[0m \u001b[0mindexer\u001b[0m \u001b[1;33m=\u001b[0m \u001b[0mself\u001b[0m\u001b[1;33m.\u001b[0m\u001b[0m_get_listlike_indexer\u001b[0m\u001b[1;33m(\u001b[0m\u001b[0mkey\u001b[0m\u001b[1;33m,\u001b[0m \u001b[0maxis\u001b[0m\u001b[1;33m,\u001b[0m \u001b[0mraise_missing\u001b[0m\u001b[1;33m=\u001b[0m\u001b[1;32mFalse\u001b[0m\u001b[1;33m)\u001b[0m\u001b[1;33m\u001b[0m\u001b[1;33m\u001b[0m\u001b[0m\n\u001b[0m\u001b[0;32m   1054\u001b[0m         return self.obj._reindex_with_indexers(\n\u001b[0;32m   1055\u001b[0m             \u001b[1;33m{\u001b[0m\u001b[0maxis\u001b[0m\u001b[1;33m:\u001b[0m \u001b[1;33m[\u001b[0m\u001b[0mkeyarr\u001b[0m\u001b[1;33m,\u001b[0m \u001b[0mindexer\u001b[0m\u001b[1;33m]\u001b[0m\u001b[1;33m}\u001b[0m\u001b[1;33m,\u001b[0m \u001b[0mcopy\u001b[0m\u001b[1;33m=\u001b[0m\u001b[1;32mTrue\u001b[0m\u001b[1;33m,\u001b[0m \u001b[0mallow_dups\u001b[0m\u001b[1;33m=\u001b[0m\u001b[1;32mTrue\u001b[0m\u001b[1;33m\u001b[0m\u001b[1;33m\u001b[0m\u001b[0m\n",
      "\u001b[1;32mC:\\ProgramData\\Anaconda3\\lib\\site-packages\\pandas\\core\\indexing.py\u001b[0m in \u001b[0;36m_get_listlike_indexer\u001b[1;34m(self, key, axis, raise_missing)\u001b[0m\n\u001b[0;32m   1264\u001b[0m             \u001b[0mkeyarr\u001b[0m\u001b[1;33m,\u001b[0m \u001b[0mindexer\u001b[0m\u001b[1;33m,\u001b[0m \u001b[0mnew_indexer\u001b[0m \u001b[1;33m=\u001b[0m \u001b[0max\u001b[0m\u001b[1;33m.\u001b[0m\u001b[0m_reindex_non_unique\u001b[0m\u001b[1;33m(\u001b[0m\u001b[0mkeyarr\u001b[0m\u001b[1;33m)\u001b[0m\u001b[1;33m\u001b[0m\u001b[1;33m\u001b[0m\u001b[0m\n\u001b[0;32m   1265\u001b[0m \u001b[1;33m\u001b[0m\u001b[0m\n\u001b[1;32m-> 1266\u001b[1;33m         \u001b[0mself\u001b[0m\u001b[1;33m.\u001b[0m\u001b[0m_validate_read_indexer\u001b[0m\u001b[1;33m(\u001b[0m\u001b[0mkeyarr\u001b[0m\u001b[1;33m,\u001b[0m \u001b[0mindexer\u001b[0m\u001b[1;33m,\u001b[0m \u001b[0maxis\u001b[0m\u001b[1;33m,\u001b[0m \u001b[0mraise_missing\u001b[0m\u001b[1;33m=\u001b[0m\u001b[0mraise_missing\u001b[0m\u001b[1;33m)\u001b[0m\u001b[1;33m\u001b[0m\u001b[1;33m\u001b[0m\u001b[0m\n\u001b[0m\u001b[0;32m   1267\u001b[0m         \u001b[1;32mreturn\u001b[0m \u001b[0mkeyarr\u001b[0m\u001b[1;33m,\u001b[0m \u001b[0mindexer\u001b[0m\u001b[1;33m\u001b[0m\u001b[1;33m\u001b[0m\u001b[0m\n\u001b[0;32m   1268\u001b[0m \u001b[1;33m\u001b[0m\u001b[0m\n",
      "\u001b[1;32mC:\\ProgramData\\Anaconda3\\lib\\site-packages\\pandas\\core\\indexing.py\u001b[0m in \u001b[0;36m_validate_read_indexer\u001b[1;34m(self, key, indexer, axis, raise_missing)\u001b[0m\n\u001b[0;32m   1306\u001b[0m             \u001b[1;32mif\u001b[0m \u001b[0mmissing\u001b[0m \u001b[1;33m==\u001b[0m \u001b[0mlen\u001b[0m\u001b[1;33m(\u001b[0m\u001b[0mindexer\u001b[0m\u001b[1;33m)\u001b[0m\u001b[1;33m:\u001b[0m\u001b[1;33m\u001b[0m\u001b[1;33m\u001b[0m\u001b[0m\n\u001b[0;32m   1307\u001b[0m                 \u001b[0maxis_name\u001b[0m \u001b[1;33m=\u001b[0m \u001b[0mself\u001b[0m\u001b[1;33m.\u001b[0m\u001b[0mobj\u001b[0m\u001b[1;33m.\u001b[0m\u001b[0m_get_axis_name\u001b[0m\u001b[1;33m(\u001b[0m\u001b[0maxis\u001b[0m\u001b[1;33m)\u001b[0m\u001b[1;33m\u001b[0m\u001b[1;33m\u001b[0m\u001b[0m\n\u001b[1;32m-> 1308\u001b[1;33m                 \u001b[1;32mraise\u001b[0m \u001b[0mKeyError\u001b[0m\u001b[1;33m(\u001b[0m\u001b[1;34mf\"None of [{key}] are in the [{axis_name}]\"\u001b[0m\u001b[1;33m)\u001b[0m\u001b[1;33m\u001b[0m\u001b[1;33m\u001b[0m\u001b[0m\n\u001b[0m\u001b[0;32m   1309\u001b[0m \u001b[1;33m\u001b[0m\u001b[0m\n\u001b[0;32m   1310\u001b[0m             \u001b[0max\u001b[0m \u001b[1;33m=\u001b[0m \u001b[0mself\u001b[0m\u001b[1;33m.\u001b[0m\u001b[0mobj\u001b[0m\u001b[1;33m.\u001b[0m\u001b[0m_get_axis\u001b[0m\u001b[1;33m(\u001b[0m\u001b[0maxis\u001b[0m\u001b[1;33m)\u001b[0m\u001b[1;33m\u001b[0m\u001b[1;33m\u001b[0m\u001b[0m\n",
      "\u001b[1;31mKeyError\u001b[0m: \"None of [Int64Index([5], dtype='int64', name='room_id')] are in the [index]\""
     ]
    }
   ],
   "source": [
    "df.loc[[5]]"
   ]
  },
  {
   "cell_type": "markdown",
   "metadata": {},
   "source": [
    "Same as with .iloc, we can select multiple values at once."
   ]
  },
  {
   "cell_type": "code",
   "execution_count": 12,
   "metadata": {},
   "outputs": [
    {
     "data": {
      "text/html": [
       "<div>\n",
       "<style scoped>\n",
       "    .dataframe tbody tr th:only-of-type {\n",
       "        vertical-align: middle;\n",
       "    }\n",
       "\n",
       "    .dataframe tbody tr th {\n",
       "        vertical-align: top;\n",
       "    }\n",
       "\n",
       "    .dataframe thead th {\n",
       "        text-align: right;\n",
       "    }\n",
       "</style>\n",
       "<table border=\"1\" class=\"dataframe\">\n",
       "  <thead>\n",
       "    <tr style=\"text-align: right;\">\n",
       "      <th></th>\n",
       "      <th>host_id</th>\n",
       "      <th>room_type</th>\n",
       "      <th>neighborhood</th>\n",
       "      <th>reviews</th>\n",
       "      <th>overall_satisfaction</th>\n",
       "      <th>accommodates</th>\n",
       "      <th>bedrooms</th>\n",
       "      <th>price</th>\n",
       "    </tr>\n",
       "    <tr>\n",
       "      <th>room_id</th>\n",
       "      <th></th>\n",
       "      <th></th>\n",
       "      <th></th>\n",
       "      <th></th>\n",
       "      <th></th>\n",
       "      <th></th>\n",
       "      <th></th>\n",
       "      <th></th>\n",
       "    </tr>\n",
       "  </thead>\n",
       "  <tbody>\n",
       "    <tr>\n",
       "      <th>29872</th>\n",
       "      <td>128698</td>\n",
       "      <td>Entire home/apt</td>\n",
       "      <td>Alcântara</td>\n",
       "      <td>25</td>\n",
       "      <td>5.0</td>\n",
       "      <td>2</td>\n",
       "      <td>1.0</td>\n",
       "      <td>75.0</td>\n",
       "    </tr>\n",
       "    <tr>\n",
       "      <th>19188572</th>\n",
       "      <td>134216988</td>\n",
       "      <td>Private room</td>\n",
       "      <td>Arroios</td>\n",
       "      <td>0</td>\n",
       "      <td>0.0</td>\n",
       "      <td>4</td>\n",
       "      <td>1.0</td>\n",
       "      <td>58.0</td>\n",
       "    </tr>\n",
       "    <tr>\n",
       "      <th>4612503</th>\n",
       "      <td>22078192</td>\n",
       "      <td>Entire home/apt</td>\n",
       "      <td>Santa Maria Maior</td>\n",
       "      <td>12</td>\n",
       "      <td>5.0</td>\n",
       "      <td>3</td>\n",
       "      <td>1.0</td>\n",
       "      <td>113.0</td>\n",
       "    </tr>\n",
       "  </tbody>\n",
       "</table>\n",
       "</div>"
      ],
      "text/plain": [
       "            host_id        room_type       neighborhood  reviews  \\\n",
       "room_id                                                            \n",
       "29872        128698  Entire home/apt          Alcântara       25   \n",
       "19188572  134216988     Private room            Arroios        0   \n",
       "4612503    22078192  Entire home/apt  Santa Maria Maior       12   \n",
       "\n",
       "          overall_satisfaction  accommodates  bedrooms  price  \n",
       "room_id                                                        \n",
       "29872                      5.0             2       1.0   75.0  \n",
       "19188572                   0.0             4       1.0   58.0  \n",
       "4612503                    5.0             3       1.0  113.0  "
      ]
     },
     "execution_count": 12,
     "metadata": {},
     "output_type": "execute_result"
    }
   ],
   "source": [
    "df.loc[[29872, 19188572, 4612503 ]]"
   ]
  },
  {
   "cell_type": "markdown",
   "metadata": {},
   "source": [
    "## <font color='#eb3483'> 3. Column Selection </font>"
   ]
  },
  {
   "cell_type": "markdown",
   "metadata": {},
   "source": [
    "We can select columns using dot notation **(as long as the column names dont have spaces or non alphanumerical characters on them)** - which is why it is always good to name your columns without these. Saves time later :)"
   ]
  },
  {
   "cell_type": "code",
   "execution_count": 13,
   "metadata": {
    "scrolled": true
   },
   "outputs": [
    {
     "data": {
      "text/plain": [
       "room_id\n",
       "6499        Entire home/apt\n",
       "17031       Entire home/apt\n",
       "25659       Entire home/apt\n",
       "29248       Entire home/apt\n",
       "29396       Entire home/apt\n",
       "                 ...       \n",
       "19388006    Entire home/apt\n",
       "19393935    Entire home/apt\n",
       "19396300    Entire home/apt\n",
       "19397373    Entire home/apt\n",
       "19400722    Entire home/apt\n",
       "Name: room_type, Length: 13232, dtype: object"
      ]
     },
     "execution_count": 13,
     "metadata": {},
     "output_type": "execute_result"
    }
   ],
   "source": [
    "df.room_type"
   ]
  },
  {
   "cell_type": "markdown",
   "metadata": {},
   "source": [
    "Which is the same as doing:"
   ]
  },
  {
   "cell_type": "code",
   "execution_count": 14,
   "metadata": {
    "scrolled": true
   },
   "outputs": [
    {
     "data": {
      "text/plain": [
       "room_id\n",
       "6499        Entire home/apt\n",
       "17031       Entire home/apt\n",
       "25659       Entire home/apt\n",
       "29248       Entire home/apt\n",
       "29396       Entire home/apt\n",
       "                 ...       \n",
       "19388006    Entire home/apt\n",
       "19393935    Entire home/apt\n",
       "19396300    Entire home/apt\n",
       "19397373    Entire home/apt\n",
       "19400722    Entire home/apt\n",
       "Name: room_type, Length: 13232, dtype: object"
      ]
     },
     "execution_count": 14,
     "metadata": {},
     "output_type": "execute_result"
    }
   ],
   "source": [
    "df['room_type']"
   ]
  },
  {
   "cell_type": "markdown",
   "metadata": {},
   "source": [
    "When we select one column we receive a pd.Series, we can use double brackets to select multiple columns (if we select multiple columns we will always receive a dataframe). "
   ]
  },
  {
   "cell_type": "code",
   "execution_count": 15,
   "metadata": {
    "scrolled": true
   },
   "outputs": [
    {
     "data": {
      "text/html": [
       "<div>\n",
       "<style scoped>\n",
       "    .dataframe tbody tr th:only-of-type {\n",
       "        vertical-align: middle;\n",
       "    }\n",
       "\n",
       "    .dataframe tbody tr th {\n",
       "        vertical-align: top;\n",
       "    }\n",
       "\n",
       "    .dataframe thead th {\n",
       "        text-align: right;\n",
       "    }\n",
       "</style>\n",
       "<table border=\"1\" class=\"dataframe\">\n",
       "  <thead>\n",
       "    <tr style=\"text-align: right;\">\n",
       "      <th></th>\n",
       "      <th>room_type</th>\n",
       "      <th>price</th>\n",
       "    </tr>\n",
       "    <tr>\n",
       "      <th>room_id</th>\n",
       "      <th></th>\n",
       "      <th></th>\n",
       "    </tr>\n",
       "  </thead>\n",
       "  <tbody>\n",
       "    <tr>\n",
       "      <th>6499</th>\n",
       "      <td>Entire home/apt</td>\n",
       "      <td>57.0</td>\n",
       "    </tr>\n",
       "    <tr>\n",
       "      <th>17031</th>\n",
       "      <td>Entire home/apt</td>\n",
       "      <td>46.0</td>\n",
       "    </tr>\n",
       "    <tr>\n",
       "      <th>25659</th>\n",
       "      <td>Entire home/apt</td>\n",
       "      <td>69.0</td>\n",
       "    </tr>\n",
       "    <tr>\n",
       "      <th>29248</th>\n",
       "      <td>Entire home/apt</td>\n",
       "      <td>58.0</td>\n",
       "    </tr>\n",
       "    <tr>\n",
       "      <th>29396</th>\n",
       "      <td>Entire home/apt</td>\n",
       "      <td>67.0</td>\n",
       "    </tr>\n",
       "  </tbody>\n",
       "</table>\n",
       "</div>"
      ],
      "text/plain": [
       "               room_type  price\n",
       "room_id                        \n",
       "6499     Entire home/apt   57.0\n",
       "17031    Entire home/apt   46.0\n",
       "25659    Entire home/apt   69.0\n",
       "29248    Entire home/apt   58.0\n",
       "29396    Entire home/apt   67.0"
      ]
     },
     "execution_count": 15,
     "metadata": {},
     "output_type": "execute_result"
    }
   ],
   "source": [
    "df[[\"room_type\", \"price\"]].head()"
   ]
  },
  {
   "cell_type": "markdown",
   "metadata": {},
   "source": [
    "We can also use loc select specific rows from a desired columns with loc"
   ]
  },
  {
   "cell_type": "code",
   "execution_count": 24,
   "metadata": {},
   "outputs": [
    {
     "data": {
      "text/plain": [
       "room_id\n",
       "6499     Entire home/apt\n",
       "17031    Entire home/apt\n",
       "25659    Entire home/apt\n",
       "29248    Entire home/apt\n",
       "29396    Entire home/apt\n",
       "29720    Entire home/apt\n",
       "29872    Entire home/apt\n",
       "29891    Entire home/apt\n",
       "29915    Entire home/apt\n",
       "33312    Entire home/apt\n",
       "Name: room_type, dtype: object"
      ]
     },
     "execution_count": 24,
     "metadata": {},
     "output_type": "execute_result"
    }
   ],
   "source": [
    "df.loc[:, \"room_type\"][:10]"
   ]
  },
  {
   "cell_type": "markdown",
   "metadata": {},
   "source": [
    "## <font color='#eb3483'> 4. Advanced Filtering </font>"
   ]
  },
  {
   "cell_type": "markdown",
   "metadata": {},
   "source": [
    "### <font color='#eb3483'> Mask & Where </font>"
   ]
  },
  {
   "cell_type": "markdown",
   "metadata": {},
   "source": [
    "The function `mask` allows us to \"hide\" parts of a dataframe that match a certain condition. Note that is similar to how we used masks in NumPy!"
   ]
  },
  {
   "cell_type": "code",
   "execution_count": 28,
   "metadata": {
    "scrolled": true
   },
   "outputs": [
    {
     "data": {
      "text/html": [
       "<div>\n",
       "<style scoped>\n",
       "    .dataframe tbody tr th:only-of-type {\n",
       "        vertical-align: middle;\n",
       "    }\n",
       "\n",
       "    .dataframe tbody tr th {\n",
       "        vertical-align: top;\n",
       "    }\n",
       "\n",
       "    .dataframe thead th {\n",
       "        text-align: right;\n",
       "    }\n",
       "</style>\n",
       "<table border=\"1\" class=\"dataframe\">\n",
       "  <thead>\n",
       "    <tr style=\"text-align: right;\">\n",
       "      <th></th>\n",
       "      <th>host_id</th>\n",
       "      <th>room_type</th>\n",
       "      <th>neighborhood</th>\n",
       "      <th>reviews</th>\n",
       "      <th>overall_satisfaction</th>\n",
       "      <th>accommodates</th>\n",
       "      <th>bedrooms</th>\n",
       "      <th>price</th>\n",
       "    </tr>\n",
       "    <tr>\n",
       "      <th>room_id</th>\n",
       "      <th></th>\n",
       "      <th></th>\n",
       "      <th></th>\n",
       "      <th></th>\n",
       "      <th></th>\n",
       "      <th></th>\n",
       "      <th></th>\n",
       "      <th></th>\n",
       "    </tr>\n",
       "  </thead>\n",
       "  <tbody>\n",
       "    <tr>\n",
       "      <th>6499</th>\n",
       "      <td>NaN</td>\n",
       "      <td>NaN</td>\n",
       "      <td>NaN</td>\n",
       "      <td>NaN</td>\n",
       "      <td>NaN</td>\n",
       "      <td>NaN</td>\n",
       "      <td>NaN</td>\n",
       "      <td>NaN</td>\n",
       "    </tr>\n",
       "    <tr>\n",
       "      <th>17031</th>\n",
       "      <td>66015.0</td>\n",
       "      <td>Entire home/apt</td>\n",
       "      <td>Alvalade</td>\n",
       "      <td>0.0</td>\n",
       "      <td>0.0</td>\n",
       "      <td>2.0</td>\n",
       "      <td>1.0</td>\n",
       "      <td>46.0</td>\n",
       "    </tr>\n",
       "    <tr>\n",
       "      <th>25659</th>\n",
       "      <td>NaN</td>\n",
       "      <td>NaN</td>\n",
       "      <td>NaN</td>\n",
       "      <td>NaN</td>\n",
       "      <td>NaN</td>\n",
       "      <td>NaN</td>\n",
       "      <td>NaN</td>\n",
       "      <td>NaN</td>\n",
       "    </tr>\n",
       "    <tr>\n",
       "      <th>29248</th>\n",
       "      <td>125768.0</td>\n",
       "      <td>Entire home/apt</td>\n",
       "      <td>Santa Maria Maior</td>\n",
       "      <td>225.0</td>\n",
       "      <td>4.5</td>\n",
       "      <td>4.0</td>\n",
       "      <td>1.0</td>\n",
       "      <td>58.0</td>\n",
       "    </tr>\n",
       "    <tr>\n",
       "      <th>29396</th>\n",
       "      <td>NaN</td>\n",
       "      <td>NaN</td>\n",
       "      <td>NaN</td>\n",
       "      <td>NaN</td>\n",
       "      <td>NaN</td>\n",
       "      <td>NaN</td>\n",
       "      <td>NaN</td>\n",
       "      <td>NaN</td>\n",
       "    </tr>\n",
       "  </tbody>\n",
       "</table>\n",
       "</div>"
      ],
      "text/plain": [
       "          host_id        room_type       neighborhood  reviews  \\\n",
       "room_id                                                          \n",
       "6499          NaN              NaN                NaN      NaN   \n",
       "17031     66015.0  Entire home/apt           Alvalade      0.0   \n",
       "25659         NaN              NaN                NaN      NaN   \n",
       "29248    125768.0  Entire home/apt  Santa Maria Maior    225.0   \n",
       "29396         NaN              NaN                NaN      NaN   \n",
       "\n",
       "         overall_satisfaction  accommodates  bedrooms  price  \n",
       "room_id                                                       \n",
       "6499                      NaN           NaN       NaN    NaN  \n",
       "17031                     0.0           2.0       1.0   46.0  \n",
       "25659                     NaN           NaN       NaN    NaN  \n",
       "29248                     4.5           4.0       1.0   58.0  \n",
       "29396                     NaN           NaN       NaN    NaN  "
      ]
     },
     "execution_count": 28,
     "metadata": {},
     "output_type": "execute_result"
    }
   ],
   "source": [
    "df.mask(df.overall_satisfaction == 5.0).head()"
   ]
  },
  {
   "cell_type": "markdown",
   "metadata": {},
   "source": [
    "We see that the rows that dont match the condition appear as `NaN`, which stands for **Not a Number**, a standard way of saying *\"there is no relevant data here\"*. Pandas will usually ignore the NaNs."
   ]
  },
  {
   "cell_type": "markdown",
   "metadata": {},
   "source": [
    "On the other hand, [where](https://pandas.pydata.org/pandas-docs/stable/generated/pandas.DataFrame.where.html) hides those rows that don't match the condition (where is the opposite of mask)."
   ]
  },
  {
   "cell_type": "code",
   "execution_count": 26,
   "metadata": {
    "scrolled": true
   },
   "outputs": [
    {
     "data": {
      "text/html": [
       "<div>\n",
       "<style scoped>\n",
       "    .dataframe tbody tr th:only-of-type {\n",
       "        vertical-align: middle;\n",
       "    }\n",
       "\n",
       "    .dataframe tbody tr th {\n",
       "        vertical-align: top;\n",
       "    }\n",
       "\n",
       "    .dataframe thead th {\n",
       "        text-align: right;\n",
       "    }\n",
       "</style>\n",
       "<table border=\"1\" class=\"dataframe\">\n",
       "  <thead>\n",
       "    <tr style=\"text-align: right;\">\n",
       "      <th></th>\n",
       "      <th>host_id</th>\n",
       "      <th>room_type</th>\n",
       "      <th>neighborhood</th>\n",
       "      <th>reviews</th>\n",
       "      <th>overall_satisfaction</th>\n",
       "      <th>accommodates</th>\n",
       "      <th>bedrooms</th>\n",
       "      <th>price</th>\n",
       "    </tr>\n",
       "    <tr>\n",
       "      <th>room_id</th>\n",
       "      <th></th>\n",
       "      <th></th>\n",
       "      <th></th>\n",
       "      <th></th>\n",
       "      <th></th>\n",
       "      <th></th>\n",
       "      <th></th>\n",
       "      <th></th>\n",
       "    </tr>\n",
       "  </thead>\n",
       "  <tbody>\n",
       "    <tr>\n",
       "      <th>6499</th>\n",
       "      <td>14455.0</td>\n",
       "      <td>Entire home/apt</td>\n",
       "      <td>Belém</td>\n",
       "      <td>8.0</td>\n",
       "      <td>5.0</td>\n",
       "      <td>2.0</td>\n",
       "      <td>1.0</td>\n",
       "      <td>57.0</td>\n",
       "    </tr>\n",
       "    <tr>\n",
       "      <th>17031</th>\n",
       "      <td>NaN</td>\n",
       "      <td>NaN</td>\n",
       "      <td>NaN</td>\n",
       "      <td>NaN</td>\n",
       "      <td>NaN</td>\n",
       "      <td>NaN</td>\n",
       "      <td>NaN</td>\n",
       "      <td>NaN</td>\n",
       "    </tr>\n",
       "    <tr>\n",
       "      <th>25659</th>\n",
       "      <td>107347.0</td>\n",
       "      <td>Entire home/apt</td>\n",
       "      <td>Santa Maria Maior</td>\n",
       "      <td>63.0</td>\n",
       "      <td>5.0</td>\n",
       "      <td>3.0</td>\n",
       "      <td>1.0</td>\n",
       "      <td>69.0</td>\n",
       "    </tr>\n",
       "    <tr>\n",
       "      <th>29248</th>\n",
       "      <td>NaN</td>\n",
       "      <td>NaN</td>\n",
       "      <td>NaN</td>\n",
       "      <td>NaN</td>\n",
       "      <td>NaN</td>\n",
       "      <td>NaN</td>\n",
       "      <td>NaN</td>\n",
       "      <td>NaN</td>\n",
       "    </tr>\n",
       "    <tr>\n",
       "      <th>29396</th>\n",
       "      <td>126415.0</td>\n",
       "      <td>Entire home/apt</td>\n",
       "      <td>Santa Maria Maior</td>\n",
       "      <td>132.0</td>\n",
       "      <td>5.0</td>\n",
       "      <td>4.0</td>\n",
       "      <td>1.0</td>\n",
       "      <td>67.0</td>\n",
       "    </tr>\n",
       "  </tbody>\n",
       "</table>\n",
       "</div>"
      ],
      "text/plain": [
       "          host_id        room_type       neighborhood  reviews  \\\n",
       "room_id                                                          \n",
       "6499      14455.0  Entire home/apt              Belém      8.0   \n",
       "17031         NaN              NaN                NaN      NaN   \n",
       "25659    107347.0  Entire home/apt  Santa Maria Maior     63.0   \n",
       "29248         NaN              NaN                NaN      NaN   \n",
       "29396    126415.0  Entire home/apt  Santa Maria Maior    132.0   \n",
       "\n",
       "         overall_satisfaction  accommodates  bedrooms  price  \n",
       "room_id                                                       \n",
       "6499                      5.0           2.0       1.0   57.0  \n",
       "17031                     NaN           NaN       NaN    NaN  \n",
       "25659                     5.0           3.0       1.0   69.0  \n",
       "29248                     NaN           NaN       NaN    NaN  \n",
       "29396                     5.0           4.0       1.0   67.0  "
      ]
     },
     "execution_count": 26,
     "metadata": {},
     "output_type": "execute_result"
    }
   ],
   "source": [
    "df.where(df.overall_satisfaction == 5.0).head()"
   ]
  },
  {
   "cell_type": "markdown",
   "metadata": {},
   "source": [
    "### <font color='#eb3483'> Filtering with [ ] </font>"
   ]
  },
  {
   "cell_type": "markdown",
   "metadata": {},
   "source": [
    "We can also filter by using brackets.\n",
    "The difference between filtering with brackets and using `mask/where` is that with brackets we only receive a segment of the dataframe (less rows), while with `mask/where` we receive a dataframe with the same rows and index as the original one.  \n",
    "\n",
    "We call this subsetting to create a specific \"sub\" dataframe\n",
    "\n",
    "Why would it be useful to retain all the rows?\n",
    "\n"
   ]
  },
  {
   "cell_type": "markdown",
   "metadata": {},
   "source": [
    "For example, we can filter the dataframe to see all the listings in `Belem`:"
   ]
  },
  {
   "cell_type": "code",
   "execution_count": 29,
   "metadata": {},
   "outputs": [],
   "source": [
    "df = pd.read_csv('data/airbnb.csv', index_col='room_id')"
   ]
  },
  {
   "cell_type": "code",
   "execution_count": 30,
   "metadata": {},
   "outputs": [
    {
     "data": {
      "text/html": [
       "<div>\n",
       "<style scoped>\n",
       "    .dataframe tbody tr th:only-of-type {\n",
       "        vertical-align: middle;\n",
       "    }\n",
       "\n",
       "    .dataframe tbody tr th {\n",
       "        vertical-align: top;\n",
       "    }\n",
       "\n",
       "    .dataframe thead th {\n",
       "        text-align: right;\n",
       "    }\n",
       "</style>\n",
       "<table border=\"1\" class=\"dataframe\">\n",
       "  <thead>\n",
       "    <tr style=\"text-align: right;\">\n",
       "      <th></th>\n",
       "      <th>host_id</th>\n",
       "      <th>room_type</th>\n",
       "      <th>neighborhood</th>\n",
       "      <th>reviews</th>\n",
       "      <th>overall_satisfaction</th>\n",
       "      <th>accommodates</th>\n",
       "      <th>bedrooms</th>\n",
       "      <th>price</th>\n",
       "    </tr>\n",
       "    <tr>\n",
       "      <th>room_id</th>\n",
       "      <th></th>\n",
       "      <th></th>\n",
       "      <th></th>\n",
       "      <th></th>\n",
       "      <th></th>\n",
       "      <th></th>\n",
       "      <th></th>\n",
       "      <th></th>\n",
       "    </tr>\n",
       "  </thead>\n",
       "  <tbody>\n",
       "    <tr>\n",
       "      <th>6499</th>\n",
       "      <td>14455</td>\n",
       "      <td>Entire home/apt</td>\n",
       "      <td>Belém</td>\n",
       "      <td>8</td>\n",
       "      <td>5.0</td>\n",
       "      <td>2</td>\n",
       "      <td>1.0</td>\n",
       "      <td>57.0</td>\n",
       "    </tr>\n",
       "    <tr>\n",
       "      <th>17031</th>\n",
       "      <td>66015</td>\n",
       "      <td>Entire home/apt</td>\n",
       "      <td>Alvalade</td>\n",
       "      <td>0</td>\n",
       "      <td>0.0</td>\n",
       "      <td>2</td>\n",
       "      <td>1.0</td>\n",
       "      <td>46.0</td>\n",
       "    </tr>\n",
       "    <tr>\n",
       "      <th>25659</th>\n",
       "      <td>107347</td>\n",
       "      <td>Entire home/apt</td>\n",
       "      <td>Santa Maria Maior</td>\n",
       "      <td>63</td>\n",
       "      <td>5.0</td>\n",
       "      <td>3</td>\n",
       "      <td>1.0</td>\n",
       "      <td>69.0</td>\n",
       "    </tr>\n",
       "    <tr>\n",
       "      <th>29248</th>\n",
       "      <td>125768</td>\n",
       "      <td>Entire home/apt</td>\n",
       "      <td>Santa Maria Maior</td>\n",
       "      <td>225</td>\n",
       "      <td>4.5</td>\n",
       "      <td>4</td>\n",
       "      <td>1.0</td>\n",
       "      <td>58.0</td>\n",
       "    </tr>\n",
       "    <tr>\n",
       "      <th>29396</th>\n",
       "      <td>126415</td>\n",
       "      <td>Entire home/apt</td>\n",
       "      <td>Santa Maria Maior</td>\n",
       "      <td>132</td>\n",
       "      <td>5.0</td>\n",
       "      <td>4</td>\n",
       "      <td>1.0</td>\n",
       "      <td>67.0</td>\n",
       "    </tr>\n",
       "  </tbody>\n",
       "</table>\n",
       "</div>"
      ],
      "text/plain": [
       "         host_id        room_type       neighborhood  reviews  \\\n",
       "room_id                                                         \n",
       "6499       14455  Entire home/apt              Belém        8   \n",
       "17031      66015  Entire home/apt           Alvalade        0   \n",
       "25659     107347  Entire home/apt  Santa Maria Maior       63   \n",
       "29248     125768  Entire home/apt  Santa Maria Maior      225   \n",
       "29396     126415  Entire home/apt  Santa Maria Maior      132   \n",
       "\n",
       "         overall_satisfaction  accommodates  bedrooms  price  \n",
       "room_id                                                       \n",
       "6499                      5.0             2       1.0   57.0  \n",
       "17031                     0.0             2       1.0   46.0  \n",
       "25659                     5.0             3       1.0   69.0  \n",
       "29248                     4.5             4       1.0   58.0  \n",
       "29396                     5.0             4       1.0   67.0  "
      ]
     },
     "execution_count": 30,
     "metadata": {},
     "output_type": "execute_result"
    }
   ],
   "source": [
    "df.head()"
   ]
  },
  {
   "cell_type": "code",
   "execution_count": 31,
   "metadata": {},
   "outputs": [
    {
     "data": {
      "text/plain": [
       "(13232, 8)"
      ]
     },
     "execution_count": 31,
     "metadata": {},
     "output_type": "execute_result"
    }
   ],
   "source": [
    "df.shape"
   ]
  },
  {
   "cell_type": "code",
   "execution_count": 32,
   "metadata": {},
   "outputs": [
    {
     "data": {
      "text/plain": [
       "(13232, 8)"
      ]
     },
     "execution_count": 32,
     "metadata": {},
     "output_type": "execute_result"
    }
   ],
   "source": [
    "df.where(df.neighborhood==\"Belém\").shape"
   ]
  },
  {
   "cell_type": "markdown",
   "metadata": {},
   "source": [
    "If we use brackets, the dataframe we get is smaller"
   ]
  },
  {
   "cell_type": "code",
   "execution_count": 33,
   "metadata": {
    "scrolled": true
   },
   "outputs": [
    {
     "data": {
      "text/html": [
       "<div>\n",
       "<style scoped>\n",
       "    .dataframe tbody tr th:only-of-type {\n",
       "        vertical-align: middle;\n",
       "    }\n",
       "\n",
       "    .dataframe tbody tr th {\n",
       "        vertical-align: top;\n",
       "    }\n",
       "\n",
       "    .dataframe thead th {\n",
       "        text-align: right;\n",
       "    }\n",
       "</style>\n",
       "<table border=\"1\" class=\"dataframe\">\n",
       "  <thead>\n",
       "    <tr style=\"text-align: right;\">\n",
       "      <th></th>\n",
       "      <th>host_id</th>\n",
       "      <th>room_type</th>\n",
       "      <th>neighborhood</th>\n",
       "      <th>reviews</th>\n",
       "      <th>overall_satisfaction</th>\n",
       "      <th>accommodates</th>\n",
       "      <th>bedrooms</th>\n",
       "      <th>price</th>\n",
       "    </tr>\n",
       "    <tr>\n",
       "      <th>room_id</th>\n",
       "      <th></th>\n",
       "      <th></th>\n",
       "      <th></th>\n",
       "      <th></th>\n",
       "      <th></th>\n",
       "      <th></th>\n",
       "      <th></th>\n",
       "      <th></th>\n",
       "    </tr>\n",
       "  </thead>\n",
       "  <tbody>\n",
       "    <tr>\n",
       "      <th>6499</th>\n",
       "      <td>14455</td>\n",
       "      <td>Entire home/apt</td>\n",
       "      <td>Belém</td>\n",
       "      <td>8</td>\n",
       "      <td>5.0</td>\n",
       "      <td>2</td>\n",
       "      <td>1.0</td>\n",
       "      <td>57.0</td>\n",
       "    </tr>\n",
       "    <tr>\n",
       "      <th>202654</th>\n",
       "      <td>992647</td>\n",
       "      <td>Entire home/apt</td>\n",
       "      <td>Belém</td>\n",
       "      <td>54</td>\n",
       "      <td>4.0</td>\n",
       "      <td>2</td>\n",
       "      <td>1.0</td>\n",
       "      <td>45.0</td>\n",
       "    </tr>\n",
       "    <tr>\n",
       "      <th>418945</th>\n",
       "      <td>2083563</td>\n",
       "      <td>Private room</td>\n",
       "      <td>Belém</td>\n",
       "      <td>2</td>\n",
       "      <td>0.0</td>\n",
       "      <td>2</td>\n",
       "      <td>1.0</td>\n",
       "      <td>127.0</td>\n",
       "    </tr>\n",
       "    <tr>\n",
       "      <th>472183</th>\n",
       "      <td>2341627</td>\n",
       "      <td>Entire home/apt</td>\n",
       "      <td>Belém</td>\n",
       "      <td>64</td>\n",
       "      <td>4.5</td>\n",
       "      <td>4</td>\n",
       "      <td>1.0</td>\n",
       "      <td>67.0</td>\n",
       "    </tr>\n",
       "    <tr>\n",
       "      <th>635674</th>\n",
       "      <td>3168004</td>\n",
       "      <td>Entire home/apt</td>\n",
       "      <td>Belém</td>\n",
       "      <td>57</td>\n",
       "      <td>4.5</td>\n",
       "      <td>3</td>\n",
       "      <td>2.0</td>\n",
       "      <td>46.0</td>\n",
       "    </tr>\n",
       "  </tbody>\n",
       "</table>\n",
       "</div>"
      ],
      "text/plain": [
       "         host_id        room_type neighborhood  reviews  overall_satisfaction  \\\n",
       "room_id                                                                         \n",
       "6499       14455  Entire home/apt        Belém        8                   5.0   \n",
       "202654    992647  Entire home/apt        Belém       54                   4.0   \n",
       "418945   2083563     Private room        Belém        2                   0.0   \n",
       "472183   2341627  Entire home/apt        Belém       64                   4.5   \n",
       "635674   3168004  Entire home/apt        Belém       57                   4.5   \n",
       "\n",
       "         accommodates  bedrooms  price  \n",
       "room_id                                 \n",
       "6499                2       1.0   57.0  \n",
       "202654              2       1.0   45.0  \n",
       "418945              2       1.0  127.0  \n",
       "472183              4       1.0   67.0  \n",
       "635674              3       2.0   46.0  "
      ]
     },
     "execution_count": 33,
     "metadata": {},
     "output_type": "execute_result"
    }
   ],
   "source": [
    "df[df.neighborhood == 'Belém'].head()"
   ]
  },
  {
   "cell_type": "code",
   "execution_count": 36,
   "metadata": {},
   "outputs": [
    {
     "data": {
      "text/plain": [
       "(254, 8)"
      ]
     },
     "execution_count": 36,
     "metadata": {},
     "output_type": "execute_result"
    }
   ],
   "source": [
    "df[df.neighborhood == 'Belém'].shape"
   ]
  },
  {
   "cell_type": "markdown",
   "metadata": {},
   "source": [
    "We can select the inverse of a condition if we put `~` in front of it.\n",
    "\n",
    "For example, to select all listings that are not in Belem, we can do this:"
   ]
  },
  {
   "cell_type": "code",
   "execution_count": 35,
   "metadata": {},
   "outputs": [
    {
     "data": {
      "text/plain": [
       "(12978, 8)"
      ]
     },
     "execution_count": 35,
     "metadata": {},
     "output_type": "execute_result"
    }
   ],
   "source": [
    "df[~(df.neighborhood ==  \"Belém\")].shape"
   ]
  },
  {
   "cell_type": "markdown",
   "metadata": {},
   "source": [
    "### <font color='#eb3483'> Multiple Selection </font>\n",
    "\n",
    "We can filter a dataframe based on multiple conditions."
   ]
  },
  {
   "cell_type": "markdown",
   "metadata": {},
   "source": [
    "We can select rows that match multiple conditions by concatenating the conditions with `&`.\n",
    "\n",
    "For example, if we want those listings in Belém with more than 3 bedrooms:"
   ]
  },
  {
   "cell_type": "code",
   "execution_count": 43,
   "metadata": {
    "scrolled": true
   },
   "outputs": [
    {
     "data": {
      "text/html": [
       "<div>\n",
       "<style scoped>\n",
       "    .dataframe tbody tr th:only-of-type {\n",
       "        vertical-align: middle;\n",
       "    }\n",
       "\n",
       "    .dataframe tbody tr th {\n",
       "        vertical-align: top;\n",
       "    }\n",
       "\n",
       "    .dataframe thead th {\n",
       "        text-align: right;\n",
       "    }\n",
       "</style>\n",
       "<table border=\"1\" class=\"dataframe\">\n",
       "  <thead>\n",
       "    <tr style=\"text-align: right;\">\n",
       "      <th></th>\n",
       "      <th>host_id</th>\n",
       "      <th>room_type</th>\n",
       "      <th>neighborhood</th>\n",
       "      <th>reviews</th>\n",
       "      <th>overall_satisfaction</th>\n",
       "      <th>accommodates</th>\n",
       "      <th>bedrooms</th>\n",
       "      <th>price</th>\n",
       "    </tr>\n",
       "    <tr>\n",
       "      <th>room_id</th>\n",
       "      <th></th>\n",
       "      <th></th>\n",
       "      <th></th>\n",
       "      <th></th>\n",
       "      <th></th>\n",
       "      <th></th>\n",
       "      <th></th>\n",
       "      <th></th>\n",
       "    </tr>\n",
       "  </thead>\n",
       "  <tbody>\n",
       "    <tr>\n",
       "      <th>2127428</th>\n",
       "      <td>8810620</td>\n",
       "      <td>Entire home/apt</td>\n",
       "      <td>Belém</td>\n",
       "      <td>17</td>\n",
       "      <td>5.0</td>\n",
       "      <td>9</td>\n",
       "      <td>5.0</td>\n",
       "      <td>184.0</td>\n",
       "    </tr>\n",
       "    <tr>\n",
       "      <th>5737018</th>\n",
       "      <td>29744618</td>\n",
       "      <td>Entire home/apt</td>\n",
       "      <td>Belém</td>\n",
       "      <td>46</td>\n",
       "      <td>4.5</td>\n",
       "      <td>10</td>\n",
       "      <td>4.0</td>\n",
       "      <td>128.0</td>\n",
       "    </tr>\n",
       "    <tr>\n",
       "      <th>6884183</th>\n",
       "      <td>11926451</td>\n",
       "      <td>Entire home/apt</td>\n",
       "      <td>Belém</td>\n",
       "      <td>1</td>\n",
       "      <td>0.0</td>\n",
       "      <td>10</td>\n",
       "      <td>5.0</td>\n",
       "      <td>138.0</td>\n",
       "    </tr>\n",
       "    <tr>\n",
       "      <th>9522737</th>\n",
       "      <td>46064752</td>\n",
       "      <td>Entire home/apt</td>\n",
       "      <td>Belém</td>\n",
       "      <td>27</td>\n",
       "      <td>5.0</td>\n",
       "      <td>8</td>\n",
       "      <td>4.0</td>\n",
       "      <td>78.0</td>\n",
       "    </tr>\n",
       "    <tr>\n",
       "      <th>15272166</th>\n",
       "      <td>17263208</td>\n",
       "      <td>Entire home/apt</td>\n",
       "      <td>Belém</td>\n",
       "      <td>1</td>\n",
       "      <td>0.0</td>\n",
       "      <td>6</td>\n",
       "      <td>4.0</td>\n",
       "      <td>288.0</td>\n",
       "    </tr>\n",
       "  </tbody>\n",
       "</table>\n",
       "</div>"
      ],
      "text/plain": [
       "           host_id        room_type neighborhood  reviews  \\\n",
       "room_id                                                     \n",
       "2127428    8810620  Entire home/apt        Belém       17   \n",
       "5737018   29744618  Entire home/apt        Belém       46   \n",
       "6884183   11926451  Entire home/apt        Belém        1   \n",
       "9522737   46064752  Entire home/apt        Belém       27   \n",
       "15272166  17263208  Entire home/apt        Belém        1   \n",
       "\n",
       "          overall_satisfaction  accommodates  bedrooms  price  \n",
       "room_id                                                        \n",
       "2127428                    5.0             9       5.0  184.0  \n",
       "5737018                    4.5            10       4.0  128.0  \n",
       "6884183                    0.0            10       5.0  138.0  \n",
       "9522737                    5.0             8       4.0   78.0  \n",
       "15272166                   0.0             6       4.0  288.0  "
      ]
     },
     "execution_count": 43,
     "metadata": {},
     "output_type": "execute_result"
    }
   ],
   "source": [
    "df[(df.neighborhood == 'Belém') & (df.bedrooms > 3)].head()"
   ]
  },
  {
   "cell_type": "markdown",
   "metadata": {},
   "source": [
    "Same way, we can select rows that match one condition OR the other with the pipe (`|`)"
   ]
  },
  {
   "cell_type": "code",
   "execution_count": 44,
   "metadata": {
    "scrolled": true
   },
   "outputs": [
    {
     "data": {
      "text/html": [
       "<div>\n",
       "<style scoped>\n",
       "    .dataframe tbody tr th:only-of-type {\n",
       "        vertical-align: middle;\n",
       "    }\n",
       "\n",
       "    .dataframe tbody tr th {\n",
       "        vertical-align: top;\n",
       "    }\n",
       "\n",
       "    .dataframe thead th {\n",
       "        text-align: right;\n",
       "    }\n",
       "</style>\n",
       "<table border=\"1\" class=\"dataframe\">\n",
       "  <thead>\n",
       "    <tr style=\"text-align: right;\">\n",
       "      <th></th>\n",
       "      <th>host_id</th>\n",
       "      <th>room_type</th>\n",
       "      <th>neighborhood</th>\n",
       "      <th>reviews</th>\n",
       "      <th>overall_satisfaction</th>\n",
       "      <th>accommodates</th>\n",
       "      <th>bedrooms</th>\n",
       "      <th>price</th>\n",
       "    </tr>\n",
       "    <tr>\n",
       "      <th>room_id</th>\n",
       "      <th></th>\n",
       "      <th></th>\n",
       "      <th></th>\n",
       "      <th></th>\n",
       "      <th></th>\n",
       "      <th></th>\n",
       "      <th></th>\n",
       "      <th></th>\n",
       "    </tr>\n",
       "  </thead>\n",
       "  <tbody>\n",
       "    <tr>\n",
       "      <th>6499</th>\n",
       "      <td>14455</td>\n",
       "      <td>Entire home/apt</td>\n",
       "      <td>Belém</td>\n",
       "      <td>8</td>\n",
       "      <td>5.0</td>\n",
       "      <td>2</td>\n",
       "      <td>1.0</td>\n",
       "      <td>57.0</td>\n",
       "    </tr>\n",
       "    <tr>\n",
       "      <th>202654</th>\n",
       "      <td>992647</td>\n",
       "      <td>Entire home/apt</td>\n",
       "      <td>Belém</td>\n",
       "      <td>54</td>\n",
       "      <td>4.0</td>\n",
       "      <td>2</td>\n",
       "      <td>1.0</td>\n",
       "      <td>45.0</td>\n",
       "    </tr>\n",
       "    <tr>\n",
       "      <th>212915</th>\n",
       "      <td>1097919</td>\n",
       "      <td>Private room</td>\n",
       "      <td>Benfica</td>\n",
       "      <td>0</td>\n",
       "      <td>0.0</td>\n",
       "      <td>6</td>\n",
       "      <td>1.0</td>\n",
       "      <td>93.0</td>\n",
       "    </tr>\n",
       "    <tr>\n",
       "      <th>418945</th>\n",
       "      <td>2083563</td>\n",
       "      <td>Private room</td>\n",
       "      <td>Belém</td>\n",
       "      <td>2</td>\n",
       "      <td>0.0</td>\n",
       "      <td>2</td>\n",
       "      <td>1.0</td>\n",
       "      <td>127.0</td>\n",
       "    </tr>\n",
       "    <tr>\n",
       "      <th>472183</th>\n",
       "      <td>2341627</td>\n",
       "      <td>Entire home/apt</td>\n",
       "      <td>Belém</td>\n",
       "      <td>64</td>\n",
       "      <td>4.5</td>\n",
       "      <td>4</td>\n",
       "      <td>1.0</td>\n",
       "      <td>67.0</td>\n",
       "    </tr>\n",
       "  </tbody>\n",
       "</table>\n",
       "</div>"
      ],
      "text/plain": [
       "         host_id        room_type neighborhood  reviews  overall_satisfaction  \\\n",
       "room_id                                                                         \n",
       "6499       14455  Entire home/apt        Belém        8                   5.0   \n",
       "202654    992647  Entire home/apt        Belém       54                   4.0   \n",
       "212915   1097919     Private room      Benfica        0                   0.0   \n",
       "418945   2083563     Private room        Belém        2                   0.0   \n",
       "472183   2341627  Entire home/apt        Belém       64                   4.5   \n",
       "\n",
       "         accommodates  bedrooms  price  \n",
       "room_id                                 \n",
       "6499                2       1.0   57.0  \n",
       "202654              2       1.0   45.0  \n",
       "212915              6       1.0   93.0  \n",
       "418945              2       1.0  127.0  \n",
       "472183              4       1.0   67.0  "
      ]
     },
     "execution_count": 44,
     "metadata": {},
     "output_type": "execute_result"
    }
   ],
   "source": [
    "df[(df.neighborhood == \"Belém\") | (df.neighborhood == \"Benfica\")].head()"
   ]
  },
  {
   "cell_type": "code",
   "execution_count": null,
   "metadata": {},
   "outputs": [],
   "source": []
  },
  {
   "cell_type": "markdown",
   "metadata": {},
   "source": [
    "# <font color='#eb3483'> GET SOME PRACTICE </font>\n",
    "\n",
    "## Take 10 minutes and work through these problems as a group to get a feel for doing the coding yourself.\n",
    "\n",
    "It is going to be rough at first. And that's okay. You can copy paste and scroll up. You dont have to remember each command. it's all there - and if it isnt ... google is your friend.\n"
   ]
  },
  {
   "cell_type": "markdown",
   "metadata": {},
   "source": [
    "# <font color='#eb3483'> Filtering Pandas Exercises </font>"
   ]
  },
  {
   "cell_type": "markdown",
   "metadata": {},
   "source": [
    "Let's pretend we are an Airbnb employee assigned to the Lisbon market. Our job is to help clients find their desired listing. We have a file named `airbnb.csv` that has information on all the listings we have available right now in the city. Start by import pandas and loading our data in."
   ]
  },
  {
   "cell_type": "code",
   "execution_count": 47,
   "metadata": {},
   "outputs": [],
   "source": [
    "import pandas as pd\n",
    "df = pd.read_csv('data/airbnb.csv', index_col='room_id')"
   ]
  },
  {
   "cell_type": "markdown",
   "metadata": {},
   "source": [
    "### <font color='#eb3483'> Exercise 1 </font>\n",
    "\n",
    "Alice is going to Lisbon for a week with her husband and 2 kids. They are looking for a full apartment with separate rooms for parents and children. Money is not an issue for them, but they are looking for a good place. This means they are only looking for places with more than 10 reviews and a score above 4. When we show Alice our listing selection we need to make sure we are sorting the listings from the best score to the worse one. In case some listings have the same score, we will have to sort them by the number of reviews (the more the better). We need to give her  3 alternatives."
   ]
  },
  {
   "cell_type": "code",
   "execution_count": 56,
   "metadata": {},
   "outputs": [
    {
     "data": {
      "text/html": [
       "<div>\n",
       "<style scoped>\n",
       "    .dataframe tbody tr th:only-of-type {\n",
       "        vertical-align: middle;\n",
       "    }\n",
       "\n",
       "    .dataframe tbody tr th {\n",
       "        vertical-align: top;\n",
       "    }\n",
       "\n",
       "    .dataframe thead th {\n",
       "        text-align: right;\n",
       "    }\n",
       "</style>\n",
       "<table border=\"1\" class=\"dataframe\">\n",
       "  <thead>\n",
       "    <tr style=\"text-align: right;\">\n",
       "      <th></th>\n",
       "      <th>host_id</th>\n",
       "      <th>room_type</th>\n",
       "      <th>neighborhood</th>\n",
       "      <th>reviews</th>\n",
       "      <th>overall_satisfaction</th>\n",
       "      <th>accommodates</th>\n",
       "      <th>bedrooms</th>\n",
       "      <th>price</th>\n",
       "    </tr>\n",
       "    <tr>\n",
       "      <th>room_id</th>\n",
       "      <th></th>\n",
       "      <th></th>\n",
       "      <th></th>\n",
       "      <th></th>\n",
       "      <th></th>\n",
       "      <th></th>\n",
       "      <th></th>\n",
       "      <th></th>\n",
       "    </tr>\n",
       "  </thead>\n",
       "  <tbody>\n",
       "    <tr>\n",
       "      <th>29720</th>\n",
       "      <td>128075</td>\n",
       "      <td>Entire home/apt</td>\n",
       "      <td>Estrela</td>\n",
       "      <td>14</td>\n",
       "      <td>5.0</td>\n",
       "      <td>16</td>\n",
       "      <td>9.0</td>\n",
       "      <td>1154.0</td>\n",
       "    </tr>\n",
       "    <tr>\n",
       "      <th>9181250</th>\n",
       "      <td>47764540</td>\n",
       "      <td>Entire home/apt</td>\n",
       "      <td>Santa Maria Maior</td>\n",
       "      <td>117</td>\n",
       "      <td>5.0</td>\n",
       "      <td>4</td>\n",
       "      <td>2.0</td>\n",
       "      <td>58.0</td>\n",
       "    </tr>\n",
       "    <tr>\n",
       "      <th>9042775</th>\n",
       "      <td>1756107</td>\n",
       "      <td>Entire home/apt</td>\n",
       "      <td>Misericórdia</td>\n",
       "      <td>90</td>\n",
       "      <td>5.0</td>\n",
       "      <td>4</td>\n",
       "      <td>2.0</td>\n",
       "      <td>104.0</td>\n",
       "    </tr>\n",
       "  </tbody>\n",
       "</table>\n",
       "</div>"
      ],
      "text/plain": [
       "          host_id        room_type       neighborhood  reviews  \\\n",
       "room_id                                                          \n",
       "29720      128075  Entire home/apt            Estrela       14   \n",
       "9181250  47764540  Entire home/apt  Santa Maria Maior      117   \n",
       "9042775   1756107  Entire home/apt       Misericórdia       90   \n",
       "\n",
       "         overall_satisfaction  accommodates  bedrooms   price  \n",
       "room_id                                                        \n",
       "29720                     5.0            16       9.0  1154.0  \n",
       "9181250                   5.0             4       2.0    58.0  \n",
       "9042775                   5.0             4       2.0   104.0  "
      ]
     },
     "execution_count": 56,
     "metadata": {},
     "output_type": "execute_result"
    }
   ],
   "source": [
    "df[(df.reviews > 10) & (df.overall_satisfaction > 4) &(df.bedrooms >= 2)].sort_values('overall_satisfaction', ascending=False).head(3)"
   ]
  },
  {
   "cell_type": "markdown",
   "metadata": {},
   "source": [
    "\n",
    "### <font color='#eb3483'> Exercise 2 </font>\n",
    "\n",
    "Diana is going to spend 3 nights in Lisbon and she wants to meet new people. Se has a budget of 50€. We need to provide to her the 10 cheapests listings, with a preference for shared rooms. We need to sort the rooms by score (descending)."
   ]
  },
  {
   "cell_type": "code",
   "execution_count": 65,
   "metadata": {},
   "outputs": [
    {
     "data": {
      "text/html": [
       "<div>\n",
       "<style scoped>\n",
       "    .dataframe tbody tr th:only-of-type {\n",
       "        vertical-align: middle;\n",
       "    }\n",
       "\n",
       "    .dataframe tbody tr th {\n",
       "        vertical-align: top;\n",
       "    }\n",
       "\n",
       "    .dataframe thead th {\n",
       "        text-align: right;\n",
       "    }\n",
       "</style>\n",
       "<table border=\"1\" class=\"dataframe\">\n",
       "  <thead>\n",
       "    <tr style=\"text-align: right;\">\n",
       "      <th></th>\n",
       "      <th>host_id</th>\n",
       "      <th>room_type</th>\n",
       "      <th>neighborhood</th>\n",
       "      <th>reviews</th>\n",
       "      <th>overall_satisfaction</th>\n",
       "      <th>accommodates</th>\n",
       "      <th>bedrooms</th>\n",
       "      <th>price</th>\n",
       "    </tr>\n",
       "    <tr>\n",
       "      <th>room_id</th>\n",
       "      <th></th>\n",
       "      <th></th>\n",
       "      <th></th>\n",
       "      <th></th>\n",
       "      <th></th>\n",
       "      <th></th>\n",
       "      <th></th>\n",
       "      <th></th>\n",
       "    </tr>\n",
       "  </thead>\n",
       "  <tbody>\n",
       "    <tr>\n",
       "      <th>11523225</th>\n",
       "      <td>58899339</td>\n",
       "      <td>Shared room</td>\n",
       "      <td>Avenidas Novas</td>\n",
       "      <td>4</td>\n",
       "      <td>5.0</td>\n",
       "      <td>9</td>\n",
       "      <td>1.0</td>\n",
       "      <td>23.0</td>\n",
       "    </tr>\n",
       "    <tr>\n",
       "      <th>10397682</th>\n",
       "      <td>32344156</td>\n",
       "      <td>Shared room</td>\n",
       "      <td>Misericórdia</td>\n",
       "      <td>15</td>\n",
       "      <td>5.0</td>\n",
       "      <td>8</td>\n",
       "      <td>1.0</td>\n",
       "      <td>13.0</td>\n",
       "    </tr>\n",
       "    <tr>\n",
       "      <th>13570032</th>\n",
       "      <td>78249982</td>\n",
       "      <td>Shared room</td>\n",
       "      <td>Misericórdia</td>\n",
       "      <td>8</td>\n",
       "      <td>5.0</td>\n",
       "      <td>10</td>\n",
       "      <td>1.0</td>\n",
       "      <td>48.0</td>\n",
       "    </tr>\n",
       "  </tbody>\n",
       "</table>\n",
       "</div>"
      ],
      "text/plain": [
       "           host_id    room_type    neighborhood  reviews  \\\n",
       "room_id                                                    \n",
       "11523225  58899339  Shared room  Avenidas Novas        4   \n",
       "10397682  32344156  Shared room    Misericórdia       15   \n",
       "13570032  78249982  Shared room    Misericórdia        8   \n",
       "\n",
       "          overall_satisfaction  accommodates  bedrooms  price  \n",
       "room_id                                                        \n",
       "11523225                   5.0             9       1.0   23.0  \n",
       "10397682                   5.0             8       1.0   13.0  \n",
       "13570032                   5.0            10       1.0   48.0  "
      ]
     },
     "execution_count": 65,
     "metadata": {},
     "output_type": "execute_result"
    }
   ],
   "source": [
    "df[(df.price <= 50) & (df.room_type == 'Shared room')].sort_values('overall_satisfaction', ascending=False).head(3)"
   ]
  }
 ],
 "metadata": {
  "kernelspec": {
   "display_name": "Python 3",
   "language": "python",
   "name": "python3"
  },
  "language_info": {
   "codemirror_mode": {
    "name": "ipython",
    "version": 3
   },
   "file_extension": ".py",
   "mimetype": "text/x-python",
   "name": "python",
   "nbconvert_exporter": "python",
   "pygments_lexer": "ipython3",
   "version": "3.8.8"
  }
 },
 "nbformat": 4,
 "nbformat_minor": 2
}
