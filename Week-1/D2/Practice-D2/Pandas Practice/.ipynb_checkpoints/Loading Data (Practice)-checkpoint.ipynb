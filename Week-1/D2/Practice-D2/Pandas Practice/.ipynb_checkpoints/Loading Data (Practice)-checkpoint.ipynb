{
 "cells": [
  {
   "cell_type": "markdown",
   "metadata": {},
   "source": [
    "# <font color='#eb3483'> Practice: Loading Data </font>\n",
    "\n",
    "In the 'data' folder are some datasets we'll be using tomorrow. Give yourself a head start by loading the data and getting a feel for what each dataset contains using the methods covered in class today. For each dataset (or for as many as it takes to get the hang of it):\n",
    "1. Print the first 10 rows\n",
    "2. Print the data type of each column\n",
    "3. Check out the shape (i.e. dimensions)\n",
    "4. Print the name of each column\n",
    "5. Get some quick summary statistics (i.e. mean, median) of each column (hint: check out the describe function)"
   ]
  },
  {
   "cell_type": "code",
   "execution_count": 2,
   "metadata": {
    "scrolled": true
   },
   "outputs": [
    {
     "name": "stdout",
     "output_type": "stream",
     "text": [
      "airbnb.csv  crime_data.txt  population_lisboa.csv  titanic.csv\r\n"
     ]
    }
   ],
   "source": [
    "# Listing the CSV files:\n",
    "!ls data/"
   ]
  },
  {
   "cell_type": "code",
   "execution_count": null,
   "metadata": {},
   "outputs": [],
   "source": []
  }
 ],
 "metadata": {
  "kernelspec": {
   "display_name": "Python 3",
   "language": "python",
   "name": "python3"
  },
  "language_info": {
   "codemirror_mode": {
    "name": "ipython",
    "version": 3
   },
   "file_extension": ".py",
   "mimetype": "text/x-python",
   "name": "python",
   "nbconvert_exporter": "python",
   "pygments_lexer": "ipython3",
   "version": "3.8.3"
  }
 },
 "nbformat": 4,
 "nbformat_minor": 2
}
