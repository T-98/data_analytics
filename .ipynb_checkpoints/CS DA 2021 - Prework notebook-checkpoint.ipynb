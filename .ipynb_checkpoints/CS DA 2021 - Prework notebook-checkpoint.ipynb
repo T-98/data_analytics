{
 "cells": [
  {
   "cell_type": "markdown",
   "metadata": {
    "colab_type": "text",
    "id": "W442mLXjYgr2"
   },
   "source": [
    "# <font color='#F9007A'> GETTING STARTED </font>\n",
    "\n",
    "\n",
    "Welcome to Career Semester Data Analytcs 2021 remote class! We look forward to kicking off the class with you but in the mean time please run through this notebook to familiarise yourself with Jupyter notebooks and also some python coding basics.\n",
    "\n"
   ]
  },
  {
   "cell_type": "markdown",
   "metadata": {
    "colab_type": "text",
    "id": "t-c7W_WmYgr4"
   },
   "source": [
    "### Some navigating in Jupyter Notebooks"
   ]
  },
  {
   "cell_type": "code",
   "execution_count": 1,
   "metadata": {
    "colab": {
     "base_uri": "https://localhost:8080/",
     "height": 35
    },
    "colab_type": "code",
    "executionInfo": {
     "elapsed": 869,
     "status": "ok",
     "timestamp": 1600192067171,
     "user": {
      "displayName": "Enock Kipkemboi",
      "photoUrl": "https://lh3.googleusercontent.com/a-/AOh14GizCzsQESXPA2F3fIxqQDEIPrYFkqYplrS9IJE=s64",
      "userId": "12001580697035227328"
     },
     "user_tz": -180
    },
    "id": "z7El_-16Ygr6",
    "outputId": "75fde563-e633-4002-cb11-b51ba2573126"
   },
   "outputs": [
    {
     "name": "stdout",
     "output_type": "stream",
     "text": [
      "Hello World!\n"
     ]
    }
   ],
   "source": [
    "# to run a cell hit Control+Enter\n",
    "# to run a cell and move to the next cell hit Shift+Enter\n",
    "\n",
    "print('Hello World!')\n"
   ]
  },
  {
   "cell_type": "markdown",
   "metadata": {
    "colab_type": "text",
    "id": "iPJeRaygYgsD"
   },
   "source": [
    "### Markdown"
   ]
  },
  {
   "cell_type": "markdown",
   "metadata": {
    "colab_type": "text",
    "id": "-chiaDAkYgsE"
   },
   "source": [
    "This is a markdown cell. Double click to see the code."
   ]
  },
  {
   "cell_type": "markdown",
   "metadata": {
    "colab_type": "text",
    "id": "Cy0LWF-wYgsG"
   },
   "source": [
    "To change the cell type (and other options) you need to be in \"command mode\". You are in command mode when the colour on the left of your cell is blue and you are in \"edit mode\" when the colour is green.\n",
    "\n",
    "To get into command mode you can hit esc, click the pencil icon on the top right or click next to the line colour on the left of the cell.\n",
    "\n",
    "Try it in the empty cell below.\n",
    "\n",
    "To get back to edit mode from command mode hit enter.\n",
    "\n",
    "To change a cell to Markdown. Enter command mode and select markdown from the dropdown menu above or simply hit m.\n",
    "\n",
    "To view command mode shortcuts - hit h while in command mode\n"
   ]
  },
  {
   "cell_type": "markdown",
   "metadata": {
    "colab": {},
    "colab_type": "code",
    "executionInfo": {
     "elapsed": 1890,
     "status": "ok",
     "timestamp": 1600192068198,
     "user": {
      "displayName": "Enock Kipkemboi",
      "photoUrl": "https://lh3.googleusercontent.com/a-/AOh14GizCzsQESXPA2F3fIxqQDEIPrYFkqYplrS9IJE=s64",
      "userId": "12001580697035227328"
     },
     "user_tz": -180
    },
    "id": "ceXPRHOVYgsH"
   },
   "source": []
  },
  {
   "cell_type": "markdown",
   "metadata": {
    "colab_type": "text",
    "id": "CFBzfazaYgsL"
   },
   "source": [
    "\n",
    "Once a cell is set to output markdown, you can write text and it will turn into beautiful html. Here is a great markdown [cheatsheet](https://github.com/adam-p/markdown-here/wiki/Markdown-Cheatsheet#code) to keep handy!\n",
    "\n",
    "**This in bold** \n",
    "(double click this cell to see how we generate these effects - to transform to markdown simply run cell as normal\n",
    "\n",
    "*This in italics*\n",
    "\n",
    "### Introduction to Jupyter Header\n",
    "\n",
    "- Element 1\n",
    "  - Element 1.1\n",
    "  \n",
    "  \n",
    "<hr>\n",
    "\n",
    "![kitty](https://c24e867c169a525707e0-bfbd62e61283d807ee2359a795242ecb.ssl.cf3.rackcdn.com/imagenes/gato/etapas-clave-de-su-vida/gatitos/nuevo-gatito-en-casa/gatito-tumbado-lamiendo-sus-patitas.jpg)"
   ]
  },
  {
   "cell_type": "markdown",
   "metadata": {
    "colab_type": "text",
    "id": "KHf7Ig96YgsM"
   },
   "source": [
    "<hr>\n",
    "\n",
    "### Code cells"
   ]
  },
  {
   "cell_type": "code",
   "execution_count": 2,
   "metadata": {
    "colab": {
     "base_uri": "https://localhost:8080/",
     "height": 72
    },
    "colab_type": "code",
    "executionInfo": {
     "elapsed": 1886,
     "status": "ok",
     "timestamp": 1600192068200,
     "user": {
      "displayName": "Enock Kipkemboi",
      "photoUrl": "https://lh3.googleusercontent.com/a-/AOh14GizCzsQESXPA2F3fIxqQDEIPrYFkqYplrS9IJE=s64",
      "userId": "12001580697035227328"
     },
     "user_tz": -180
    },
    "id": "JUPLWZEjYgsN",
    "outputId": "1af23d35-e850-4a8a-fe36-31d5fad271cc"
   },
   "outputs": [
    {
     "name": "stdout",
     "output_type": "stream",
     "text": [
      "Hello World!\n",
      "Second line to print!\n",
      "Printing our third line\n"
     ]
    }
   ],
   "source": [
    "# This is a comment, python ignores these lines. Its useful to add small explanations to your code or notes to yourself \n",
    "\n",
    "#Python scripts are executed linearly, line after line, top to bottom\n",
    "\n",
    "print('Hello World!')\n",
    "\n",
    "print(\"Second line to print!\")\n",
    "\n",
    "# in python, text (strings), can be defined either with single quotes ' or double quotes \"\n",
    "print('Printing our third line')\n"
   ]
  },
  {
   "cell_type": "markdown",
   "metadata": {
    "colab_type": "text",
    "id": "iHOX9sXIYgsS"
   },
   "source": [
    "### A few more helpful tips\n",
    "\n",
    "When in command mode here are a few handy shortcuts. Hitting:\n",
    "- m changes cell to markdown\n",
    "- a inserts cell above\n",
    "- b inserts cell below\n",
    "- dd deletes a cell.\n",
    "- z undoes delete cell\n"
   ]
  },
  {
   "cell_type": "markdown",
   "metadata": {
    "colab_type": "text",
    "id": "dx9ZxNT2YgsT"
   },
   "source": [
    "<hr>"
   ]
  },
  {
   "cell_type": "markdown",
   "metadata": {
    "colab_type": "text",
    "id": "kpJNb40MYgsU"
   },
   "source": [
    "\n",
    "# <font color='#F9007A'> INTRO TO PYTHON </font>\n",
    "\n",
    "<font color='#F9007A'> 1. Variables in Python </font>\n",
    "\n",
    "<font color='#F9007A'> 2. Data types </font>\n",
    "\n",
    "<font color='#F9007A'> 3. Data Structures </font>\n",
    "\n",
    "<font color='#F9007A'> 4. Control Flow types </font>\n",
    "\n",
    "<font color='#F9007A'> 5. Functions </font>\n",
    "\n",
    "\n",
    "\n",
    "<br>\n",
    "\n",
    "**Be an active rather than a passive learner:**\n",
    "\n",
    "Anybody can hit shift enter and whiz through this notebook. \n",
    "\n",
    "As you go through the notebook. Stop. Think. Can you think of a situation you might use that code.\n",
    "\n",
    "Change inputs, change names ... see what happens. Be playful and inquisitive. You wont break anything. You can always download it again :)\n",
    "\n",
    "If something doesnt make sense. Google for an explanation. \n",
    "\n",
    "If you arent sure what a piece of code does - try changing it and see. \n",
    "\n",
    "Or you can always use the inbuilt help function as in the cell below\n"
   ]
  },
  {
   "cell_type": "code",
   "execution_count": null,
   "metadata": {
    "colab": {},
    "colab_type": "code",
    "executionInfo": {
     "elapsed": 1880,
     "status": "ok",
     "timestamp": 1600192068202,
     "user": {
      "displayName": "Enock Kipkemboi",
      "photoUrl": "https://lh3.googleusercontent.com/a-/AOh14GizCzsQESXPA2F3fIxqQDEIPrYFkqYplrS9IJE=s64",
      "userId": "12001580697035227328"
     },
     "user_tz": -180
    },
    "id": "oWp9XyLpYgsV"
   },
   "outputs": [],
   "source": [
    "print?"
   ]
  },
  {
   "cell_type": "markdown",
   "metadata": {
    "colab_type": "text",
    "id": "KKgdItqCYgsa"
   },
   "source": [
    "**I recommend doing this notebook in a couple of sessions over a day or two to just to let the information sink in.**\n",
    "\n",
    "This first notebook has a lot of the really basic need to knows.\n",
    "The use of code in the examples below is to show you how each function works. It might seem a little bit abstract here. But once we nail down the basics we can start applying them to real data - and their utility will come shining through.\n",
    "\n",
    "So for now - let's smash the basic and practice some python!\n"
   ]
  },
  {
   "cell_type": "markdown",
   "metadata": {
    "colab_type": "text",
    "id": "LMwgrCYDYgsb"
   },
   "source": [
    "<br>\n",
    "<br>\n",
    "\n",
    "<hr>\n",
    "\n"
   ]
  },
  {
   "cell_type": "markdown",
   "metadata": {
    "colab_type": "text",
    "id": "7S3tHlEUYgsc"
   },
   "source": [
    "# <font color='#F9007A'> 1. VARIABLES IN PYTHON </font>\n",
    "In Python, variable names are like stickers put on objects. Every sticker has a unique name written on it, and it can only be on one object at a time. If desired, more than one sticker can be put on the same object."
   ]
  },
  {
   "cell_type": "code",
   "execution_count": 3,
   "metadata": {
    "colab": {
     "base_uri": "https://localhost:8080/",
     "height": 54
    },
    "colab_type": "code",
    "executionInfo": {
     "elapsed": 1949,
     "status": "ok",
     "timestamp": 1600192068279,
     "user": {
      "displayName": "Enock Kipkemboi",
      "photoUrl": "https://lh3.googleusercontent.com/a-/AOh14GizCzsQESXPA2F3fIxqQDEIPrYFkqYplrS9IJE=s64",
      "userId": "12001580697035227328"
     },
     "user_tz": -180
    },
    "id": "r-yKJGhDYgsd",
    "outputId": "21dabb4b-b42d-4969-b0bf-ff77f5fdafa9"
   },
   "outputs": [
    {
     "name": "stdout",
     "output_type": "stream",
     "text": [
      "Animal is cat, pet is cat\n",
      "Animal is now giraffe, pet is still cat\n"
     ]
    }
   ],
   "source": [
    "# assign the 'animal' sticker to the cat string\n",
    "animal = 'cat'\n",
    "\n",
    "# also assign the 'pet' sticker to the underlying cat string\n",
    "pet = animal\n",
    "\n",
    "print(f'Animal is {animal}, pet is {pet}') # we'll get to the f annotation in a few seconds :) \n",
    "#But to see what the f does, delete it and try run the code again\n",
    "\n",
    "# move the animal sticker to giraffe\n",
    "animal = 'giraffe'\n",
    "\n",
    "print(f'Animal is now {animal}, pet is still {pet}')"
   ]
  },
  {
   "cell_type": "code",
   "execution_count": 4,
   "metadata": {
    "colab": {},
    "colab_type": "code",
    "executionInfo": {
     "elapsed": 1948,
     "status": "ok",
     "timestamp": 1600192068281,
     "user": {
      "displayName": "Enock Kipkemboi",
      "photoUrl": "https://lh3.googleusercontent.com/a-/AOh14GizCzsQESXPA2F3fIxqQDEIPrYFkqYplrS9IJE=s64",
      "userId": "12001580697035227328"
     },
     "user_tz": -180
    },
    "id": "PKD3zTfLYgsh"
   },
   "outputs": [
    {
     "name": "stdout",
     "output_type": "stream",
     "text": [
      "Pet is now giraffe\n"
     ]
    }
   ],
   "source": [
    "# How would you get pet to change as well? Try it out below!\n",
    "\n",
    "\n",
    "pet = animal\n",
    "print(f'Pet is now {pet}')\n",
    "\n"
   ]
  },
  {
   "cell_type": "markdown",
   "metadata": {
    "colab_type": "text",
    "id": "WWfF-GXSYgsl"
   },
   "source": [
    "# END OF VARIABLE TYPES \n",
    "(They arent all this quick ;) )\n",
    "\n",
    "![variables](https://starecat.com/content/wp-content/uploads/actual-programming-vs-debating-30-minutes-on-how-to-name-a-variable-drake-meme.jpg)\n",
    "\n",
    "<hr>\n",
    "<br>\n",
    "<br>\n",
    "<br>\n"
   ]
  },
  {
   "cell_type": "markdown",
   "metadata": {
    "colab_type": "text",
    "id": "YFhu4tmjYgsm"
   },
   "source": [
    "# <font color='#F9007A'> 2. DATA TYPES </font>\n",
    "Python has many types of data that are a part of the core language, they \n",
    "are called primitives.\n",
    "\n",
    "The most common primitives are \n",
    "1. strings, \n",
    "1. numbers (integers and decimals), and \n",
    "1. booleans"
   ]
  },
  {
   "cell_type": "markdown",
   "metadata": {
    "colab_type": "text",
    "id": "afIX0eK-Ygsn"
   },
   "source": [
    "### <font color='#F9007A'> 1. Strings </font>"
   ]
  },
  {
   "cell_type": "code",
   "execution_count": 5,
   "metadata": {
    "colab": {
     "base_uri": "https://localhost:8080/",
     "height": 109
    },
    "colab_type": "code",
    "executionInfo": {
     "elapsed": 1937,
     "status": "ok",
     "timestamp": 1600192068281,
     "user": {
      "displayName": "Enock Kipkemboi",
      "photoUrl": "https://lh3.googleusercontent.com/a-/AOh14GizCzsQESXPA2F3fIxqQDEIPrYFkqYplrS9IJE=s64",
      "userId": "12001580697035227328"
     },
     "user_tz": -180
    },
    "id": "lniHvi7mYgso",
    "outputId": "3f10fd50-61ef-4c18-bb77-4c20524f5390"
   },
   "outputs": [
    {
     "name": "stdout",
     "output_type": "stream",
     "text": [
      "We use strings to represent text:\n",
      "Hello\n",
      "World!\n",
      "Hello World!\n",
      "<class 'str'>\n"
     ]
    }
   ],
   "source": [
    "print(\"We use strings to represent text:\")\n",
    "\n",
    "var_str = 'Hello'\n",
    "var_str2 = \"World!\"\n",
    "print(var_str)\n",
    "print(var_str2)\n",
    "print(var_str, var_str2)\n",
    "\n",
    "print(type(var_str2))"
   ]
  },
  {
   "cell_type": "code",
   "execution_count": 6,
   "metadata": {
    "colab": {},
    "colab_type": "code",
    "executionInfo": {
     "elapsed": 1929,
     "status": "ok",
     "timestamp": 1600192068282,
     "user": {
      "displayName": "Enock Kipkemboi",
      "photoUrl": "https://lh3.googleusercontent.com/a-/AOh14GizCzsQESXPA2F3fIxqQDEIPrYFkqYplrS9IJE=s64",
      "userId": "12001580697035227328"
     },
     "user_tz": -180
    },
    "id": "YtWfZ6WgYgst"
   },
   "outputs": [],
   "source": [
    "#If you want to better understand what a function does use the inbuilt help feature\n",
    "#by either typing ?function_name or using the help menu item (or good old google)\n",
    "\n",
    "?print"
   ]
  },
  {
   "cell_type": "markdown",
   "metadata": {
    "colab_type": "text",
    "id": "5i4KR94aYgsy"
   },
   "source": [
    "Strings can be joined to create longer strings. There are many ways to join strings\n",
    "(this is called string interpolation).\n",
    "\n",
    "We can use the simbol `+` to \"sum\" (concatenate) strings"
   ]
  },
  {
   "cell_type": "code",
   "execution_count": 7,
   "metadata": {
    "colab": {
     "base_uri": "https://localhost:8080/",
     "height": 35
    },
    "colab_type": "code",
    "executionInfo": {
     "elapsed": 1938,
     "status": "ok",
     "timestamp": 1600192068299,
     "user": {
      "displayName": "Enock Kipkemboi",
      "photoUrl": "https://lh3.googleusercontent.com/a-/AOh14GizCzsQESXPA2F3fIxqQDEIPrYFkqYplrS9IJE=s64",
      "userId": "12001580697035227328"
     },
     "user_tz": -180
    },
    "id": "JQeulU6EYgsz",
    "outputId": "a98361f4-bf6c-4591-c5f8-cfb72e3717d0"
   },
   "outputs": [
    {
     "name": "stdout",
     "output_type": "stream",
     "text": [
      "Connor Lawless\n"
     ]
    }
   ],
   "source": [
    "name = \"Connor\"\n",
    "surname = \"Lawless\" \n",
    "\n",
    "var_str_joined = name + \" \" + surname #remove the space between the \"\" and see what happens\n",
    "print(var_str_joined)"
   ]
  },
  {
   "cell_type": "code",
   "execution_count": 8,
   "metadata": {
    "colab": {
     "base_uri": "https://localhost:8080/",
     "height": 35
    },
    "colab_type": "code",
    "executionInfo": {
     "elapsed": 1936,
     "status": "ok",
     "timestamp": 1600192068300,
     "user": {
      "displayName": "Enock Kipkemboi",
      "photoUrl": "https://lh3.googleusercontent.com/a-/AOh14GizCzsQESXPA2F3fIxqQDEIPrYFkqYplrS9IJE=s64",
      "userId": "12001580697035227328"
     },
     "user_tz": -180
    },
    "id": "Nn33MOLUYgs3",
    "outputId": "fff31a91-6d28-43c4-9e93-05471fe7e00c"
   },
   "outputs": [
    {
     "name": "stdout",
     "output_type": "stream",
     "text": [
      "hellohellohellohellohellohellohellohellohellohello\n"
     ]
    }
   ],
   "source": [
    "#We can also \"multiply\" strings\n",
    "n = \"hello\"\n",
    "print(n * 10)"
   ]
  },
  {
   "cell_type": "markdown",
   "metadata": {
    "colab_type": "text",
    "id": "yJdZb4VXYgs7"
   },
   "source": [
    "We can also use the method `format()` that allows us to insert strings inside other strings\n"
   ]
  },
  {
   "cell_type": "code",
   "execution_count": 9,
   "metadata": {
    "colab": {
     "base_uri": "https://localhost:8080/",
     "height": 35
    },
    "colab_type": "code",
    "executionInfo": {
     "elapsed": 1935,
     "status": "ok",
     "timestamp": 1600192068301,
     "user": {
      "displayName": "Enock Kipkemboi",
      "photoUrl": "https://lh3.googleusercontent.com/a-/AOh14GizCzsQESXPA2F3fIxqQDEIPrYFkqYplrS9IJE=s64",
      "userId": "12001580697035227328"
     },
     "user_tz": -180
    },
    "id": "r7OYN6c3Ygs8",
    "outputId": "98279c3f-0036-480c-9e6a-bbae1c59e74d"
   },
   "outputs": [
    {
     "name": "stdout",
     "output_type": "stream",
     "text": [
      "Hi, I'm Connor, and I'm from Toronto\n"
     ]
    }
   ],
   "source": [
    "name = \"Connor\"\n",
    "city = \"Toronto\"\n",
    "\n",
    "presentation = \"Hi, I'm {}, and I'm from {}\"\n",
    "\n",
    "print(presentation.format(name, city))\n"
   ]
  },
  {
   "cell_type": "markdown",
   "metadata": {
    "colab_type": "text",
    "id": "L7sh6xGYYgtA"
   },
   "source": [
    "Try make variables of your own name and city in the below cell\n",
    "and use the presentation command above to print your name and city in a sentance."
   ]
  },
  {
   "cell_type": "code",
   "execution_count": 10,
   "metadata": {
    "colab": {},
    "colab_type": "code",
    "executionInfo": {
     "elapsed": 1931,
     "status": "ok",
     "timestamp": 1600192068301,
     "user": {
      "displayName": "Enock Kipkemboi",
      "photoUrl": "https://lh3.googleusercontent.com/a-/AOh14GizCzsQESXPA2F3fIxqQDEIPrYFkqYplrS9IJE=s64",
      "userId": "12001580697035227328"
     },
     "user_tz": -180
    },
    "id": "_NybICwDYgtA"
   },
   "outputs": [
    {
     "name": "stdout",
     "output_type": "stream",
     "text": [
      "Hi, I'm Divyansh, and I'm from London\n"
     ]
    }
   ],
   "source": [
    "name = \"Divyansh\"\n",
    "city = \"London\"\n",
    "\n",
    "presentation = \"Hi, I'm {}, and I'm from {}\"\n",
    "\n",
    "print(presentation.format(name, city))"
   ]
  },
  {
   "cell_type": "markdown",
   "metadata": {
    "colab_type": "text",
    "id": "0N0G2eSWYgtE"
   },
   "source": [
    "Python is a language with \"batteries included\" this means it includes a lot of \n",
    "functionalities when we install python.\n",
    "\n",
    "Those functionalities are usually grouped in packages (or modules) and we can \n",
    "\"load\" them and use them with the keyword `import`\n",
    "\n",
    "For example, if we want to use the `math` module, that has many mathematical functions,\n",
    "we can access it if we type `import math`"
   ]
  },
  {
   "cell_type": "code",
   "execution_count": 12,
   "metadata": {
    "colab": {},
    "colab_type": "code",
    "executionInfo": {
     "elapsed": 1930,
     "status": "ok",
     "timestamp": 1600192068302,
     "user": {
      "displayName": "Enock Kipkemboi",
      "photoUrl": "https://lh3.googleusercontent.com/a-/AOh14GizCzsQESXPA2F3fIxqQDEIPrYFkqYplrS9IJE=s64",
      "userId": "12001580697035227328"
     },
     "user_tz": -180
    },
    "id": "AFXI101BYgtF"
   },
   "outputs": [],
   "source": [
    "import math"
   ]
  },
  {
   "cell_type": "code",
   "execution_count": 13,
   "metadata": {
    "colab": {
     "base_uri": "https://localhost:8080/",
     "height": 35
    },
    "colab_type": "code",
    "executionInfo": {
     "elapsed": 1929,
     "status": "ok",
     "timestamp": 1600192068302,
     "user": {
      "displayName": "Enock Kipkemboi",
      "photoUrl": "https://lh3.googleusercontent.com/a-/AOh14GizCzsQESXPA2F3fIxqQDEIPrYFkqYplrS9IJE=s64",
      "userId": "12001580697035227328"
     },
     "user_tz": -180
    },
    "id": "OmOgKgM7YgtI",
    "outputId": "2b2d8b90-f9d9-4563-d69a-a89c007e7ff5"
   },
   "outputs": [
    {
     "name": "stdout",
     "output_type": "stream",
     "text": [
      "3.141592653589793\n"
     ]
    }
   ],
   "source": [
    "# Now we can access all the functionalities in the math module\n",
    "print(math.pi)"
   ]
  },
  {
   "cell_type": "markdown",
   "metadata": {
    "colab_type": "text",
    "id": "1D-Qr0bDYgtN"
   },
   "source": [
    "When using the `format` method we can specify how do we want to format the \n",
    "variables. For example, we can round the variables."
   ]
  },
  {
   "cell_type": "code",
   "execution_count": 14,
   "metadata": {
    "colab": {
     "base_uri": "https://localhost:8080/",
     "height": 35
    },
    "colab_type": "code",
    "executionInfo": {
     "elapsed": 1927,
     "status": "ok",
     "timestamp": 1600192068303,
     "user": {
      "displayName": "Enock Kipkemboi",
      "photoUrl": "https://lh3.googleusercontent.com/a-/AOh14GizCzsQESXPA2F3fIxqQDEIPrYFkqYplrS9IJE=s64",
      "userId": "12001580697035227328"
     },
     "user_tz": -180
    },
    "id": "-ISw_7ZXYgtP",
    "outputId": "7c36a042-cb27-4612-a557-33031035aad1"
   },
   "outputs": [
    {
     "name": "stdout",
     "output_type": "stream",
     "text": [
      "The first digits of pi are: 3.141592653589793\n"
     ]
    }
   ],
   "source": [
    "pi_str = \"The first digits of pi are: {}\".format(math.pi)\n",
    "print(pi_str)"
   ]
  },
  {
   "cell_type": "code",
   "execution_count": 15,
   "metadata": {
    "colab": {
     "base_uri": "https://localhost:8080/",
     "height": 35
    },
    "colab_type": "code",
    "executionInfo": {
     "elapsed": 1925,
     "status": "ok",
     "timestamp": 1600192068307,
     "user": {
      "displayName": "Enock Kipkemboi",
      "photoUrl": "https://lh3.googleusercontent.com/a-/AOh14GizCzsQESXPA2F3fIxqQDEIPrYFkqYplrS9IJE=s64",
      "userId": "12001580697035227328"
     },
     "user_tz": -180
    },
    "id": "kkO3XTQcYgtT",
    "outputId": "72a67a0c-6a32-483f-f7f6-e9e96a6e31ce"
   },
   "outputs": [
    {
     "name": "stdout",
     "output_type": "stream",
     "text": [
      "The first digits of pi are: 3.14\n"
     ]
    }
   ],
   "source": [
    "# We can print the string rounded to 2 digits\n",
    "pi_str = \"The first digits of pi are: {:.3}\".format(math.pi)\n",
    "print(pi_str)"
   ]
  },
  {
   "cell_type": "code",
   "execution_count": 16,
   "metadata": {
    "colab": {
     "base_uri": "https://localhost:8080/",
     "height": 35
    },
    "colab_type": "code",
    "executionInfo": {
     "elapsed": 1923,
     "status": "ok",
     "timestamp": 1600192068307,
     "user": {
      "displayName": "Enock Kipkemboi",
      "photoUrl": "https://lh3.googleusercontent.com/a-/AOh14GizCzsQESXPA2F3fIxqQDEIPrYFkqYplrS9IJE=s64",
      "userId": "12001580697035227328"
     },
     "user_tz": -180
    },
    "id": "XUwLRt8AYgta",
    "outputId": "3e48a30c-b84e-4a68-f9cf-a6e4210fe1f2"
   },
   "outputs": [
    {
     "name": "stdout",
     "output_type": "stream",
     "text": [
      "Hi, I'm Divyansh, and I'm from London\n"
     ]
    }
   ],
   "source": [
    "#Another (shorter) method to do string interpolation is referencing the variable \n",
    "#directly in the string by using an f-string\n",
    "\n",
    "presentation2 = f\"Hi, I'm {name}, and I'm from {city}\"\n",
    "\n",
    "print(presentation2)"
   ]
  },
  {
   "cell_type": "code",
   "execution_count": 17,
   "metadata": {
    "colab": {
     "base_uri": "https://localhost:8080/",
     "height": 35
    },
    "colab_type": "code",
    "executionInfo": {
     "elapsed": 1921,
     "status": "ok",
     "timestamp": 1600192068308,
     "user": {
      "displayName": "Enock Kipkemboi",
      "photoUrl": "https://lh3.googleusercontent.com/a-/AOh14GizCzsQESXPA2F3fIxqQDEIPrYFkqYplrS9IJE=s64",
      "userId": "12001580697035227328"
     },
     "user_tz": -180
    },
    "id": "fhmQwnB7Ygtd",
    "outputId": "37ec10dd-7a3d-431c-97aa-8ed652aea962"
   },
   "outputs": [
    {
     "name": "stdout",
     "output_type": "stream",
     "text": [
      "Hi, I'm Divyansh, and I'm from London\n"
     ]
    }
   ],
   "source": [
    "#Checking we understand object naming\n",
    "\n",
    "#Why does the below code give us that output\n",
    "name = \"John\"\n",
    "print(presentation2)"
   ]
  },
  {
   "cell_type": "markdown",
   "metadata": {
    "colab_type": "text",
    "id": "6DltiNPyYgtg"
   },
   "source": [
    "### More operations with strings"
   ]
  },
  {
   "cell_type": "code",
   "execution_count": 18,
   "metadata": {
    "colab": {
     "base_uri": "https://localhost:8080/",
     "height": 128
    },
    "colab_type": "code",
    "executionInfo": {
     "elapsed": 1920,
     "status": "ok",
     "timestamp": 1600192068309,
     "user": {
      "displayName": "Enock Kipkemboi",
      "photoUrl": "https://lh3.googleusercontent.com/a-/AOh14GizCzsQESXPA2F3fIxqQDEIPrYFkqYplrS9IJE=s64",
      "userId": "12001580697035227328"
     },
     "user_tz": -180
    },
    "id": "RDjZ-RjRYgtg",
    "outputId": "d615a6a3-5860-4345-a6f9-db0abedcc7f0"
   },
   "outputs": [
    {
     "name": "stdout",
     "output_type": "stream",
     "text": [
      "We can convert a string to uppercase with upper()\n",
      "INTRODUCTION TO PYTHON\n",
      "We can convert a string to lowercase with lower()\n",
      "introduction to python\n",
      "We can convert the first letter to upper case with capitalize()\n",
      "Introduction to python\n"
     ]
    }
   ],
   "source": [
    "title = \"introduction to PYTHON\"\n",
    "\n",
    "print(\"We can convert a string to uppercase with upper()\")\n",
    "print(title.upper())\n",
    "\n",
    "print(\"We can convert a string to lowercase with lower()\")\n",
    "print(title.lower())\n",
    "\n",
    "print(\"We can convert the first letter to upper case with capitalize()\")\n",
    "print(title.capitalize())"
   ]
  },
  {
   "cell_type": "code",
   "execution_count": 19,
   "metadata": {
    "colab": {
     "base_uri": "https://localhost:8080/",
     "height": 54
    },
    "colab_type": "code",
    "executionInfo": {
     "elapsed": 1918,
     "status": "ok",
     "timestamp": 1600192068309,
     "user": {
      "displayName": "Enock Kipkemboi",
      "photoUrl": "https://lh3.googleusercontent.com/a-/AOh14GizCzsQESXPA2F3fIxqQDEIPrYFkqYplrS9IJE=s64",
      "userId": "12001580697035227328"
     },
     "user_tz": -180
    },
    "id": "FmByXwD8Ygtj",
    "outputId": "6e07a6d2-da01-4384-d905-77d7d772ecbe"
   },
   "outputs": [
    {
     "name": "stdout",
     "output_type": "stream",
     "text": [
      "We can use `strip()` to remove characters from the beginning and the end of a string\n",
      "Connor\n"
     ]
    }
   ],
   "source": [
    "name_with_commas = \",Connor,\"\n",
    "\n",
    "print(\"We can use `strip()` to remove characters from the beginning and the end of a string\")\n",
    "print(name_with_commas.strip(\",\"))"
   ]
  },
  {
   "cell_type": "code",
   "execution_count": 20,
   "metadata": {
    "colab": {
     "base_uri": "https://localhost:8080/",
     "height": 54
    },
    "colab_type": "code",
    "executionInfo": {
     "elapsed": 1917,
     "status": "ok",
     "timestamp": 1600192068310,
     "user": {
      "displayName": "Enock Kipkemboi",
      "photoUrl": "https://lh3.googleusercontent.com/a-/AOh14GizCzsQESXPA2F3fIxqQDEIPrYFkqYplrS9IJE=s64",
      "userId": "12001580697035227328"
     },
     "user_tz": -180
    },
    "id": "DMSxFFyMYgtn",
    "outputId": "753b3503-2332-4f13-a4ab-ffc6a4544189"
   },
   "outputs": [
    {
     "name": "stdout",
     "output_type": "stream",
     "text": [
      "We use `replace()` to replace parts of a string for something else\n",
      ",Conman,\n"
     ]
    }
   ],
   "source": [
    "print(\"We use `replace()` to replace parts of a string for something else\")\n",
    "print(name_with_commas.replace(\"nor\", \"man\"))\n",
    "\n",
    "# think of an example where you might need to use replace"
   ]
  },
  {
   "cell_type": "code",
   "execution_count": 21,
   "metadata": {
    "colab": {
     "base_uri": "https://localhost:8080/",
     "height": 54
    },
    "colab_type": "code",
    "executionInfo": {
     "elapsed": 1916,
     "status": "ok",
     "timestamp": 1600192068311,
     "user": {
      "displayName": "Enock Kipkemboi",
      "photoUrl": "https://lh3.googleusercontent.com/a-/AOh14GizCzsQESXPA2F3fIxqQDEIPrYFkqYplrS9IJE=s64",
      "userId": "12001580697035227328"
     },
     "user_tz": -180
    },
    "id": "raYuzV7TYgtp",
    "outputId": "1c377ef8-6b08-4090-d633-c4390ef0283d"
   },
   "outputs": [
    {
     "name": "stdout",
     "output_type": "stream",
     "text": [
      "We can chain methods together\n",
      "CONMAN\n"
     ]
    }
   ],
   "source": [
    "print(\"We can chain methods together\")\n",
    "print(\n",
    "      name_with_commas\n",
    "      .strip(\",\")\n",
    "      .replace(\"nor\", \"man\")\n",
    "      .upper())\n"
   ]
  },
  {
   "cell_type": "code",
   "execution_count": 22,
   "metadata": {
    "colab": {
     "base_uri": "https://localhost:8080/",
     "height": 35
    },
    "colab_type": "code",
    "executionInfo": {
     "elapsed": 1915,
     "status": "ok",
     "timestamp": 1600192068312,
     "user": {
      "displayName": "Enock Kipkemboi",
      "photoUrl": "https://lh3.googleusercontent.com/a-/AOh14GizCzsQESXPA2F3fIxqQDEIPrYFkqYplrS9IJE=s64",
      "userId": "12001580697035227328"
     },
     "user_tz": -180
    },
    "id": "KXnF5VQ8Ygts",
    "outputId": "e6c3fdb6-e226-48eb-a9f7-3144e1163460"
   },
   "outputs": [
    {
     "name": "stdout",
     "output_type": "stream",
     "text": [
      "['connor.lawless', 'ixperience.co']\n"
     ]
    }
   ],
   "source": [
    "# We can split a string in multiple strings by using `split()`\n",
    "\n",
    "email = \"connor.lawless@ixperience.co\"\n",
    "email_bits = email.split(\"@\")\n",
    "print(email_bits)\n",
    "\n",
    "# think of a situation where you might need to use split."
   ]
  },
  {
   "cell_type": "markdown",
   "metadata": {
    "colab_type": "text",
    "id": "j5FqWWF1Ygtv"
   },
   "source": [
    "### <font color='#F9007A'> Quick knowledge check! </font>\n",
    "1. Your friend just sent you his part of an essay (see \"essay\" variable below) but you realized it's a mess! Write some code to correct the contraction (i.e. doesn't -> does not), properly capitalize the sentence, and take out all of the times he says totally!"
   ]
  },
  {
   "cell_type": "code",
   "execution_count": 30,
   "metadata": {
    "colab": {},
    "colab_type": "code",
    "executionInfo": {
     "elapsed": 1916,
     "status": "ok",
     "timestamp": 1600192068314,
     "user": {
      "displayName": "Enock Kipkemboi",
      "photoUrl": "https://lh3.googleusercontent.com/a-/AOh14GizCzsQESXPA2F3fIxqQDEIPrYFkqYplrS9IJE=s64",
      "userId": "12001580697035227328"
     },
     "user_tz": -180
    },
    "id": "JqMH70dSYgtv"
   },
   "outputs": [
    {
     "name": "stdout",
     "output_type": "stream",
     "text": [
      "Sometimes the world can be  messed up but it  doesn't have to be!\n"
     ]
    }
   ],
   "source": [
    "essay = \"sometimes the world can be totally messed up but it totally doesn't have to be!\"\n",
    "\n",
    "#Put your code here!\n",
    "print(essay.capitalize().replace(\"totally\", \"\"))"
   ]
  },
  {
   "cell_type": "markdown",
   "metadata": {
    "colab_type": "text",
    "id": "NUTBW-l5Ygtx"
   },
   "source": [
    "2. You just got the results back from your student body election (obviously analyzed through Python), print out a nice final statement summarizing the results (whatever style floats your boat - play around and have fun with it!)"
   ]
  },
  {
   "cell_type": "code",
   "execution_count": 39,
   "metadata": {
    "colab": {},
    "colab_type": "code",
    "executionInfo": {
     "elapsed": 1914,
     "status": "ok",
     "timestamp": 1600192068314,
     "user": {
      "displayName": "Enock Kipkemboi",
      "photoUrl": "https://lh3.googleusercontent.com/a-/AOh14GizCzsQESXPA2F3fIxqQDEIPrYFkqYplrS9IJE=s64",
      "userId": "12001580697035227328"
     },
     "user_tz": -180
    },
    "id": "1Um24XF8Ygty"
   },
   "outputs": [
    {
     "name": "stdout",
     "output_type": "stream",
     "text": [
      "Pedro wins over Summer by 60.36% majority\n"
     ]
    }
   ],
   "source": [
    "import math\n",
    "winner = \"Pedro\"\n",
    "loser = \"Summer\"\n",
    "pedro_vote_percentage = 60.3594594594\n",
    "pedro_vote_str = \"{:.4}\".format(pedro_vote_percentage)\n",
    "#Put your code here!\n",
    "\n",
    "print(f'{winner} wins over {loser} by {pedro_vote_str}% majority')"
   ]
  },
  {
   "cell_type": "markdown",
   "metadata": {
    "colab_type": "text",
    "id": "H8SJaJV9Ygt0"
   },
   "source": [
    "<hr>\n",
    "<br>\n",
    "\n",
    "### <font color='#F9007A'> 2. Numbers </font>"
   ]
  },
  {
   "cell_type": "code",
   "execution_count": 40,
   "metadata": {
    "colab": {
     "base_uri": "https://localhost:8080/",
     "height": 91
    },
    "colab_type": "code",
    "executionInfo": {
     "elapsed": 1914,
     "status": "ok",
     "timestamp": 1600192068316,
     "user": {
      "displayName": "Enock Kipkemboi",
      "photoUrl": "https://lh3.googleusercontent.com/a-/AOh14GizCzsQESXPA2F3fIxqQDEIPrYFkqYplrS9IJE=s64",
      "userId": "12001580697035227328"
     },
     "user_tz": -180
    },
    "id": "ihG9X1K5Ygt1",
    "outputId": "897acb9f-b468-438b-d287-a1b39a18d828"
   },
   "outputs": [
    {
     "name": "stdout",
     "output_type": "stream",
     "text": [
      "There are two basic numeric primitives in python, int(integers) and float(decimals)\n",
      "<class 'int'>\n",
      "<class 'float'>\n",
      "<class 'float'>\n"
     ]
    }
   ],
   "source": [
    "print(\"There are two basic numeric primitives in python, int(integers) and float(decimals)\")\n",
    "\n",
    "integer = 23\n",
    "print(type(integer))\n",
    "\n",
    "#%%\n",
    "decimal = 23.1\n",
    "print(type(decimal))\n",
    "\n",
    "#%%\n",
    "print(type(23.))"
   ]
  },
  {
   "cell_type": "code",
   "execution_count": 41,
   "metadata": {
    "colab": {
     "base_uri": "https://localhost:8080/",
     "height": 72
    },
    "colab_type": "code",
    "executionInfo": {
     "elapsed": 1912,
     "status": "ok",
     "timestamp": 1600192068317,
     "user": {
      "displayName": "Enock Kipkemboi",
      "photoUrl": "https://lh3.googleusercontent.com/a-/AOh14GizCzsQESXPA2F3fIxqQDEIPrYFkqYplrS9IJE=s64",
      "userId": "12001580697035227328"
     },
     "user_tz": -180
    },
    "id": "qXCPQIHyYgt4",
    "outputId": "cc8dbd61-c93f-4b7a-f672-fc9b332cba65"
   },
   "outputs": [
    {
     "name": "stdout",
     "output_type": "stream",
     "text": [
      "We can convert numbers to strings easily\n",
      "<class 'str'>\n",
      "two + 23.1\n"
     ]
    }
   ],
   "source": [
    "print(\"We can convert numbers to strings easily\")\n",
    "print(type(str(decimal)))\n",
    "print(\"two + \" + str(decimal))"
   ]
  },
  {
   "cell_type": "code",
   "execution_count": 42,
   "metadata": {
    "colab": {
     "base_uri": "https://localhost:8080/",
     "height": 54
    },
    "colab_type": "code",
    "executionInfo": {
     "elapsed": 2192,
     "status": "ok",
     "timestamp": 1600192068599,
     "user": {
      "displayName": "Enock Kipkemboi",
      "photoUrl": "https://lh3.googleusercontent.com/a-/AOh14GizCzsQESXPA2F3fIxqQDEIPrYFkqYplrS9IJE=s64",
      "userId": "12001580697035227328"
     },
     "user_tz": -180
    },
    "id": "gXjxflkaYgt5",
    "outputId": "9d55b477-0350-4051-8814-d839e2274e56"
   },
   "outputs": [
    {
     "name": "stdout",
     "output_type": "stream",
     "text": [
      "We can also use numbers in string interpolation\n",
      "Hi, I'm Connor, I'm from Toronto and I've been in lockdown for 145000 days\n"
     ]
    }
   ],
   "source": [
    "print(\"We can also use numbers in string interpolation\")\n",
    "name = \"Connor\"\n",
    "city = \"Toronto\"\n",
    "count = 145000\n",
    "print(f\"Hi, I'm {name}, I'm from {city} and I've been in lockdown for {count} days\")"
   ]
  },
  {
   "cell_type": "code",
   "execution_count": 43,
   "metadata": {
    "colab": {
     "base_uri": "https://localhost:8080/",
     "height": 72
    },
    "colab_type": "code",
    "executionInfo": {
     "elapsed": 2190,
     "status": "ok",
     "timestamp": 1600192068599,
     "user": {
      "displayName": "Enock Kipkemboi",
      "photoUrl": "https://lh3.googleusercontent.com/a-/AOh14GizCzsQESXPA2F3fIxqQDEIPrYFkqYplrS9IJE=s64",
      "userId": "12001580697035227328"
     },
     "user_tz": -180
    },
    "id": "Ut8M9xMxYgt8",
    "outputId": "56941e34-0899-49c4-a087-ebd1b4f11f26"
   },
   "outputs": [
    {
     "name": "stdout",
     "output_type": "stream",
     "text": [
      "Similarly, we can convert strings to numbers\n",
      "29\n",
      "29.0\n"
     ]
    }
   ],
   "source": [
    "print(\"Similarly, we can convert strings to numbers\")\n",
    "number_string = \"24\" # remember it is a string because it is captured with \"\"\n",
    "print(int(number_string) + 5)\n",
    "print(float(number_string) + 5)"
   ]
  },
  {
   "cell_type": "code",
   "execution_count": 46,
   "metadata": {
    "colab": {
     "base_uri": "https://localhost:8080/",
     "height": 229
    },
    "colab_type": "code",
    "executionInfo": {
     "elapsed": 2638,
     "status": "error",
     "timestamp": 1600192069050,
     "user": {
      "displayName": "Enock Kipkemboi",
      "photoUrl": "https://lh3.googleusercontent.com/a-/AOh14GizCzsQESXPA2F3fIxqQDEIPrYFkqYplrS9IJE=s64",
      "userId": "12001580697035227328"
     },
     "user_tz": -180
    },
    "id": "bnZP0fpJYgt-",
    "outputId": "315ab3a9-07e3-4892-8cb7-bc5eee0fd90c"
   },
   "outputs": [
    {
     "name": "stdout",
     "output_type": "stream",
     "text": [
      "We have to make sure the numbers are valid!\n",
      "24.5\n"
     ]
    }
   ],
   "source": [
    "print(\"We have to make sure the numbers are valid!\")\n",
    "invalid_number_string = \"24.5\"\n",
    "print(float(invalid_number_string))"
   ]
  },
  {
   "cell_type": "code",
   "execution_count": 47,
   "metadata": {
    "colab": {
     "base_uri": "https://localhost:8080/",
     "height": 35
    },
    "colab_type": "code",
    "executionInfo": {
     "elapsed": 1532,
     "status": "ok",
     "timestamp": 1600192168418,
     "user": {
      "displayName": "Enock Kipkemboi",
      "photoUrl": "https://lh3.googleusercontent.com/a-/AOh14GizCzsQESXPA2F3fIxqQDEIPrYFkqYplrS9IJE=s64",
      "userId": "12001580697035227328"
     },
     "user_tz": -180
    },
    "id": "TEFiJ5NtYguA",
    "outputId": "c1233d33-e782-4f2f-f77c-1f9b8e9b6eb5"
   },
   "outputs": [
    {
     "name": "stdout",
     "output_type": "stream",
     "text": [
      "24.5\n"
     ]
    }
   ],
   "source": [
    "#Try changing the above so that it is valid\n",
    "print(float(invalid_number_string))"
   ]
  },
  {
   "cell_type": "markdown",
   "metadata": {
    "colab_type": "text",
    "id": "Lzz43zezYguD"
   },
   "source": [
    "### Operations with numbers\n",
    "\n",
    "We can use the basic arithmetic symbols to perform operations with numbers\n"
   ]
  },
  {
   "cell_type": "code",
   "execution_count": 48,
   "metadata": {
    "colab": {
     "base_uri": "https://localhost:8080/",
     "height": 91
    },
    "colab_type": "code",
    "executionInfo": {
     "elapsed": 2566,
     "status": "ok",
     "timestamp": 1600192169468,
     "user": {
      "displayName": "Enock Kipkemboi",
      "photoUrl": "https://lh3.googleusercontent.com/a-/AOh14GizCzsQESXPA2F3fIxqQDEIPrYFkqYplrS9IJE=s64",
      "userId": "12001580697035227328"
     },
     "user_tz": -180
    },
    "id": "uojJJ39OYguE",
    "outputId": "65266dce-c799-4e8d-9ebe-4d1412068bcc"
   },
   "outputs": [
    {
     "name": "stdout",
     "output_type": "stream",
     "text": [
      "2+2= 4\n",
      "4-9= -5\n",
      "3*2= 6\n",
      "7/2= 3.5\n"
     ]
    }
   ],
   "source": [
    "#sum\n",
    "print(\"2+2=\",2+2)\n",
    "\n",
    "#substraction\n",
    "print(\"4-9=\",4-9)\n",
    "\n",
    "#multiplication\n",
    "print(\"3*2=\",3*2)\n",
    "\n",
    "#division\n",
    "print(\"7/2=\",7/2)"
   ]
  },
  {
   "cell_type": "code",
   "execution_count": 49,
   "metadata": {
    "colab": {
     "base_uri": "https://localhost:8080/",
     "height": 91
    },
    "colab_type": "code",
    "executionInfo": {
     "elapsed": 2560,
     "status": "ok",
     "timestamp": 1600192169469,
     "user": {
      "displayName": "Enock Kipkemboi",
      "photoUrl": "https://lh3.googleusercontent.com/a-/AOh14GizCzsQESXPA2F3fIxqQDEIPrYFkqYplrS9IJE=s64",
      "userId": "12001580697035227328"
     },
     "user_tz": -180
    },
    "id": "eEv9h4XmYguF",
    "outputId": "881ef41d-3d0b-4ac4-f414-7d20a076109f"
   },
   "outputs": [
    {
     "name": "stdout",
     "output_type": "stream",
     "text": [
      "7//2= 3\n",
      "7%2= 1\n",
      "negation of 7= -7\n",
      "7**2= 49\n"
     ]
    }
   ],
   "source": [
    "#There are other useful operations too\n",
    "\n",
    "a = 7\n",
    "b = 2\n",
    "# floor division, do a division and remove the remainder --> //\n",
    "print(f\"{a}//{b}=\", a//b)\n",
    "\n",
    "# modulo, do a division and return the remainder --> %\n",
    "print(f\"{a}%{b}=\", a%b)\n",
    "\n",
    "#negation, change the sign of a number\n",
    "print(f\"negation of {a}=\", -a)\n",
    "\n",
    "#square, cube, fourth power, etcetera\n",
    "print(f\"{a}**{b}=\",a**b)"
   ]
  },
  {
   "cell_type": "markdown",
   "metadata": {
    "colab_type": "text",
    "id": "a6dsYS79YguH"
   },
   "source": [
    "### <font color='#F9007A'> Quick knowledge check! </font>\n",
    "1. Whoops, we can't seem to figure out why this code isn't working. Please fix it for us! (Bonus: Can you do it without changing how we defined x and y?)"
   ]
  },
  {
   "cell_type": "code",
   "execution_count": 53,
   "metadata": {
    "colab": {
     "base_uri": "https://localhost:8080/",
     "height": 229
    },
    "colab_type": "code",
    "executionInfo": {
     "elapsed": 2611,
     "status": "error",
     "timestamp": 1600192169527,
     "user": {
      "displayName": "Enock Kipkemboi",
      "photoUrl": "https://lh3.googleusercontent.com/a-/AOh14GizCzsQESXPA2F3fIxqQDEIPrYFkqYplrS9IJE=s64",
      "userId": "12001580697035227328"
     },
     "user_tz": -180
    },
    "id": "KkipxyxcYguH",
    "outputId": "93dd2984-911a-485a-aa64-e7348da386bb"
   },
   "outputs": [
    {
     "name": "stdout",
     "output_type": "stream",
     "text": [
      "X + Y: 37.5\n"
     ]
    }
   ],
   "source": [
    "x = \"24.5\"\n",
    "y = 13\n",
    "mySum = float(x) + y\n",
    "print('X + Y:',mySum)"
   ]
  },
  {
   "cell_type": "markdown",
   "metadata": {
    "colab_type": "text",
    "id": "nzOcnckWYguK"
   },
   "source": [
    "<hr>\n",
    "<br>\n",
    "\n",
    "### <font color='#F9007A'> 3. Booleans </font>\n",
    "A boolean variable is a primitive that can only be True or False\n"
   ]
  },
  {
   "cell_type": "code",
   "execution_count": 54,
   "metadata": {
    "colab": {
     "base_uri": "https://localhost:8080/",
     "height": 35
    },
    "colab_type": "code",
    "executionInfo": {
     "elapsed": 2394,
     "status": "ok",
     "timestamp": 1600192276239,
     "user": {
      "displayName": "Enock Kipkemboi",
      "photoUrl": "https://lh3.googleusercontent.com/a-/AOh14GizCzsQESXPA2F3fIxqQDEIPrYFkqYplrS9IJE=s64",
      "userId": "12001580697035227328"
     },
     "user_tz": -180
    },
    "id": "6wsD-2efYguK",
    "outputId": "4dd2ffc8-9c50-466c-fcac-c51a7fdc0149"
   },
   "outputs": [
    {
     "name": "stdout",
     "output_type": "stream",
     "text": [
      "<class 'bool'>\n"
     ]
    }
   ],
   "source": [
    "truth = True\n",
    "falsehood = False\n",
    "\n",
    "print(type(truth))"
   ]
  },
  {
   "cell_type": "markdown",
   "metadata": {
    "colab_type": "text",
    "id": "-hypjfcJYguM"
   },
   "source": [
    "As an additional primitive we have `None` which is the null variable\n"
   ]
  },
  {
   "cell_type": "code",
   "execution_count": 55,
   "metadata": {
    "colab": {
     "base_uri": "https://localhost:8080/",
     "height": 35
    },
    "colab_type": "code",
    "executionInfo": {
     "elapsed": 2391,
     "status": "ok",
     "timestamp": 1600192276241,
     "user": {
      "displayName": "Enock Kipkemboi",
      "photoUrl": "https://lh3.googleusercontent.com/a-/AOh14GizCzsQESXPA2F3fIxqQDEIPrYFkqYplrS9IJE=s64",
      "userId": "12001580697035227328"
     },
     "user_tz": -180
    },
    "id": "UAstxPcRYguM",
    "outputId": "d93e3e62-9e3c-4f48-c3a7-c59cfaab52ff"
   },
   "outputs": [
    {
     "name": "stdout",
     "output_type": "stream",
     "text": [
      "<class 'NoneType'>\n"
     ]
    }
   ],
   "source": [
    "null = None\n",
    "print(type(null))"
   ]
  },
  {
   "cell_type": "code",
   "execution_count": 56,
   "metadata": {
    "colab": {
     "base_uri": "https://localhost:8080/",
     "height": 35
    },
    "colab_type": "code",
    "executionInfo": {
     "elapsed": 2389,
     "status": "ok",
     "timestamp": 1600192276243,
     "user": {
      "displayName": "Enock Kipkemboi",
      "photoUrl": "https://lh3.googleusercontent.com/a-/AOh14GizCzsQESXPA2F3fIxqQDEIPrYFkqYplrS9IJE=s64",
      "userId": "12001580697035227328"
     },
     "user_tz": -180
    },
    "id": "c60QmjELYguO",
    "outputId": "8f3161be-6b43-4360-f5a7-5c6752d175d1"
   },
   "outputs": [
    {
     "name": "stdout",
     "output_type": "stream",
     "text": [
      "True\n"
     ]
    }
   ],
   "source": [
    "#Most variables can be converted to a boolean, usually they are converted to True\n",
    "print(bool(\"potato\"))"
   ]
  },
  {
   "cell_type": "code",
   "execution_count": 57,
   "metadata": {
    "colab": {
     "base_uri": "https://localhost:8080/",
     "height": 109
    },
    "colab_type": "code",
    "executionInfo": {
     "elapsed": 2385,
     "status": "ok",
     "timestamp": 1600192276243,
     "user": {
      "displayName": "Enock Kipkemboi",
      "photoUrl": "https://lh3.googleusercontent.com/a-/AOh14GizCzsQESXPA2F3fIxqQDEIPrYFkqYplrS9IJE=s64",
      "userId": "12001580697035227328"
     },
     "user_tz": -180
    },
    "id": "DMleioExYguQ",
    "outputId": "4e1c08c3-99e9-4642-c653-0d37a0c2fbf6"
   },
   "outputs": [
    {
     "name": "stdout",
     "output_type": "stream",
     "text": [
      "False\n",
      "False\n",
      "False\n",
      "False\n",
      "False\n"
     ]
    }
   ],
   "source": [
    "# The null values (0, \"\", None, and empty lists and dicts) are converted to False\n",
    "\n",
    "print(bool(\"\"))\n",
    "print(bool(0))\n",
    "print(bool(null))\n",
    "print(bool([]))\n",
    "print(bool({}))"
   ]
  },
  {
   "cell_type": "markdown",
   "metadata": {
    "colab_type": "text",
    "id": "H3CBk3ZJYguS"
   },
   "source": [
    "### Logic Comparisons\n",
    "\n",
    "We can compare variables, the result of a comparison is always a boolean"
   ]
  },
  {
   "cell_type": "code",
   "execution_count": 58,
   "metadata": {
    "colab": {
     "base_uri": "https://localhost:8080/",
     "height": 91
    },
    "colab_type": "code",
    "executionInfo": {
     "elapsed": 2383,
     "status": "ok",
     "timestamp": 1600192276245,
     "user": {
      "displayName": "Enock Kipkemboi",
      "photoUrl": "https://lh3.googleusercontent.com/a-/AOh14GizCzsQESXPA2F3fIxqQDEIPrYFkqYplrS9IJE=s64",
      "userId": "12001580697035227328"
     },
     "user_tz": -180
    },
    "id": "Z_71ICQBYguS",
    "outputId": "0ce2fdb2-be8f-45ee-e1f7-dd608d305d24"
   },
   "outputs": [
    {
     "name": "stdout",
     "output_type": "stream",
     "text": [
      "7 > 2 True\n",
      "2<=7 True\n",
      "2==2 True\n",
      "7!=23 True\n"
     ]
    }
   ],
   "source": [
    "a = 7\n",
    "b = 2\n",
    "# a greater or equal to b\n",
    "print(f\"{a} > {b}\", a > b)\n",
    "# b smaller or equal to a\n",
    "print(f\"{b}<={a}\", b <= a)\n",
    "# b equals 2\n",
    "print(f\"{b}==2\", b == 2)\n",
    "# a is different than 23\n",
    "print(f\"{a}!=23\", a != 23)"
   ]
  },
  {
   "cell_type": "markdown",
   "metadata": {
    "colab_type": "text",
    "id": "QQPm41dyYguU"
   },
   "source": [
    "We can evaluate the opposite of a logic comparisons with `not`"
   ]
  },
  {
   "cell_type": "code",
   "execution_count": 59,
   "metadata": {
    "colab": {
     "base_uri": "https://localhost:8080/",
     "height": 35
    },
    "colab_type": "code",
    "executionInfo": {
     "elapsed": 2379,
     "status": "ok",
     "timestamp": 1600192276245,
     "user": {
      "displayName": "Enock Kipkemboi",
      "photoUrl": "https://lh3.googleusercontent.com/a-/AOh14GizCzsQESXPA2F3fIxqQDEIPrYFkqYplrS9IJE=s64",
      "userId": "12001580697035227328"
     },
     "user_tz": -180
    },
    "id": "kaogM24qYguU",
    "outputId": "5de714f9-7cb7-4bab-974c-0580359f3c55"
   },
   "outputs": [
    {
     "name": "stdout",
     "output_type": "stream",
     "text": [
      "not 7!=23 -->  False\n"
     ]
    }
   ],
   "source": [
    "print(f\"not {a}!=23 --> \" , not a != 23)"
   ]
  },
  {
   "cell_type": "markdown",
   "metadata": {
    "colab_type": "text",
    "id": "rMDRItvBYguX"
   },
   "source": [
    "We can evaluate that multiple conditions are true with `and`"
   ]
  },
  {
   "cell_type": "code",
   "execution_count": 60,
   "metadata": {
    "colab": {
     "base_uri": "https://localhost:8080/",
     "height": 35
    },
    "colab_type": "code",
    "executionInfo": {
     "elapsed": 2375,
     "status": "ok",
     "timestamp": 1600192276246,
     "user": {
      "displayName": "Enock Kipkemboi",
      "photoUrl": "https://lh3.googleusercontent.com/a-/AOh14GizCzsQESXPA2F3fIxqQDEIPrYFkqYplrS9IJE=s64",
      "userId": "12001580697035227328"
     },
     "user_tz": -180
    },
    "id": "Th0pPXniYguY",
    "outputId": "749e85e0-95c6-4492-bf9f-7540908e7b36"
   },
   "outputs": [
    {
     "name": "stdout",
     "output_type": "stream",
     "text": [
      "7!=23 and 7<2 -->  False\n"
     ]
    }
   ],
   "source": [
    "print(f\"{a}!=23 and {a}<{b} --> \", a != 23 and a < b)"
   ]
  },
  {
   "cell_type": "markdown",
   "metadata": {
    "colab_type": "text",
    "id": "rV_lvAKTYgua"
   },
   "source": [
    "We can evaluate that any condition is true with `or`\n"
   ]
  },
  {
   "cell_type": "code",
   "execution_count": 61,
   "metadata": {
    "colab": {
     "base_uri": "https://localhost:8080/",
     "height": 35
    },
    "colab_type": "code",
    "executionInfo": {
     "elapsed": 2373,
     "status": "ok",
     "timestamp": 1600192276247,
     "user": {
      "displayName": "Enock Kipkemboi",
      "photoUrl": "https://lh3.googleusercontent.com/a-/AOh14GizCzsQESXPA2F3fIxqQDEIPrYFkqYplrS9IJE=s64",
      "userId": "12001580697035227328"
     },
     "user_tz": -180
    },
    "id": "tpkkFosIYgua",
    "outputId": "efe1498e-5c74-47da-91ef-38ae138e90b5"
   },
   "outputs": [
    {
     "name": "stdout",
     "output_type": "stream",
     "text": [
      "7!=23 or 2<7 -->  True\n"
     ]
    }
   ],
   "source": [
    "print(f\"{a}!=23 or {b}<{a} --> \", a != 23 or a < b)"
   ]
  },
  {
   "cell_type": "markdown",
   "metadata": {
    "colab_type": "text",
    "id": "EvVCdLIyYguc"
   },
   "source": [
    "When we want to check if something is True or False, we dont use `==`, we use `is`"
   ]
  },
  {
   "cell_type": "code",
   "execution_count": 62,
   "metadata": {
    "colab": {
     "base_uri": "https://localhost:8080/",
     "height": 35
    },
    "colab_type": "code",
    "executionInfo": {
     "elapsed": 2370,
     "status": "ok",
     "timestamp": 1600192276248,
     "user": {
      "displayName": "Enock Kipkemboi",
      "photoUrl": "https://lh3.googleusercontent.com/a-/AOh14GizCzsQESXPA2F3fIxqQDEIPrYFkqYplrS9IJE=s64",
      "userId": "12001580697035227328"
     },
     "user_tz": -180
    },
    "id": "5X2nErr0Yguc",
    "outputId": "758cf3a5-f73f-4677-bfa5-7f5a1e7e671c"
   },
   "outputs": [
    {
     "name": "stdout",
     "output_type": "stream",
     "text": [
      "truth is True= True\n"
     ]
    }
   ],
   "source": [
    "print(\"truth is True=\", truth is True)\n"
   ]
  },
  {
   "cell_type": "markdown",
   "metadata": {
    "colab_type": "text",
    "id": "NRQeTgmVYgug"
   },
   "source": [
    "### <font color='#F9007A'> Quick knowledge check! </font>\n",
    "1. What should the following code evaluate to? Try figuring it out by hand and then run the code to find out!"
   ]
  },
  {
   "cell_type": "code",
   "execution_count": 63,
   "metadata": {
    "colab": {
     "base_uri": "https://localhost:8080/",
     "height": 35
    },
    "colab_type": "code",
    "executionInfo": {
     "elapsed": 2364,
     "status": "ok",
     "timestamp": 1600192276249,
     "user": {
      "displayName": "Enock Kipkemboi",
      "photoUrl": "https://lh3.googleusercontent.com/a-/AOh14GizCzsQESXPA2F3fIxqQDEIPrYFkqYplrS9IJE=s64",
      "userId": "12001580697035227328"
     },
     "user_tz": -180
    },
    "id": "VRDB7F4_Ygug",
    "outputId": "3d923944-fcf6-4e59-ab8f-9e9e1eac1ae1"
   },
   "outputs": [
    {
     "name": "stdout",
     "output_type": "stream",
     "text": [
      "The statement is False\n"
     ]
    }
   ],
   "source": [
    "statement = not(((7 > 3) and (bool(\"\"))) or (('a'!='b') or (1 <= 0)))\n",
    "\n",
    "print('The statement is', statement)"
   ]
  },
  {
   "cell_type": "markdown",
   "metadata": {
    "colab_type": "text",
    "id": "wBcCqTq2Yguj"
   },
   "source": [
    "# BOOM THE END OF DATA TYPES\n",
    "\n",
    "![dt](https://culshoefer.gitbooks.io/programming-is-fun-with-python-and-pygame/content/img/boolean-to-integer.jpg)\n",
    "\n"
   ]
  },
  {
   "cell_type": "markdown",
   "metadata": {
    "colab_type": "text",
    "id": "C2NmbI6kYguj"
   },
   "source": [
    "<hr>\n",
    "<br>\n",
    "<br>\n",
    "<br>\n",
    "<br>"
   ]
  },
  {
   "cell_type": "markdown",
   "metadata": {
    "colab_type": "text",
    "id": "dzsFAupkYguj"
   },
   "source": [
    "# <font color='#F9007A'> 3. DATA STRUCTURES </font>\n",
    "\n",
    "Data structures are those objects we use to store information (data)\n",
    "There are many different types, here we are going to see the basics of\n",
    "1. Lists \n",
    "2. Tuples\n",
    "3. Dictionaries\n"
   ]
  },
  {
   "cell_type": "markdown",
   "metadata": {
    "colab_type": "text",
    "id": "QEbNcPkCYguk"
   },
   "source": [
    "### <font color='#F9007A'> 1. Lists </font>\n",
    "\n",
    "Lists of one of the fundamental data structures in Python, and can be described generally as an ordered collection (list) of objects. At their most basic level, lists have a length (len(list)), and each element in the list can be accessed via its unique integer index.\n",
    "\n",
    "Note that in Python, all data structures are zero-indexed, meaning that the first occuring entry is assigned an index of 0 instead of 1."
   ]
  },
  {
   "cell_type": "code",
   "execution_count": null,
   "metadata": {
    "colab": {
     "base_uri": "https://localhost:8080/",
     "height": 54
    },
    "colab_type": "code",
    "executionInfo": {
     "elapsed": 2360,
     "status": "ok",
     "timestamp": 1600192276250,
     "user": {
      "displayName": "Enock Kipkemboi",
      "photoUrl": "https://lh3.googleusercontent.com/a-/AOh14GizCzsQESXPA2F3fIxqQDEIPrYFkqYplrS9IJE=s64",
      "userId": "12001580697035227328"
     },
     "user_tz": -180
    },
    "id": "FXcsttLoYguk",
    "outputId": "ee157688-0a87-4a85-bef5-ce785f741b2f"
   },
   "outputs": [],
   "source": [
    "fruits = [\"orange\", \"apple\", \"pear\", \"strawberry\", \"pineapple\"]\n",
    "\n",
    "print(fruits)\n",
    "\n",
    "print(type(fruits))"
   ]
  },
  {
   "cell_type": "markdown",
   "metadata": {
    "colab_type": "text",
    "id": "yVsEAXQYYgum"
   },
   "source": [
    "We access elements in a list with brackets []\n",
    " The index (position) for python lists starts at 0, this means we access the first\n",
    " element by [0]"
   ]
  },
  {
   "cell_type": "code",
   "execution_count": null,
   "metadata": {
    "colab": {
     "base_uri": "https://localhost:8080/",
     "height": 35
    },
    "colab_type": "code",
    "executionInfo": {
     "elapsed": 2358,
     "status": "ok",
     "timestamp": 1600192276251,
     "user": {
      "displayName": "Enock Kipkemboi",
      "photoUrl": "https://lh3.googleusercontent.com/a-/AOh14GizCzsQESXPA2F3fIxqQDEIPrYFkqYplrS9IJE=s64",
      "userId": "12001580697035227328"
     },
     "user_tz": -180
    },
    "id": "O_W7oFhHYgum",
    "outputId": "8923b854-a778-4c28-e8f1-02c5cc8314c5"
   },
   "outputs": [],
   "source": [
    "first_fruit = fruits[0]\n",
    "print(first_fruit)"
   ]
  },
  {
   "cell_type": "code",
   "execution_count": null,
   "metadata": {
    "colab": {
     "base_uri": "https://localhost:8080/",
     "height": 35
    },
    "colab_type": "code",
    "executionInfo": {
     "elapsed": 2354,
     "status": "ok",
     "timestamp": 1600192276251,
     "user": {
      "displayName": "Enock Kipkemboi",
      "photoUrl": "https://lh3.googleusercontent.com/a-/AOh14GizCzsQESXPA2F3fIxqQDEIPrYFkqYplrS9IJE=s64",
      "userId": "12001580697035227328"
     },
     "user_tz": -180
    },
    "id": "hmmhGrqIYgup",
    "outputId": "b2113a22-5243-4ee8-d96a-574dd7654632"
   },
   "outputs": [],
   "source": [
    "# We can access a range of elements by doing [start:end-1:order]\n",
    "print(fruits[:2])"
   ]
  },
  {
   "cell_type": "code",
   "execution_count": null,
   "metadata": {
    "colab": {
     "base_uri": "https://localhost:8080/",
     "height": 35
    },
    "colab_type": "code",
    "executionInfo": {
     "elapsed": 2353,
     "status": "ok",
     "timestamp": 1600192276252,
     "user": {
      "displayName": "Enock Kipkemboi",
      "photoUrl": "https://lh3.googleusercontent.com/a-/AOh14GizCzsQESXPA2F3fIxqQDEIPrYFkqYplrS9IJE=s64",
      "userId": "12001580697035227328"
     },
     "user_tz": -180
    },
    "id": "PrNAI4R6Ygur",
    "outputId": "3e0c29ce-d40c-4278-fdcc-392a24ac9c70"
   },
   "outputs": [],
   "source": [
    "# get the elements after the second one\n",
    "print(fruits[2:])"
   ]
  },
  {
   "cell_type": "code",
   "execution_count": null,
   "metadata": {
    "colab": {
     "base_uri": "https://localhost:8080/",
     "height": 35
    },
    "colab_type": "code",
    "executionInfo": {
     "elapsed": 2351,
     "status": "ok",
     "timestamp": 1600192276253,
     "user": {
      "displayName": "Enock Kipkemboi",
      "photoUrl": "https://lh3.googleusercontent.com/a-/AOh14GizCzsQESXPA2F3fIxqQDEIPrYFkqYplrS9IJE=s64",
      "userId": "12001580697035227328"
     },
     "user_tz": -180
    },
    "id": "XBrWyoZYYguu",
    "outputId": "549d8b67-1950-481a-c8b3-3b63b4230086"
   },
   "outputs": [],
   "source": [
    "\"\"\"We can select ranges starting  from the last one by using negative numbers\n",
    "For example, we can get the last 2 elements by doing:\n",
    "\"\"\"\n",
    "print(fruits[-2:])"
   ]
  },
  {
   "cell_type": "code",
   "execution_count": null,
   "metadata": {
    "colab": {
     "base_uri": "https://localhost:8080/",
     "height": 35
    },
    "colab_type": "code",
    "executionInfo": {
     "elapsed": 2348,
     "status": "ok",
     "timestamp": 1600192276254,
     "user": {
      "displayName": "Enock Kipkemboi",
      "photoUrl": "https://lh3.googleusercontent.com/a-/AOh14GizCzsQESXPA2F3fIxqQDEIPrYFkqYplrS9IJE=s64",
      "userId": "12001580697035227328"
     },
     "user_tz": -180
    },
    "id": "hndpSxDVYguw",
    "outputId": "0826eccf-4abe-444f-ab79-5231f8dc4712"
   },
   "outputs": [],
   "source": [
    "# We can skip elements by using [::n], for example, if we just want to select the odd elements:\n",
    "print(fruits[::2])"
   ]
  },
  {
   "cell_type": "code",
   "execution_count": null,
   "metadata": {
    "colab": {
     "base_uri": "https://localhost:8080/",
     "height": 35
    },
    "colab_type": "code",
    "executionInfo": {
     "elapsed": 2346,
     "status": "ok",
     "timestamp": 1600192276255,
     "user": {
      "displayName": "Enock Kipkemboi",
      "photoUrl": "https://lh3.googleusercontent.com/a-/AOh14GizCzsQESXPA2F3fIxqQDEIPrYFkqYplrS9IJE=s64",
      "userId": "12001580697035227328"
     },
     "user_tz": -180
    },
    "id": "RbIDdz1pYguy",
    "outputId": "8164ab30-7b5d-4c5a-dbb1-ede438fa372d"
   },
   "outputs": [],
   "source": [
    "# if we use a negative number  for the order we will get the list reversed\n",
    "print(fruits[::-1])"
   ]
  },
  {
   "cell_type": "code",
   "execution_count": null,
   "metadata": {
    "colab": {
     "base_uri": "https://localhost:8080/",
     "height": 35
    },
    "colab_type": "code",
    "executionInfo": {
     "elapsed": 2343,
     "status": "ok",
     "timestamp": 1600192276255,
     "user": {
      "displayName": "Enock Kipkemboi",
      "photoUrl": "https://lh3.googleusercontent.com/a-/AOh14GizCzsQESXPA2F3fIxqQDEIPrYFkqYplrS9IJE=s64",
      "userId": "12001580697035227328"
     },
     "user_tz": -180
    },
    "id": "99ISczFhYgu0",
    "outputId": "71eb617b-448a-41aa-fa93-7337d35b6990"
   },
   "outputs": [],
   "source": [
    "# We can see the number of elements in a list with `len`\n",
    "print(len(fruits))"
   ]
  },
  {
   "cell_type": "code",
   "execution_count": null,
   "metadata": {
    "colab": {
     "base_uri": "https://localhost:8080/",
     "height": 35
    },
    "colab_type": "code",
    "executionInfo": {
     "elapsed": 2341,
     "status": "ok",
     "timestamp": 1600192276256,
     "user": {
      "displayName": "Enock Kipkemboi",
      "photoUrl": "https://lh3.googleusercontent.com/a-/AOh14GizCzsQESXPA2F3fIxqQDEIPrYFkqYplrS9IJE=s64",
      "userId": "12001580697035227328"
     },
     "user_tz": -180
    },
    "id": "Ua_UVrvRYgu1",
    "outputId": "67c12a20-1187-41c6-bdb5-4d6a309f857a"
   },
   "outputs": [],
   "source": [
    "# We can add elements to the end of a list with `append()`.\n",
    "fruits.append(\"melon\")\n",
    "print(fruits)"
   ]
  },
  {
   "cell_type": "code",
   "execution_count": null,
   "metadata": {
    "colab": {
     "base_uri": "https://localhost:8080/",
     "height": 35
    },
    "colab_type": "code",
    "executionInfo": {
     "elapsed": 2338,
     "status": "ok",
     "timestamp": 1600192276257,
     "user": {
      "displayName": "Enock Kipkemboi",
      "photoUrl": "https://lh3.googleusercontent.com/a-/AOh14GizCzsQESXPA2F3fIxqQDEIPrYFkqYplrS9IJE=s64",
      "userId": "12001580697035227328"
     },
     "user_tz": -180
    },
    "id": "m_Vn-2V7Ygu3",
    "outputId": "c80dd597-23ce-497e-e40a-6188b5f0ea4e"
   },
   "outputs": [],
   "source": [
    "fruits.append(5)\n",
    "fruits.extend([\"banana\", \"grape\"])\n",
    "print(fruits)"
   ]
  },
  {
   "cell_type": "code",
   "execution_count": null,
   "metadata": {
    "colab": {
     "base_uri": "https://localhost:8080/",
     "height": 35
    },
    "colab_type": "code",
    "executionInfo": {
     "elapsed": 2337,
     "status": "ok",
     "timestamp": 1600192276259,
     "user": {
      "displayName": "Enock Kipkemboi",
      "photoUrl": "https://lh3.googleusercontent.com/a-/AOh14GizCzsQESXPA2F3fIxqQDEIPrYFkqYplrS9IJE=s64",
      "userId": "12001580697035227328"
     },
     "user_tz": -180
    },
    "id": "wrdVm68aYgu5",
    "outputId": "04886d39-77e5-439e-bc4f-120935a98434"
   },
   "outputs": [],
   "source": [
    "# we can repeat a list multiplying it by a number\n",
    "print(fruits * 2)"
   ]
  },
  {
   "cell_type": "code",
   "execution_count": null,
   "metadata": {
    "colab": {
     "base_uri": "https://localhost:8080/",
     "height": 35
    },
    "colab_type": "code",
    "executionInfo": {
     "elapsed": 2334,
     "status": "ok",
     "timestamp": 1600192276259,
     "user": {
      "displayName": "Enock Kipkemboi",
      "photoUrl": "https://lh3.googleusercontent.com/a-/AOh14GizCzsQESXPA2F3fIxqQDEIPrYFkqYplrS9IJE=s64",
      "userId": "12001580697035227328"
     },
     "user_tz": -180
    },
    "id": "jCSGS4L_Ygu8",
    "outputId": "2cbec675-52d4-4639-9e9f-aa36de4e0d51"
   },
   "outputs": [],
   "source": [
    "# We can add lists together with `+`\n",
    "cities = [\"Cape Town\", \"New York\"]\n",
    "print(fruits + cities) # Prints concatenated lists"
   ]
  },
  {
   "cell_type": "code",
   "execution_count": null,
   "metadata": {
    "colab": {
     "base_uri": "https://localhost:8080/",
     "height": 35
    },
    "colab_type": "code",
    "executionInfo": {
     "elapsed": 2331,
     "status": "ok",
     "timestamp": 1600192276260,
     "user": {
      "displayName": "Enock Kipkemboi",
      "photoUrl": "https://lh3.googleusercontent.com/a-/AOh14GizCzsQESXPA2F3fIxqQDEIPrYFkqYplrS9IJE=s64",
      "userId": "12001580697035227328"
     },
     "user_tz": -180
    },
    "id": "Usy7ehwpYgu9",
    "outputId": "b93dd0cd-0b85-443c-8784-3cbeb72d0ebb"
   },
   "outputs": [],
   "source": [
    "# We can modify elements in a list\n",
    "\n",
    "fruits[0] = \"mango\"\n",
    "print(fruits)"
   ]
  },
  {
   "cell_type": "code",
   "execution_count": null,
   "metadata": {
    "colab": {
     "base_uri": "https://localhost:8080/",
     "height": 35
    },
    "colab_type": "code",
    "executionInfo": {
     "elapsed": 2328,
     "status": "ok",
     "timestamp": 1600192276260,
     "user": {
      "displayName": "Enock Kipkemboi",
      "photoUrl": "https://lh3.googleusercontent.com/a-/AOh14GizCzsQESXPA2F3fIxqQDEIPrYFkqYplrS9IJE=s64",
      "userId": "12001580697035227328"
     },
     "user_tz": -180
    },
    "id": "XwCNXMjfYgu-",
    "outputId": "9fff295e-8b82-4758-afb6-f8e247527f28"
   },
   "outputs": [],
   "source": [
    "# We can extend a list regardless of its initial size\n",
    "fruits[3:] = [\"litchi\", \"fig\", \"pommegranate\", \"watermelon\"]\n",
    "print(fruits)"
   ]
  },
  {
   "cell_type": "code",
   "execution_count": null,
   "metadata": {
    "colab": {
     "base_uri": "https://localhost:8080/",
     "height": 72
    },
    "colab_type": "code",
    "executionInfo": {
     "elapsed": 2325,
     "status": "ok",
     "timestamp": 1600192276260,
     "user": {
      "displayName": "Enock Kipkemboi",
      "photoUrl": "https://lh3.googleusercontent.com/a-/AOh14GizCzsQESXPA2F3fIxqQDEIPrYFkqYplrS9IJE=s64",
      "userId": "12001580697035227328"
     },
     "user_tz": -180
    },
    "id": "NhUEvxicYgvA",
    "outputId": "cbcd267d-d69f-4b69-dc84-cb51f226067c"
   },
   "outputs": [],
   "source": [
    "vegetables = [\"tomato\", \"lettuce\"]\n",
    "# we can check if an element exists on a list\n",
    "print(fruits)\n",
    "print(\"tomato\" in vegetables)\n",
    "\n",
    "print(\"tomato\" in fruits)"
   ]
  },
  {
   "cell_type": "code",
   "execution_count": null,
   "metadata": {
    "colab": {
     "base_uri": "https://localhost:8080/",
     "height": 72
    },
    "colab_type": "code",
    "executionInfo": {
     "elapsed": 2323,
     "status": "ok",
     "timestamp": 1600192276261,
     "user": {
      "displayName": "Enock Kipkemboi",
      "photoUrl": "https://lh3.googleusercontent.com/a-/AOh14GizCzsQESXPA2F3fIxqQDEIPrYFkqYplrS9IJE=s64",
      "userId": "12001580697035227328"
     },
     "user_tz": -180
    },
    "id": "VOZeE93YYgvC",
    "outputId": "b417ca15-7b5c-4316-84b8-67a1769ad072"
   },
   "outputs": [],
   "source": [
    "# We can find the position of an element in a list\n",
    "\n",
    "fruits = [\"orange\", \"apple\", \"pear\", \"strawberry\"]\n",
    "\n",
    "print(fruits)\n",
    "\n",
    "print(fruits.index(\"pear\"))\n",
    "\n",
    "print(\"Position in the list for the word pear is {}\".format(fruits.index(\"pear\")))"
   ]
  },
  {
   "cell_type": "code",
   "execution_count": null,
   "metadata": {
    "colab": {
     "base_uri": "https://localhost:8080/",
     "height": 54
    },
    "colab_type": "code",
    "executionInfo": {
     "elapsed": 2319,
     "status": "ok",
     "timestamp": 1600192276261,
     "user": {
      "displayName": "Enock Kipkemboi",
      "photoUrl": "https://lh3.googleusercontent.com/a-/AOh14GizCzsQESXPA2F3fIxqQDEIPrYFkqYplrS9IJE=s64",
      "userId": "12001580697035227328"
     },
     "user_tz": -180
    },
    "id": "93QrA65aYgvF",
    "outputId": "b30dddc4-de59-4c70-d4c6-cd57174f67fb"
   },
   "outputs": [],
   "source": [
    "# we can remove an element at a specific position from a list with `pop()`\n",
    "\n",
    "a = fruits.pop(2)\n",
    "print(fruits)\n",
    "print(a)"
   ]
  },
  {
   "cell_type": "code",
   "execution_count": null,
   "metadata": {
    "colab": {
     "base_uri": "https://localhost:8080/",
     "height": 35
    },
    "colab_type": "code",
    "executionInfo": {
     "elapsed": 2315,
     "status": "ok",
     "timestamp": 1600192276262,
     "user": {
      "displayName": "Enock Kipkemboi",
      "photoUrl": "https://lh3.googleusercontent.com/a-/AOh14GizCzsQESXPA2F3fIxqQDEIPrYFkqYplrS9IJE=s64",
      "userId": "12001580697035227328"
     },
     "user_tz": -180
    },
    "id": "9kddhGZOYgvG",
    "outputId": "55948248-95fa-4e78-db80-aba6c7f920ad"
   },
   "outputs": [],
   "source": [
    "# So combining index and pop we can remove a specific element from a list\n",
    "index_orange = fruits.index(\"orange\")\n",
    "fruits.pop(index_orange)\n",
    "print(fruits)"
   ]
  },
  {
   "cell_type": "code",
   "execution_count": null,
   "metadata": {
    "colab": {
     "base_uri": "https://localhost:8080/",
     "height": 35
    },
    "colab_type": "code",
    "executionInfo": {
     "elapsed": 2312,
     "status": "ok",
     "timestamp": 1600192276263,
     "user": {
      "displayName": "Enock Kipkemboi",
      "photoUrl": "https://lh3.googleusercontent.com/a-/AOh14GizCzsQESXPA2F3fIxqQDEIPrYFkqYplrS9IJE=s64",
      "userId": "12001580697035227328"
     },
     "user_tz": -180
    },
    "id": "KGl1K0CxYgvL",
    "outputId": "ec91539c-ddbe-470e-c58e-43cd5a98bdad"
   },
   "outputs": [],
   "source": [
    "# lists can be sorted with the method `sort()`\n",
    "\n",
    "ages = [23, 33, 10,54,65,34,25]\n",
    "ages.sort()\n",
    "print(ages)"
   ]
  },
  {
   "cell_type": "code",
   "execution_count": null,
   "metadata": {
    "colab": {
     "base_uri": "https://localhost:8080/",
     "height": 54
    },
    "colab_type": "code",
    "executionInfo": {
     "elapsed": 2310,
     "status": "ok",
     "timestamp": 1600192276264,
     "user": {
      "displayName": "Enock Kipkemboi",
      "photoUrl": "https://lh3.googleusercontent.com/a-/AOh14GizCzsQESXPA2F3fIxqQDEIPrYFkqYplrS9IJE=s64",
      "userId": "12001580697035227328"
     },
     "user_tz": -180
    },
    "id": "mRErFyVuYgvN",
    "outputId": "c890fdc8-f8b5-40f3-dc6a-712c73b8fe00"
   },
   "outputs": [],
   "source": [
    "fruits = [\"orange\", \"apple\", \"pear\", \"strawberry\"]\n",
    "\n",
    "print(fruits.sort())\n",
    "print(fruits)"
   ]
  },
  {
   "cell_type": "code",
   "execution_count": null,
   "metadata": {
    "colab": {
     "base_uri": "https://localhost:8080/",
     "height": 35
    },
    "colab_type": "code",
    "executionInfo": {
     "elapsed": 2308,
     "status": "ok",
     "timestamp": 1600192276265,
     "user": {
      "displayName": "Enock Kipkemboi",
      "photoUrl": "https://lh3.googleusercontent.com/a-/AOh14GizCzsQESXPA2F3fIxqQDEIPrYFkqYplrS9IJE=s64",
      "userId": "12001580697035227328"
     },
     "user_tz": -180
    },
    "id": "-_bV0M8wYgvP",
    "outputId": "f3a35564-de2a-495b-ac73-2e02a2d37b62"
   },
   "outputs": [],
   "source": [
    "# We can generate lists of numbers with `range()`\n",
    "range(10)\n",
    "print(list(range(10)))"
   ]
  },
  {
   "cell_type": "code",
   "execution_count": null,
   "metadata": {
    "colab": {
     "base_uri": "https://localhost:8080/",
     "height": 54
    },
    "colab_type": "code",
    "executionInfo": {
     "elapsed": 2305,
     "status": "ok",
     "timestamp": 1600192276266,
     "user": {
      "displayName": "Enock Kipkemboi",
      "photoUrl": "https://lh3.googleusercontent.com/a-/AOh14GizCzsQESXPA2F3fIxqQDEIPrYFkqYplrS9IJE=s64",
      "userId": "12001580697035227328"
     },
     "user_tz": -180
    },
    "id": "4tRJFeFiYgvQ",
    "outputId": "c80704fe-2ccd-4447-c3dc-e454efd8027b"
   },
   "outputs": [],
   "source": [
    "# strings can be considered lists of letters, and can be accessed same the way as lists\n",
    "\n",
    "name = \"Connor\"\n",
    "\n",
    "print(name[0])\n",
    "print(name[2:])"
   ]
  },
  {
   "cell_type": "code",
   "execution_count": null,
   "metadata": {
    "colab": {
     "base_uri": "https://localhost:8080/",
     "height": 35
    },
    "colab_type": "code",
    "executionInfo": {
     "elapsed": 2301,
     "status": "ok",
     "timestamp": 1600192276266,
     "user": {
      "displayName": "Enock Kipkemboi",
      "photoUrl": "https://lh3.googleusercontent.com/a-/AOh14GizCzsQESXPA2F3fIxqQDEIPrYFkqYplrS9IJE=s64",
      "userId": "12001580697035227328"
     },
     "user_tz": -180
    },
    "id": "uIejXJnxYgvS",
    "outputId": "fd00c635-ad67-4aa5-826c-24c484d69cad"
   },
   "outputs": [],
   "source": [
    "len(name)\n"
   ]
  },
  {
   "cell_type": "code",
   "execution_count": null,
   "metadata": {
    "colab": {
     "base_uri": "https://localhost:8080/",
     "height": 54
    },
    "colab_type": "code",
    "executionInfo": {
     "elapsed": 2299,
     "status": "ok",
     "timestamp": 1600192276267,
     "user": {
      "displayName": "Enock Kipkemboi",
      "photoUrl": "https://lh3.googleusercontent.com/a-/AOh14GizCzsQESXPA2F3fIxqQDEIPrYFkqYplrS9IJE=s64",
      "userId": "12001580697035227328"
     },
     "user_tz": -180
    },
    "id": "yhjEkvEIYgvU",
    "outputId": "ba87d303-63df-4616-d207-ab43270761f7"
   },
   "outputs": [],
   "source": [
    "#We can convert lists to strings with `.join()`\n",
    "\n",
    "fruits = [\"orange\", \"apple\", \"pear\", \"strawberry\"]\n",
    "\n",
    "comma_separated_fruits = \",\".join(fruits)\n",
    "\n",
    "print(comma_separated_fruits)\n",
    "print(type(comma_separated_fruits))"
   ]
  },
  {
   "cell_type": "code",
   "execution_count": null,
   "metadata": {
    "colab": {
     "base_uri": "https://localhost:8080/",
     "height": 109
    },
    "colab_type": "code",
    "executionInfo": {
     "elapsed": 2295,
     "status": "ok",
     "timestamp": 1600192276267,
     "user": {
      "displayName": "Enock Kipkemboi",
      "photoUrl": "https://lh3.googleusercontent.com/a-/AOh14GizCzsQESXPA2F3fIxqQDEIPrYFkqYplrS9IJE=s64",
      "userId": "12001580697035227328"
     },
     "user_tz": -180
    },
    "id": "SU4wNQ1KYgve",
    "outputId": "b4335156-a5db-49e8-a1ca-0b3004b9ccf0"
   },
   "outputs": [],
   "source": [
    "line_separated_fruits = \"\\n\".join(fruits)\n",
    "\n",
    "print(\"Shopping list: \\n{}\".format(line_separated_fruits))"
   ]
  },
  {
   "cell_type": "markdown",
   "metadata": {
    "colab_type": "text",
    "id": "qATrgpIcYgvf"
   },
   "source": [
    "### <font color='#F9007A'> Quick knowledge check! </font>\n",
    "1. Make a list with your top 5 favorite snacks"
   ]
  },
  {
   "cell_type": "code",
   "execution_count": null,
   "metadata": {
    "colab": {},
    "colab_type": "code",
    "executionInfo": {
     "elapsed": 766,
     "status": "ok",
     "timestamp": 1600192530810,
     "user": {
      "displayName": "Enock Kipkemboi",
      "photoUrl": "https://lh3.googleusercontent.com/a-/AOh14GizCzsQESXPA2F3fIxqQDEIPrYFkqYplrS9IJE=s64",
      "userId": "12001580697035227328"
     },
     "user_tz": -180
    },
    "id": "_yeegxPPYgvg"
   },
   "outputs": [],
   "source": []
  },
  {
   "cell_type": "markdown",
   "metadata": {
    "colab_type": "text",
    "id": "zxoWmjeGYgvg"
   },
   "source": [
    "2. Print out your list in alphabetical order, and reverse alphabetical order"
   ]
  },
  {
   "cell_type": "code",
   "execution_count": null,
   "metadata": {
    "colab": {
     "base_uri": "https://localhost:8080/",
     "height": 109
    },
    "colab_type": "code",
    "executionInfo": {
     "elapsed": 864,
     "status": "ok",
     "timestamp": 1600192645129,
     "user": {
      "displayName": "Enock Kipkemboi",
      "photoUrl": "https://lh3.googleusercontent.com/a-/AOh14GizCzsQESXPA2F3fIxqQDEIPrYFkqYplrS9IJE=s64",
      "userId": "12001580697035227328"
     },
     "user_tz": -180
    },
    "id": "lhCtXxnAYgvh",
    "outputId": "acd7222b-dc61-49bb-b61e-fda8ae2953ee"
   },
   "outputs": [],
   "source": []
  },
  {
   "cell_type": "markdown",
   "metadata": {
    "colab_type": "text",
    "id": "QJ0LOw7wYgvj"
   },
   "source": [
    "3. Write code to get the position of your least favorite element and remove it from the list"
   ]
  },
  {
   "cell_type": "code",
   "execution_count": null,
   "metadata": {
    "colab": {},
    "colab_type": "code",
    "executionInfo": {
     "elapsed": 2290,
     "status": "ok",
     "timestamp": 1600192276270,
     "user": {
      "displayName": "Enock Kipkemboi",
      "photoUrl": "https://lh3.googleusercontent.com/a-/AOh14GizCzsQESXPA2F3fIxqQDEIPrYFkqYplrS9IJE=s64",
      "userId": "12001580697035227328"
     },
     "user_tz": -180
    },
    "id": "ymb8IUxuYgvj"
   },
   "outputs": [],
   "source": []
  },
  {
   "cell_type": "markdown",
   "metadata": {
    "colab_type": "text",
    "id": "hRfWST3aYgvk"
   },
   "source": [
    "### <font color='#F9007A'> 2. Tuples </font>\n",
    "\n",
    "Tuples are like lists, but once created can't be modified\n"
   ]
  },
  {
   "cell_type": "code",
   "execution_count": null,
   "metadata": {
    "colab": {
     "base_uri": "https://localhost:8080/",
     "height": 54
    },
    "colab_type": "code",
    "executionInfo": {
     "elapsed": 2287,
     "status": "ok",
     "timestamp": 1600192276270,
     "user": {
      "displayName": "Enock Kipkemboi",
      "photoUrl": "https://lh3.googleusercontent.com/a-/AOh14GizCzsQESXPA2F3fIxqQDEIPrYFkqYplrS9IJE=s64",
      "userId": "12001580697035227328"
     },
     "user_tz": -180
    },
    "id": "Ph-wdyYpYgvk",
    "outputId": "9c29685c-9596-4645-d7e8-eb4df1d3c086"
   },
   "outputs": [],
   "source": [
    "musketeers = (\"Athos\", \"Porthos\", \"Aramis\")\n",
    "print(type(musketeers))\n",
    "print(musketeers)"
   ]
  },
  {
   "cell_type": "code",
   "execution_count": null,
   "metadata": {
    "colab": {
     "base_uri": "https://localhost:8080/",
     "height": 35
    },
    "colab_type": "code",
    "executionInfo": {
     "elapsed": 2285,
     "status": "ok",
     "timestamp": 1600192276271,
     "user": {
      "displayName": "Enock Kipkemboi",
      "photoUrl": "https://lh3.googleusercontent.com/a-/AOh14GizCzsQESXPA2F3fIxqQDEIPrYFkqYplrS9IJE=s64",
      "userId": "12001580697035227328"
     },
     "user_tz": -180
    },
    "id": "BLhjQ1DGYgvm",
    "outputId": "7a05ab42-a078-4ce0-c21c-a05f798ac988"
   },
   "outputs": [],
   "source": [
    "# We can access tuple elements like we do with lists\n",
    "print(musketeers[1:])"
   ]
  },
  {
   "cell_type": "code",
   "execution_count": null,
   "metadata": {
    "colab": {
     "base_uri": "https://localhost:8080/",
     "height": 192
    },
    "colab_type": "code",
    "executionInfo": {
     "elapsed": 2299,
     "status": "error",
     "timestamp": 1600192276288,
     "user": {
      "displayName": "Enock Kipkemboi",
      "photoUrl": "https://lh3.googleusercontent.com/a-/AOh14GizCzsQESXPA2F3fIxqQDEIPrYFkqYplrS9IJE=s64",
      "userId": "12001580697035227328"
     },
     "user_tz": -180
    },
    "id": "HJweABSQYgvp",
    "outputId": "5abad690-0eae-4757-b609-b44e9b7d5fc3"
   },
   "outputs": [],
   "source": [
    "# however, we can't modify a tuple\n",
    "musketeers[3] = \"D'artagnan\""
   ]
  },
  {
   "cell_type": "markdown",
   "metadata": {
    "colab_type": "text",
    "id": "D0cVE1jGYgvq"
   },
   "source": [
    "### <font color='#F9007A'> 3. Dictionaries </font>\n",
    "\n",
    "\n",
    "Dictionaries are pairs of keys associated to values. We can easily (and quickly) see a value if we know its associated key"
   ]
  },
  {
   "cell_type": "code",
   "execution_count": null,
   "metadata": {
    "colab": {},
    "colab_type": "code",
    "executionInfo": {
     "elapsed": 2279,
     "status": "aborted",
     "timestamp": 1600192276272,
     "user": {
      "displayName": "Enock Kipkemboi",
      "photoUrl": "https://lh3.googleusercontent.com/a-/AOh14GizCzsQESXPA2F3fIxqQDEIPrYFkqYplrS9IJE=s64",
      "userId": "12001580697035227328"
     },
     "user_tz": -180
    },
    "id": "NVdEY9drYgvs"
   },
   "outputs": [],
   "source": [
    "inventory = {\n",
    "        \"peaches\": 3,\n",
    "        \"strawberries\": 1,\n",
    "        \"apples\": 4\n",
    "        }\n",
    "print(type(inventory))\n",
    "print(inventory)"
   ]
  },
  {
   "cell_type": "code",
   "execution_count": null,
   "metadata": {
    "colab": {},
    "colab_type": "code",
    "executionInfo": {
     "elapsed": 2276,
     "status": "aborted",
     "timestamp": 1600192276272,
     "user": {
      "displayName": "Enock Kipkemboi",
      "photoUrl": "https://lh3.googleusercontent.com/a-/AOh14GizCzsQESXPA2F3fIxqQDEIPrYFkqYplrS9IJE=s64",
      "userId": "12001580697035227328"
     },
     "user_tz": -180
    },
    "id": "XUffWeM5Ygvt"
   },
   "outputs": [],
   "source": [
    "# We can see all the keys in a dictionary with `keys()`\n",
    "print(inventory.keys())"
   ]
  },
  {
   "cell_type": "code",
   "execution_count": null,
   "metadata": {
    "colab": {},
    "colab_type": "code",
    "executionInfo": {
     "elapsed": 2272,
     "status": "aborted",
     "timestamp": 1600192276272,
     "user": {
      "displayName": "Enock Kipkemboi",
      "photoUrl": "https://lh3.googleusercontent.com/a-/AOh14GizCzsQESXPA2F3fIxqQDEIPrYFkqYplrS9IJE=s64",
      "userId": "12001580697035227328"
     },
     "user_tz": -180
    },
    "id": "gZCoZaFpYgvv"
   },
   "outputs": [],
   "source": [
    "# the method `keys()` doesnt return a list, if we want to access the keys like a \n",
    "# list we need to convert them to a list\n",
    "\n",
    "# this will fail with a TypeError\n",
    "print(inventory.keys()[0])"
   ]
  },
  {
   "cell_type": "code",
   "execution_count": null,
   "metadata": {
    "colab": {},
    "colab_type": "code",
    "executionInfo": {
     "elapsed": 2269,
     "status": "aborted",
     "timestamp": 1600192276273,
     "user": {
      "displayName": "Enock Kipkemboi",
      "photoUrl": "https://lh3.googleusercontent.com/a-/AOh14GizCzsQESXPA2F3fIxqQDEIPrYFkqYplrS9IJE=s64",
      "userId": "12001580697035227328"
     },
     "user_tz": -180
    },
    "id": "m3TgvAP-Ygvx"
   },
   "outputs": [],
   "source": [
    "# this will work\n",
    "print(list(inventory.keys())[0])"
   ]
  },
  {
   "cell_type": "code",
   "execution_count": null,
   "metadata": {
    "colab": {},
    "colab_type": "code",
    "executionInfo": {
     "elapsed": 2267,
     "status": "aborted",
     "timestamp": 1600192276274,
     "user": {
      "displayName": "Enock Kipkemboi",
      "photoUrl": "https://lh3.googleusercontent.com/a-/AOh14GizCzsQESXPA2F3fIxqQDEIPrYFkqYplrS9IJE=s64",
      "userId": "12001580697035227328"
     },
     "user_tz": -180
    },
    "id": "r0HegqUEYgvy"
   },
   "outputs": [],
   "source": [
    "# Similarly, we can see the values in a dictionary with `values()`\n",
    "print(inventory.values())"
   ]
  },
  {
   "cell_type": "code",
   "execution_count": null,
   "metadata": {
    "colab": {},
    "colab_type": "code",
    "executionInfo": {
     "elapsed": 2263,
     "status": "aborted",
     "timestamp": 1600192276274,
     "user": {
      "displayName": "Enock Kipkemboi",
      "photoUrl": "https://lh3.googleusercontent.com/a-/AOh14GizCzsQESXPA2F3fIxqQDEIPrYFkqYplrS9IJE=s64",
      "userId": "12001580697035227328"
     },
     "user_tz": -180
    },
    "id": "fh2GvMgZYgv0"
   },
   "outputs": [],
   "source": [
    "# We can read the value associated with a specific key with brackets\n",
    "print(inventory[\"strawberries\"])"
   ]
  },
  {
   "cell_type": "code",
   "execution_count": null,
   "metadata": {
    "colab": {},
    "colab_type": "code",
    "executionInfo": {
     "elapsed": 2261,
     "status": "aborted",
     "timestamp": 1600192276274,
     "user": {
      "displayName": "Enock Kipkemboi",
      "photoUrl": "https://lh3.googleusercontent.com/a-/AOh14GizCzsQESXPA2F3fIxqQDEIPrYFkqYplrS9IJE=s64",
      "userId": "12001580697035227328"
     },
     "user_tz": -180
    },
    "id": "N5BociesYgv1"
   },
   "outputs": [],
   "source": [
    "# If the key doesnt exist it will throw an error (KeyError)\n",
    "print(inventory[\"melon\"])"
   ]
  },
  {
   "cell_type": "code",
   "execution_count": null,
   "metadata": {
    "colab": {},
    "colab_type": "code",
    "executionInfo": {
     "elapsed": 2258,
     "status": "aborted",
     "timestamp": 1600192276274,
     "user": {
      "displayName": "Enock Kipkemboi",
      "photoUrl": "https://lh3.googleusercontent.com/a-/AOh14GizCzsQESXPA2F3fIxqQDEIPrYFkqYplrS9IJE=s64",
      "userId": "12001580697035227328"
     },
     "user_tz": -180
    },
    "id": "f-NzhXDmYgv5"
   },
   "outputs": [],
   "source": [
    "# We can add a new key/modify an existing one to a dictionary using brackets\n",
    "\n",
    "inventory[\"peaches\"] = 1\n",
    "inventory[\"oranges\"] = 2\n",
    "print(inventory)"
   ]
  },
  {
   "cell_type": "code",
   "execution_count": null,
   "metadata": {
    "colab": {},
    "colab_type": "code",
    "executionInfo": {
     "elapsed": 2256,
     "status": "aborted",
     "timestamp": 1600192276275,
     "user": {
      "displayName": "Enock Kipkemboi",
      "photoUrl": "https://lh3.googleusercontent.com/a-/AOh14GizCzsQESXPA2F3fIxqQDEIPrYFkqYplrS9IJE=s64",
      "userId": "12001580697035227328"
     },
     "user_tz": -180
    },
    "id": "o_fDLvkfYgv-"
   },
   "outputs": [],
   "source": [
    "# We can check if a key exists in a dictionary\n",
    "print(\"melon\" in inventory)\n",
    "print(\"peaches\" in inventory)"
   ]
  },
  {
   "cell_type": "code",
   "execution_count": null,
   "metadata": {
    "colab": {},
    "colab_type": "code",
    "executionInfo": {
     "elapsed": 2255,
     "status": "aborted",
     "timestamp": 1600192276276,
     "user": {
      "displayName": "Enock Kipkemboi",
      "photoUrl": "https://lh3.googleusercontent.com/a-/AOh14GizCzsQESXPA2F3fIxqQDEIPrYFkqYplrS9IJE=s64",
      "userId": "12001580697035227328"
     },
     "user_tz": -180
    },
    "id": "7prZEBsuYgv_"
   },
   "outputs": [],
   "source": [
    "# We can remove a key from a dictionary with `pop()`\n",
    "\n",
    "kilos_strawberries = inventory.pop(\"strawberries\")\n",
    "print(\"We have {} kilos of strawberries\".format(kilos_strawberries))\n",
    "print(inventory)"
   ]
  },
  {
   "cell_type": "markdown",
   "metadata": {
    "colab_type": "text",
    "id": "BR8O4ye6YgwA"
   },
   "source": [
    "Each data structure can store other data structures!\n"
   ]
  },
  {
   "cell_type": "code",
   "execution_count": null,
   "metadata": {
    "colab": {},
    "colab_type": "code",
    "executionInfo": {
     "elapsed": 2251,
     "status": "aborted",
     "timestamp": 1600192276276,
     "user": {
      "displayName": "Enock Kipkemboi",
      "photoUrl": "https://lh3.googleusercontent.com/a-/AOh14GizCzsQESXPA2F3fIxqQDEIPrYFkqYplrS9IJE=s64",
      "userId": "12001580697035227328"
     },
     "user_tz": -180
    },
    "id": "VYZlTfcfYgwB"
   },
   "outputs": [],
   "source": [
    "# a list with lists inside\n",
    "flights =[\n",
    "        [\"Cape Town\", \"New York City\"],\n",
    "        [\"Cape Town\", \"Johannesburg\"],\n",
    "        [\"Cape Town\", \"Singapore\"],\n",
    "        [\"New York City\", \"Paris\"]\n",
    "        ] \n",
    "\n",
    "print(flights[1][1])"
   ]
  },
  {
   "cell_type": "code",
   "execution_count": null,
   "metadata": {
    "colab": {},
    "colab_type": "code",
    "executionInfo": {
     "elapsed": 2246,
     "status": "aborted",
     "timestamp": 1600192276276,
     "user": {
      "displayName": "Enock Kipkemboi",
      "photoUrl": "https://lh3.googleusercontent.com/a-/AOh14GizCzsQESXPA2F3fIxqQDEIPrYFkqYplrS9IJE=s64",
      "userId": "12001580697035227328"
     },
     "user_tz": -180
    },
    "id": "ujzkzZ_tYgwC"
   },
   "outputs": [],
   "source": [
    "# a dictionary with tuples and lists as values\n",
    "dict_flights = {\n",
    "        \"Cape Town\": (\"London\", \"Paris\", \"Berlin\"),\n",
    "        \"Lisbon\": (\"New York City\", \"Madrid\")\n",
    "        }\n",
    "print(dict_flights[\"Cape Town\"])"
   ]
  },
  {
   "cell_type": "code",
   "execution_count": null,
   "metadata": {
    "colab": {},
    "colab_type": "code",
    "executionInfo": {
     "elapsed": 2243,
     "status": "aborted",
     "timestamp": 1600192276277,
     "user": {
      "displayName": "Enock Kipkemboi",
      "photoUrl": "https://lh3.googleusercontent.com/a-/AOh14GizCzsQESXPA2F3fIxqQDEIPrYFkqYplrS9IJE=s64",
      "userId": "12001580697035227328"
     },
     "user_tz": -180
    },
    "id": "V5amfoLxYgwD"
   },
   "outputs": [],
   "source": [
    "# a list containing dictionaries\n",
    "dictionaries_list = [\n",
    "        {\"origin\": \"Cape Town\", \"destination\": \"New York\"},\n",
    "        {\"origin\": \"Madrid\", \"destination\": \"Paris\"}\n",
    "        ]\n",
    "\n",
    "print(dictionaries_list)"
   ]
  },
  {
   "cell_type": "markdown",
   "metadata": {
    "colab_type": "text",
    "id": "YCFZJwDlYgwE"
   },
   "source": [
    "### <font color='#F9007A'> Quick knowledge check! </font>\n",
    "1. Create a dictionary that stores phone contact information (i.e. name, phone number, company)"
   ]
  },
  {
   "cell_type": "code",
   "execution_count": null,
   "metadata": {
    "colab": {},
    "colab_type": "code",
    "executionInfo": {
     "elapsed": 2239,
     "status": "aborted",
     "timestamp": 1600192276277,
     "user": {
      "displayName": "Enock Kipkemboi",
      "photoUrl": "https://lh3.googleusercontent.com/a-/AOh14GizCzsQESXPA2F3fIxqQDEIPrYFkqYplrS9IJE=s64",
      "userId": "12001580697035227328"
     },
     "user_tz": -180
    },
    "id": "MVxOsDQaYgwE"
   },
   "outputs": [],
   "source": []
  },
  {
   "cell_type": "markdown",
   "metadata": {
    "colab_type": "text",
    "id": "caawcJmMYgwF"
   },
   "source": [
    "2. Write code that adds a key-value pair to store a <b>list</b> of the contact's social media handles"
   ]
  },
  {
   "cell_type": "code",
   "execution_count": null,
   "metadata": {
    "colab": {},
    "colab_type": "code",
    "executionInfo": {
     "elapsed": 2238,
     "status": "aborted",
     "timestamp": 1600192276278,
     "user": {
      "displayName": "Enock Kipkemboi",
      "photoUrl": "https://lh3.googleusercontent.com/a-/AOh14GizCzsQESXPA2F3fIxqQDEIPrYFkqYplrS9IJE=s64",
      "userId": "12001580697035227328"
     },
     "user_tz": -180
    },
    "id": "RQvnOGxhYgwF"
   },
   "outputs": [],
   "source": []
  },
  {
   "cell_type": "markdown",
   "metadata": {
    "colab_type": "text",
    "id": "crMSjnb6YgwG"
   },
   "source": [
    "3. Nevermind, there's some privacy laws preventing us from storing social media handles. Write code to remove that key-value pair, make sure to print out the list of keys in the dictionary before and after to make sure you did your job!"
   ]
  },
  {
   "cell_type": "code",
   "execution_count": null,
   "metadata": {
    "colab": {},
    "colab_type": "code",
    "executionInfo": {
     "elapsed": 2229,
     "status": "aborted",
     "timestamp": 1600192276278,
     "user": {
      "displayName": "Enock Kipkemboi",
      "photoUrl": "https://lh3.googleusercontent.com/a-/AOh14GizCzsQESXPA2F3fIxqQDEIPrYFkqYplrS9IJE=s64",
      "userId": "12001580697035227328"
     },
     "user_tz": -180
    },
    "id": "xbNdqZu5YgwH"
   },
   "outputs": [],
   "source": []
  },
  {
   "cell_type": "markdown",
   "metadata": {
    "colab_type": "text",
    "id": "YNmf1POHYgwI"
   },
   "source": [
    "# BOOM THE END OF DATA STRUCTURES\n",
    "\n",
    "![lists](https://i.pinimg.com/originals/41/05/82/41058209535e7e800b7c06f1aee41df8.jpg)"
   ]
  },
  {
   "cell_type": "markdown",
   "metadata": {
    "colab_type": "text",
    "id": "MbAZKTY2YgwJ"
   },
   "source": [
    "<hr>\n",
    "\n",
    "<br>\n",
    "<br>\n",
    "<br>\n"
   ]
  },
  {
   "cell_type": "markdown",
   "metadata": {
    "colab_type": "text",
    "id": "s9ieM5LsYgwJ"
   },
   "source": [
    "# <font color='#F9007A'> 4. CONTROL FLOW  </font>\n",
    "\n",
    "Here we talk about control flow, which is the way that we can modify the linear\n",
    "behaviour  (line by line) in python programs:\n",
    "\n",
    "1. If-else\n",
    "2. For loops\n",
    "3. While loops"
   ]
  },
  {
   "cell_type": "markdown",
   "metadata": {
    "colab_type": "text",
    "id": "g_q3HCGeYgwJ"
   },
   "source": [
    "### <font color='#F9007A'> 1. If-else  </font>\n",
    "\n",
    "\n",
    "We use if-else to take decisions and execute different parts of the code \n",
    "depending on a condition. \n",
    "\n",
    "In python, the way we declare we are inside a loop (or a function) is by \n",
    "indenting,\n",
    "that is, if we are inside an if-else loop we put the code inside the loop 4 \n",
    "spaces to the right. We can use the tab key in Jupyter Notebooks."
   ]
  },
  {
   "cell_type": "code",
   "execution_count": null,
   "metadata": {
    "colab": {},
    "colab_type": "code",
    "executionInfo": {
     "elapsed": 2227,
     "status": "aborted",
     "timestamp": 1600192276279,
     "user": {
      "displayName": "Enock Kipkemboi",
      "photoUrl": "https://lh3.googleusercontent.com/a-/AOh14GizCzsQESXPA2F3fIxqQDEIPrYFkqYplrS9IJE=s64",
      "userId": "12001580697035227328"
     },
     "user_tz": -180
    },
    "id": "w-nySDduYgwJ"
   },
   "outputs": [],
   "source": [
    "# We can use an if loop to execute something based on one condition\n",
    "temperature = 95\n",
    "\n",
    "if temperature <= 65:\n",
    "    #we indent this line to declare that it is inside the if loop\n",
    "    print(\"Better get a sweater, its chilly out\")\n",
    "    \n",
    "print(\"this gets printed no matter what\")"
   ]
  },
  {
   "cell_type": "code",
   "execution_count": null,
   "metadata": {
    "colab": {},
    "colab_type": "code",
    "executionInfo": {
     "elapsed": 2225,
     "status": "aborted",
     "timestamp": 1600192276280,
     "user": {
      "displayName": "Enock Kipkemboi",
      "photoUrl": "https://lh3.googleusercontent.com/a-/AOh14GizCzsQESXPA2F3fIxqQDEIPrYFkqYplrS9IJE=s64",
      "userId": "12001580697035227328"
     },
     "user_tz": -180
    },
    "id": "sNPgKeNDYgwL"
   },
   "outputs": [],
   "source": [
    "#If we want to add many different conditions to an if loop we can use if-else\n",
    "temperature = 50\n",
    "\n",
    "\n",
    "if temperature <= 30:\n",
    "    mom_answer = \"Get a coat, its freezing outside!\"\n",
    "    \n",
    "elif temperature <= 65:           # elif stands for \"else if ...\"\n",
    "    mom_answer = \"Get a sweater, its chilly out!\"\n",
    "    \n",
    "elif temperature <= 85:\n",
    "    mom_answer = \"Don't come back late!\"\n",
    "    \n",
    "else:                             # The else block will run only if none of the previous conditions take place\n",
    "    mom_answer = \"Its too hot out!\"\n",
    "\n",
    "print(mom_answer)"
   ]
  },
  {
   "cell_type": "code",
   "execution_count": null,
   "metadata": {
    "colab": {},
    "colab_type": "code",
    "executionInfo": {
     "elapsed": 2222,
     "status": "aborted",
     "timestamp": 1600192276280,
     "user": {
      "displayName": "Enock Kipkemboi",
      "photoUrl": "https://lh3.googleusercontent.com/a-/AOh14GizCzsQESXPA2F3fIxqQDEIPrYFkqYplrS9IJE=s64",
      "userId": "12001580697035227328"
     },
     "user_tz": -180
    },
    "id": "fLSOwNWwYgwL"
   },
   "outputs": [],
   "source": [
    "# try changing the temperature above and checking the result\n"
   ]
  },
  {
   "cell_type": "code",
   "execution_count": null,
   "metadata": {
    "colab": {},
    "colab_type": "code",
    "executionInfo": {
     "elapsed": 2220,
     "status": "aborted",
     "timestamp": 1600192276281,
     "user": {
      "displayName": "Enock Kipkemboi",
      "photoUrl": "https://lh3.googleusercontent.com/a-/AOh14GizCzsQESXPA2F3fIxqQDEIPrYFkqYplrS9IJE=s64",
      "userId": "12001580697035227328"
     },
     "user_tz": -180
    },
    "id": "Rf7H75kvYgwN"
   },
   "outputs": [],
   "source": [
    "\n",
    "# We can insert loops inside other loops (nested loops)\n",
    "\n",
    "temperature = 75\n",
    "rain = False\n",
    "\n",
    "if 65 < temperature and temperature < 85:\n",
    "    # True evaluates to True, using not we get the opposite\n",
    "    if not rain:\n",
    "        print(\"Let's go picnic!\")\n"
   ]
  },
  {
   "cell_type": "markdown",
   "metadata": {
    "colab_type": "text",
    "id": "Nv_Zt6gIYgwO"
   },
   "source": [
    "### <font color='#F9007A'> Quick knowledge check! </font>\n",
    "1. Write some code that lets you set your mood (i.e. happy) and recommends a song based on your mood."
   ]
  },
  {
   "cell_type": "code",
   "execution_count": null,
   "metadata": {
    "colab": {},
    "colab_type": "code",
    "executionInfo": {
     "elapsed": 2217,
     "status": "aborted",
     "timestamp": 1600192276281,
     "user": {
      "displayName": "Enock Kipkemboi",
      "photoUrl": "https://lh3.googleusercontent.com/a-/AOh14GizCzsQESXPA2F3fIxqQDEIPrYFkqYplrS9IJE=s64",
      "userId": "12001580697035227328"
     },
     "user_tz": -180
    },
    "id": "vk8tb1tjYgwO"
   },
   "outputs": [],
   "source": []
  },
  {
   "cell_type": "markdown",
   "metadata": {
    "colab_type": "text",
    "id": "Z0frA7KYYgwQ"
   },
   "source": [
    "\n",
    "### <font color='#F9007A'> 2. For Loops  </font>\n",
    "\n",
    "FOR loops are used to iterate the elements of a list one by one(or anything that \n",
    "is iterable)"
   ]
  },
  {
   "cell_type": "code",
   "execution_count": null,
   "metadata": {
    "colab": {},
    "colab_type": "code",
    "executionInfo": {
     "elapsed": 2216,
     "status": "aborted",
     "timestamp": 1600192276282,
     "user": {
      "displayName": "Enock Kipkemboi",
      "photoUrl": "https://lh3.googleusercontent.com/a-/AOh14GizCzsQESXPA2F3fIxqQDEIPrYFkqYplrS9IJE=s64",
      "userId": "12001580697035227328"
     },
     "user_tz": -180
    },
    "id": "LHdZfj0GYgwQ"
   },
   "outputs": [],
   "source": [
    "numbers = [1, 2, 3, 4, 5, 6, 7, 80, 9, 10]\n",
    "\n",
    "for n in numbers:\n",
    "    if n <= 10:\n",
    "        print(f\"valid number {n}\")\n",
    "    else:\n",
    "        print(f\"ERROR! number {n} greater than 10\")\n"
   ]
  },
  {
   "cell_type": "code",
   "execution_count": null,
   "metadata": {
    "colab": {},
    "colab_type": "code",
    "executionInfo": {
     "elapsed": 2213,
     "status": "aborted",
     "timestamp": 1600192276282,
     "user": {
      "displayName": "Enock Kipkemboi",
      "photoUrl": "https://lh3.googleusercontent.com/a-/AOh14GizCzsQESXPA2F3fIxqQDEIPrYFkqYplrS9IJE=s64",
      "userId": "12001580697035227328"
     },
     "user_tz": -180
    },
    "id": "YHpow4S3YgwQ"
   },
   "outputs": [],
   "source": [
    "# Sometimes we want to break a for loop if a condition happens, we can break a loop with the keyword `break`\n",
    "\n",
    "numbers = [1, 2, 3, 4, 5, 6, 7, 80, 9, 10]\n",
    "\n",
    "for n in numbers:\n",
    "    if n <= 10:\n",
    "        print(f\"valid number {n}\")\n",
    "    else:\n",
    "        print(f\"ERROR! number {n} greater than 10. EXITING THE LOOP\")\n",
    "        break"
   ]
  },
  {
   "cell_type": "code",
   "execution_count": null,
   "metadata": {
    "colab": {},
    "colab_type": "code",
    "executionInfo": {
     "elapsed": 2212,
     "status": "aborted",
     "timestamp": 1600192276283,
     "user": {
      "displayName": "Enock Kipkemboi",
      "photoUrl": "https://lh3.googleusercontent.com/a-/AOh14GizCzsQESXPA2F3fIxqQDEIPrYFkqYplrS9IJE=s64",
      "userId": "12001580697035227328"
     },
     "user_tz": -180
    },
    "id": "ak1LNNihYgwU"
   },
   "outputs": [],
   "source": [
    "# There are times where we dont want to break a loop, we just want to continue if\n",
    "# something happens and do nothing, we can use `pass` for this\n",
    "\n",
    "numbers = [1, 2, 3, 4, 5, 6, 7, 80, 9, 10]\n",
    "\n",
    "for n in numbers:\n",
    "    if n <= 10:\n",
    "        print(f\"valid number {n}\")\n",
    "    else:\n",
    "        # pass is a placeholder, we have to put something inside an else block\n",
    "        # we use pass so nothing happens.\n",
    "        pass"
   ]
  },
  {
   "cell_type": "code",
   "execution_count": null,
   "metadata": {
    "colab": {},
    "colab_type": "code",
    "executionInfo": {
     "elapsed": 2209,
     "status": "aborted",
     "timestamp": 1600192276283,
     "user": {
      "displayName": "Enock Kipkemboi",
      "photoUrl": "https://lh3.googleusercontent.com/a-/AOh14GizCzsQESXPA2F3fIxqQDEIPrYFkqYplrS9IJE=s64",
      "userId": "12001580697035227328"
     },
     "user_tz": -180
    },
    "id": "17EQ0jeTYgwX"
   },
   "outputs": [],
   "source": [
    "# continue, opposite to pass, will skip this loop iteration and go to the next one\n",
    "\n",
    "numbers = [1, 2, 3, 4, 5, 6, 7, 80, 9, 10]\n",
    "\n",
    "for n in numbers:\n",
    "    if n <= 10:\n",
    "        print(f\"valid number {n}\")\n",
    "    else:\n",
    "        continue\n",
    "        print(\"this will never get printed\")"
   ]
  },
  {
   "cell_type": "code",
   "execution_count": null,
   "metadata": {
    "colab": {},
    "colab_type": "code",
    "executionInfo": {
     "elapsed": 2207,
     "status": "aborted",
     "timestamp": 1600192276284,
     "user": {
      "displayName": "Enock Kipkemboi",
      "photoUrl": "https://lh3.googleusercontent.com/a-/AOh14GizCzsQESXPA2F3fIxqQDEIPrYFkqYplrS9IJE=s64",
      "userId": "12001580697035227328"
     },
     "user_tz": -180
    },
    "id": "5QydbyH_YgwY"
   },
   "outputs": [],
   "source": [
    "# A simplified way to iterate elements in a list is using a list comprehension\n",
    "\n",
    "[number for number in numbers if number <= 10]"
   ]
  },
  {
   "cell_type": "code",
   "execution_count": null,
   "metadata": {
    "colab": {},
    "colab_type": "code",
    "executionInfo": {
     "elapsed": 2205,
     "status": "aborted",
     "timestamp": 1600192276284,
     "user": {
      "displayName": "Enock Kipkemboi",
      "photoUrl": "https://lh3.googleusercontent.com/a-/AOh14GizCzsQESXPA2F3fIxqQDEIPrYFkqYplrS9IJE=s64",
      "userId": "12001580697035227328"
     },
     "user_tz": -180
    },
    "id": "Az6Val8uYgwZ"
   },
   "outputs": [],
   "source": [
    "#Make a line that writes \"too big\" for numbers >10\n"
   ]
  },
  {
   "cell_type": "code",
   "execution_count": null,
   "metadata": {
    "colab": {},
    "colab_type": "code",
    "executionInfo": {
     "elapsed": 2204,
     "status": "aborted",
     "timestamp": 1600192276285,
     "user": {
      "displayName": "Enock Kipkemboi",
      "photoUrl": "https://lh3.googleusercontent.com/a-/AOh14GizCzsQESXPA2F3fIxqQDEIPrYFkqYplrS9IJE=s64",
      "userId": "12001580697035227328"
     },
     "user_tz": -180
    },
    "id": "QTpFCsijYgwb"
   },
   "outputs": [],
   "source": [
    "# We can iterate the keys in a dictionary with a for loop\n",
    "\n",
    "inventory = {\n",
    "        \"peaches\": 3,\n",
    "        \"strawberries\": 1,\n",
    "        \"apples\": 4\n",
    "        }\n",
    "\n",
    "for fruit in inventory:\n",
    "    print(fruit)"
   ]
  },
  {
   "cell_type": "code",
   "execution_count": null,
   "metadata": {
    "colab": {},
    "colab_type": "code",
    "executionInfo": {
     "elapsed": 2199,
     "status": "aborted",
     "timestamp": 1600192276285,
     "user": {
      "displayName": "Enock Kipkemboi",
      "photoUrl": "https://lh3.googleusercontent.com/a-/AOh14GizCzsQESXPA2F3fIxqQDEIPrYFkqYplrS9IJE=s64",
      "userId": "12001580697035227328"
     },
     "user_tz": -180
    },
    "id": "cRKKe4hHYgwb"
   },
   "outputs": [],
   "source": [
    "\n",
    "# We can iterate the keys and values together if we use `.items()`:\n",
    "for fruit, amount in inventory.items():\n",
    "    print(fruit, amount)\n",
    "    print(\"We have {} kilo/s of {}\".format(amount, fruit))"
   ]
  },
  {
   "cell_type": "code",
   "execution_count": null,
   "metadata": {
    "colab": {},
    "colab_type": "code",
    "executionInfo": {
     "elapsed": 2195,
     "status": "aborted",
     "timestamp": 1600192276286,
     "user": {
      "displayName": "Enock Kipkemboi",
      "photoUrl": "https://lh3.googleusercontent.com/a-/AOh14GizCzsQESXPA2F3fIxqQDEIPrYFkqYplrS9IJE=s64",
      "userId": "12001580697035227328"
     },
     "user_tz": -180
    },
    "id": "30PY3hRvYgwd"
   },
   "outputs": [],
   "source": [
    "# We can iterate strings too! (remember, strings are just lists of characters).\n",
    "name = \"IXPERIENCE\"\n",
    "\n",
    "for letter in name:\n",
    "    print(\"GIVE ME A {}!\".format(letter))"
   ]
  },
  {
   "cell_type": "markdown",
   "metadata": {
    "colab_type": "text",
    "id": "iRqada5yYgwe"
   },
   "source": [
    "### <font color='#F9007A'> Quick knowledge check! </font>\n",
    "1. Using the animals dictionary below, write a for loop that loops through and prints out the scientific names of all the animals."
   ]
  },
  {
   "cell_type": "code",
   "execution_count": null,
   "metadata": {
    "colab": {},
    "colab_type": "code",
    "executionInfo": {
     "elapsed": 2192,
     "status": "aborted",
     "timestamp": 1600192276286,
     "user": {
      "displayName": "Enock Kipkemboi",
      "photoUrl": "https://lh3.googleusercontent.com/a-/AOh14GizCzsQESXPA2F3fIxqQDEIPrYFkqYplrS9IJE=s64",
      "userId": "12001580697035227328"
     },
     "user_tz": -180
    },
    "id": "9SZXXe6ZYgwf"
   },
   "outputs": [],
   "source": [
    "animals = {\n",
    "    'Elephant': {\n",
    "        'scientific_name': 'Loxodonta Africana',\n",
    "        'big_five': True\n",
    "    },\n",
    "    'Zebra':{\n",
    "        'scientific_name': 'Equus Quagga',\n",
    "        'big_five': False\n",
    "    },\n",
    "    'Black Rhinoceras':{\n",
    "        'scientific_name': 'Diceros Bicornis',\n",
    "        'big_five': True\n",
    "    }\n",
    "}\n",
    "\n",
    "# Put your code here"
   ]
  },
  {
   "cell_type": "markdown",
   "metadata": {
    "colab_type": "text",
    "id": "yU50VY3pYgwg"
   },
   "source": [
    "2. Extension! Only print them out if they're big five animals."
   ]
  },
  {
   "cell_type": "code",
   "execution_count": null,
   "metadata": {
    "colab": {},
    "colab_type": "code",
    "executionInfo": {
     "elapsed": 2190,
     "status": "aborted",
     "timestamp": 1600192276286,
     "user": {
      "displayName": "Enock Kipkemboi",
      "photoUrl": "https://lh3.googleusercontent.com/a-/AOh14GizCzsQESXPA2F3fIxqQDEIPrYFkqYplrS9IJE=s64",
      "userId": "12001580697035227328"
     },
     "user_tz": -180
    },
    "id": "p_FRI1RfYgwg"
   },
   "outputs": [],
   "source": []
  },
  {
   "cell_type": "markdown",
   "metadata": {
    "colab_type": "text",
    "id": "hj8V6qfeYgwh"
   },
   "source": [
    "### <font color='#F9007A'> 3. While loops  </font>\n",
    "While loops continue running until a condition takes place\n",
    "\n"
   ]
  },
  {
   "cell_type": "code",
   "execution_count": null,
   "metadata": {
    "colab": {},
    "colab_type": "code",
    "executionInfo": {
     "elapsed": 2186,
     "status": "aborted",
     "timestamp": 1600192276286,
     "user": {
      "displayName": "Enock Kipkemboi",
      "photoUrl": "https://lh3.googleusercontent.com/a-/AOh14GizCzsQESXPA2F3fIxqQDEIPrYFkqYplrS9IJE=s64",
      "userId": "12001580697035227328"
     },
     "user_tz": -180
    },
    "id": "oVayucj1Ygwi"
   },
   "outputs": [],
   "source": [
    "n_beer_bottles = 99\n",
    "while n_beer_bottles > 0:\n",
    "    print(\"\"\"\n",
    "        🎜🎝♩ {} bottles of beer on the wall, {} bottles of beer.\n",
    "        Take one down and pass it around, {} bottles of beer on the wall.🎜🎝♩\n",
    "        \"\"\".format(n_beer_bottles, n_beer_bottles, n_beer_bottles - 1))\n",
    "    n_beer_bottles -= 1"
   ]
  },
  {
   "cell_type": "markdown",
   "metadata": {
    "colab_type": "text",
    "id": "WmNE5bS0Ygwj"
   },
   "source": [
    "We need to be carefull when using a while loop, we might get stuck in an \n",
    " INFINITE LOOP!\n",
    " (hit the stop button above or ii to exit the execution)"
   ]
  },
  {
   "cell_type": "code",
   "execution_count": null,
   "metadata": {
    "colab": {},
    "colab_type": "code",
    "executionInfo": {
     "elapsed": 2183,
     "status": "aborted",
     "timestamp": 1600192276286,
     "user": {
      "displayName": "Enock Kipkemboi",
      "photoUrl": "https://lh3.googleusercontent.com/a-/AOh14GizCzsQESXPA2F3fIxqQDEIPrYFkqYplrS9IJE=s64",
      "userId": "12001580697035227328"
     },
     "user_tz": -180
    },
    "id": "lRiNHayfYgwj"
   },
   "outputs": [],
   "source": [
    "n = 1\n",
    "while n > 0:\n",
    "    print(\"Stuck in the loop!\")"
   ]
  },
  {
   "cell_type": "markdown",
   "metadata": {
    "colab_type": "text",
    "id": "ReNuAWyGYgwk"
   },
   "source": [
    "A common use case for a while loop is to validate user input\n",
    " we can get user input with the function `input()`"
   ]
  },
  {
   "cell_type": "code",
   "execution_count": null,
   "metadata": {
    "colab": {},
    "colab_type": "code",
    "executionInfo": {
     "elapsed": 2182,
     "status": "aborted",
     "timestamp": 1600192276288,
     "user": {
      "displayName": "Enock Kipkemboi",
      "photoUrl": "https://lh3.googleusercontent.com/a-/AOh14GizCzsQESXPA2F3fIxqQDEIPrYFkqYplrS9IJE=s64",
      "userId": "12001580697035227328"
     },
     "user_tz": -180
    },
    "id": "tZ8Th6YFYgwk"
   },
   "outputs": [],
   "source": [
    "while True:\n",
    "    input_user = input(\"Write a number from 1 to 10, type 'exit' to exit: \")\n",
    "    print(input_user)\n",
    "    try:\n",
    "        if input_user == \"exit\":\n",
    "            print(\"Bye!\")\n",
    "            break\n",
    "        elif int(input_user) <= 10:\n",
    "            square = int(input_user) ** 2\n",
    "            print(\"The square of number {} is {}\".format(input_user, square))\n",
    "        else:\n",
    "            print(\"the value {} is not valid\".format(input_user))\n",
    "    except ValueError:\n",
    "        print(\"Error: the value {} can't be converted to an integer\".format(input_user))"
   ]
  },
  {
   "cell_type": "markdown",
   "metadata": {
    "colab_type": "text",
    "id": "SQmu2wSMYgwl"
   },
   "source": [
    "### <font color='#F9007A'> Quick knowledge check! </font>\n",
    "1. Let's build a little app out of your music recommendation code from the if lesson block! Write a while loop that takes user input on their emotion and outputs a song recommendation until they say exit. (Challenge - can you make it recommend a different song if you pick the same emotion twice?)"
   ]
  },
  {
   "cell_type": "code",
   "execution_count": null,
   "metadata": {
    "colab": {},
    "colab_type": "code",
    "executionInfo": {
     "elapsed": 2179,
     "status": "aborted",
     "timestamp": 1600192276288,
     "user": {
      "displayName": "Enock Kipkemboi",
      "photoUrl": "https://lh3.googleusercontent.com/a-/AOh14GizCzsQESXPA2F3fIxqQDEIPrYFkqYplrS9IJE=s64",
      "userId": "12001580697035227328"
     },
     "user_tz": -180
    },
    "id": "AakARey7Ygwm"
   },
   "outputs": [],
   "source": []
  },
  {
   "cell_type": "markdown",
   "metadata": {
    "colab_type": "text",
    "id": "-VpCuLFZYgwn"
   },
   "source": [
    "# BOOM END OF CONTROL FLOW\n",
    "\n",
    "![chips](https://data.whicdn.com/images/1093046/original.png)\n",
    "\n",
    "<hr>\n",
    "<br>\n",
    "<br>\n",
    "<br>\n"
   ]
  },
  {
   "cell_type": "markdown",
   "metadata": {
    "colab_type": "text",
    "id": "1YpzCholYgwn"
   },
   "source": [
    "# <font color='#F9007A'> 5. FUNCTIONS  </font>\n",
    "\n",
    "Functions are a way of packaging together code that does a specific job and that we might want to re-use. Let's say we wanted to write code that gets two radiuses and compares which has the bigger area."
   ]
  },
  {
   "cell_type": "code",
   "execution_count": null,
   "metadata": {
    "colab": {},
    "colab_type": "code",
    "executionInfo": {
     "elapsed": 2176,
     "status": "aborted",
     "timestamp": 1600192276288,
     "user": {
      "displayName": "Enock Kipkemboi",
      "photoUrl": "https://lh3.googleusercontent.com/a-/AOh14GizCzsQESXPA2F3fIxqQDEIPrYFkqYplrS9IJE=s64",
      "userId": "12001580697035227328"
     },
     "user_tz": -180
    },
    "id": "7k9kw0iZYgwn"
   },
   "outputs": [],
   "source": [
    "radius_1 = 10\n",
    "radius_2 = 30\n",
    "\n",
    "area_1 = 3.2 * radius_1**2\n",
    "area_2 = 3.2 * radius_2**2\n",
    "\n",
    "print('Area 1 is bigger than area 2: ', area_1 > area_2)"
   ]
  },
  {
   "cell_type": "markdown",
   "metadata": {
    "colab_type": "text",
    "id": "DKE2Lx3gYgwo"
   },
   "source": [
    "Instead of writing out $3.2*r^2$ twice, we could wrap it in a function!"
   ]
  },
  {
   "cell_type": "code",
   "execution_count": null,
   "metadata": {
    "colab": {},
    "colab_type": "code",
    "executionInfo": {
     "elapsed": 2450,
     "status": "aborted",
     "timestamp": 1600192276564,
     "user": {
      "displayName": "Enock Kipkemboi",
      "photoUrl": "https://lh3.googleusercontent.com/a-/AOh14GizCzsQESXPA2F3fIxqQDEIPrYFkqYplrS9IJE=s64",
      "userId": "12001580697035227328"
     },
     "user_tz": -180
    },
    "id": "XgTt1maJYgwp"
   },
   "outputs": [],
   "source": [
    "#To create a function  we use the keyword 'def' (as in define) and add the name of our function\n",
    "#Next to the name of the function we add any input arguments (i.e. radius)\n",
    "def computeArea(radius):\n",
    "    #Return tells the function what to return (in this case the area)\n",
    "    return 3.2*radius**2"
   ]
  },
  {
   "cell_type": "markdown",
   "metadata": {
    "colab_type": "text",
    "id": "ETuhulKwYgwq"
   },
   "source": [
    "For our example oru function is called computeArea and accepts one input argument, radius, and it returns the area. Let's see it in action!"
   ]
  },
  {
   "cell_type": "code",
   "execution_count": null,
   "metadata": {
    "colab": {},
    "colab_type": "code",
    "executionInfo": {
     "elapsed": 2448,
     "status": "aborted",
     "timestamp": 1600192276566,
     "user": {
      "displayName": "Enock Kipkemboi",
      "photoUrl": "https://lh3.googleusercontent.com/a-/AOh14GizCzsQESXPA2F3fIxqQDEIPrYFkqYplrS9IJE=s64",
      "userId": "12001580697035227328"
     },
     "user_tz": -180
    },
    "id": "aIL2aZ2dYgwq"
   },
   "outputs": [],
   "source": [
    "radius_1 = 10\n",
    "radius_2 = 30\n",
    "\n",
    "#Now instead of re-writing area calculation we can just use our function!\n",
    "area_1 = computeArea(radius_1)\n",
    "area_2 = computeArea(radius_2)\n",
    "\n",
    "print('Area 1 is bigger than area 2: ', area_1 > area_2)"
   ]
  },
  {
   "cell_type": "markdown",
   "metadata": {
    "colab_type": "text",
    "id": "AmQH4tLmYgwr"
   },
   "source": [
    "This might not seem like big savings, but what if had a more complicated function or wanted to use it in a bunch of different areas? It also let's us make changes all in one place - for example, I totally just remembered that Pi is 3.14 not 3.2!  Now we only have too make a change in one place (go ahead, do it yourself!)"
   ]
  },
  {
   "cell_type": "code",
   "execution_count": null,
   "metadata": {
    "colab": {},
    "colab_type": "code",
    "executionInfo": {
     "elapsed": 2445,
     "status": "aborted",
     "timestamp": 1600192276566,
     "user": {
      "displayName": "Enock Kipkemboi",
      "photoUrl": "https://lh3.googleusercontent.com/a-/AOh14GizCzsQESXPA2F3fIxqQDEIPrYFkqYplrS9IJE=s64",
      "userId": "12001580697035227328"
     },
     "user_tz": -180
    },
    "id": "KNTieAhEYgwr"
   },
   "outputs": [],
   "source": [
    "#Functions don't always need input arguments or return arguments\n",
    "def sayHi():\n",
    "    print('Hi')\n",
    "\n",
    "sayHi()"
   ]
  },
  {
   "cell_type": "code",
   "execution_count": null,
   "metadata": {
    "colab": {},
    "colab_type": "code",
    "executionInfo": {
     "elapsed": 2443,
     "status": "aborted",
     "timestamp": 1600192276567,
     "user": {
      "displayName": "Enock Kipkemboi",
      "photoUrl": "https://lh3.googleusercontent.com/a-/AOh14GizCzsQESXPA2F3fIxqQDEIPrYFkqYplrS9IJE=s64",
      "userId": "12001580697035227328"
     },
     "user_tz": -180
    },
    "id": "tEk4ouNLYgws"
   },
   "outputs": [],
   "source": [
    "#Functions can also have multiple output arguments (just add them all in a comma separated list) too!\n",
    "def capitalizeMyName(firstName, lastName):\n",
    "    return firstName.capitalize(), lastName.capitalize()\n",
    "\n",
    "#Notice that the results are returned in a tuple!\n",
    "capitalizeMyName('jimmy', 'buffet')"
   ]
  },
  {
   "cell_type": "markdown",
   "metadata": {
    "colab_type": "text",
    "id": "Z7R3gbPFYgwu"
   },
   "source": [
    "Don't worry, python will remind you if you didn't input the right number of arguments!"
   ]
  },
  {
   "cell_type": "code",
   "execution_count": null,
   "metadata": {
    "colab": {},
    "colab_type": "code",
    "executionInfo": {
     "elapsed": 2442,
     "status": "aborted",
     "timestamp": 1600192276569,
     "user": {
      "displayName": "Enock Kipkemboi",
      "photoUrl": "https://lh3.googleusercontent.com/a-/AOh14GizCzsQESXPA2F3fIxqQDEIPrYFkqYplrS9IJE=s64",
      "userId": "12001580697035227328"
     },
     "user_tz": -180
    },
    "id": "d8QQEB7HYgwu"
   },
   "outputs": [],
   "source": [
    "def myFun(foo, bar):\n",
    "    return foo + bar\n",
    "\n",
    "myFun()"
   ]
  },
  {
   "cell_type": "markdown",
   "metadata": {
    "colab_type": "text",
    "id": "U9Mg1vSMYgwv"
   },
   "source": [
    "Python is really great about handling all kinds of types, so your inputs and outputs to functions can be pretty much anything! Lists, dictionaries, even other functions!"
   ]
  },
  {
   "cell_type": "code",
   "execution_count": null,
   "metadata": {
    "colab": {},
    "colab_type": "code",
    "executionInfo": {
     "elapsed": 2440,
     "status": "aborted",
     "timestamp": 1600192276570,
     "user": {
      "displayName": "Enock Kipkemboi",
      "photoUrl": "https://lh3.googleusercontent.com/a-/AOh14GizCzsQESXPA2F3fIxqQDEIPrYFkqYplrS9IJE=s64",
      "userId": "12001580697035227328"
     },
     "user_tz": -180
    },
    "id": "FGaPm-lZYgwv"
   },
   "outputs": [],
   "source": [
    "def metaFunctionBuilder(multiplier):\n",
    "    #This function builds another function that is a multiplier\n",
    "    def fun(x):\n",
    "        return multiplier*x\n",
    "    return fun\n",
    "\n",
    "#We can assign the new function to a variable that let's us access it\n",
    "newFunction = metaFunctionBuilder(5)\n",
    "\n",
    "#Look it works!\n",
    "newFunction(10)"
   ]
  },
  {
   "cell_type": "markdown",
   "metadata": {
    "colab_type": "text",
    "id": "ZFKBERGXYgw7"
   },
   "source": [
    "We can also put default arguments for functions (this is great for when we have arguments that don't change most of the time)"
   ]
  },
  {
   "cell_type": "code",
   "execution_count": null,
   "metadata": {
    "colab": {},
    "colab_type": "code",
    "executionInfo": {
     "elapsed": 2437,
     "status": "aborted",
     "timestamp": 1600192276571,
     "user": {
      "displayName": "Enock Kipkemboi",
      "photoUrl": "https://lh3.googleusercontent.com/a-/AOh14GizCzsQESXPA2F3fIxqQDEIPrYFkqYplrS9IJE=s64",
      "userId": "12001580697035227328"
     },
     "user_tz": -180
    },
    "id": "3R_71J4LYgw7"
   },
   "outputs": [],
   "source": [
    "def multiply(x, multiplier = 10):\n",
    "    return x*multiplier\n",
    "\n",
    "print('With Defaults:', multiply(5)) \n",
    "print('With Multiplier = 5:', multiply(5, multiplier = 5)) #Note we can specify the parameter with the name\n",
    "print('With Multiplier = 5:', multiply(5, 5)) #Or just put it in the right order"
   ]
  },
  {
   "cell_type": "markdown",
   "metadata": {
    "colab_type": "text",
    "id": "N8rh-FB_Ygw8"
   },
   "source": [
    "### <font color='#F9007A'> Quick knowledge check! </font>\n",
    "1. Write a function that calculates the area of a rectangle. "
   ]
  },
  {
   "cell_type": "code",
   "execution_count": null,
   "metadata": {
    "colab": {},
    "colab_type": "code",
    "executionInfo": {
     "elapsed": 2435,
     "status": "aborted",
     "timestamp": 1600192276572,
     "user": {
      "displayName": "Enock Kipkemboi",
      "photoUrl": "https://lh3.googleusercontent.com/a-/AOh14GizCzsQESXPA2F3fIxqQDEIPrYFkqYplrS9IJE=s64",
      "userId": "12001580697035227328"
     },
     "user_tz": -180
    },
    "id": "UcBKTIRhYgw9"
   },
   "outputs": [],
   "source": []
  },
  {
   "cell_type": "markdown",
   "metadata": {
    "colab_type": "text",
    "id": "aCjjTIqiYgw-"
   },
   "source": [
    "# BOOM END OF FUNCTIONS\n",
    "![functions](https://i.pinimg.com/564x/7c/6a/ca/7c6acaabf60032c86abd6951c6cfc557.jpg)\n",
    "\n",
    "\n",
    "# THATS IT YOU SLAYED YOUR PREWORK STARTER NOTEBOOK. NOW HEAD ON OVER TO YOUR PREWORK ASSIGNMENT\n",
    "\n"
   ]
  },
  {
   "cell_type": "code",
   "execution_count": null,
   "metadata": {
    "colab": {},
    "colab_type": "code",
    "executionInfo": {
     "elapsed": 2432,
     "status": "aborted",
     "timestamp": 1600192276572,
     "user": {
      "displayName": "Enock Kipkemboi",
      "photoUrl": "https://lh3.googleusercontent.com/a-/AOh14GizCzsQESXPA2F3fIxqQDEIPrYFkqYplrS9IJE=s64",
      "userId": "12001580697035227328"
     },
     "user_tz": -180
    },
    "id": "4s9G06OWYgw_"
   },
   "outputs": [],
   "source": []
  }
 ],
 "metadata": {
  "colab": {
   "name": "CS DS 2020 - Prework notebook.ipynb",
   "provenance": []
  },
  "kernelspec": {
   "display_name": "Python 3",
   "language": "python",
   "name": "python3"
  },
  "language_info": {
   "codemirror_mode": {
    "name": "ipython",
    "version": 3
   },
   "file_extension": ".py",
   "mimetype": "text/x-python",
   "name": "python",
   "nbconvert_exporter": "python",
   "pygments_lexer": "ipython3",
   "version": "3.8.8"
  }
 },
 "nbformat": 4,
 "nbformat_minor": 1
}
